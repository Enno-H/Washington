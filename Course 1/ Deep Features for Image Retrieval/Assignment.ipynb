{
 "cells": [
  {
   "cell_type": "code",
   "execution_count": 1,
   "metadata": {},
   "outputs": [],
   "source": [
    "import graphlab"
   ]
  },
  {
   "cell_type": "code",
   "execution_count": 2,
   "metadata": {},
   "outputs": [
    {
     "name": "stderr",
     "output_type": "stream",
     "text": [
      "[INFO] graphlab.cython.cy_server: GraphLab Create v2.1 started. Logging: /tmp/graphlab_server_1540418721.log\n"
     ]
    },
    {
     "name": "stdout",
     "output_type": "stream",
     "text": [
      "This non-commercial license of GraphLab Create for academic use is assigned to hi.xiaolonghuang@gmail.com and will expire on October 08, 2019.\n"
     ]
    }
   ],
   "source": [
    "image_train = graphlab.SFrame('image_train_data/')\n",
    "image_test = graphlab.SFrame('image_test_data/')"
   ]
  },
  {
   "cell_type": "code",
   "execution_count": 3,
   "metadata": {},
   "outputs": [
    {
     "data": {
      "text/html": [
       "<div style=\"max-height:1000px;max-width:1500px;overflow:auto;\"><table frame=\"box\" rules=\"cols\">\n",
       "    <tr>\n",
       "        <th style=\"padding-left: 1em; padding-right: 1em; text-align: center\">id</th>\n",
       "        <th style=\"padding-left: 1em; padding-right: 1em; text-align: center\">image</th>\n",
       "        <th style=\"padding-left: 1em; padding-right: 1em; text-align: center\">label</th>\n",
       "        <th style=\"padding-left: 1em; padding-right: 1em; text-align: center\">deep_features</th>\n",
       "        <th style=\"padding-left: 1em; padding-right: 1em; text-align: center\">image_array</th>\n",
       "    </tr>\n",
       "    <tr>\n",
       "        <td style=\"padding-left: 1em; padding-right: 1em; text-align: center; vertical-align: top\">24</td>\n",
       "        <td style=\"padding-left: 1em; padding-right: 1em; text-align: center; vertical-align: top\">Height: 32 Width: 32</td>\n",
       "        <td style=\"padding-left: 1em; padding-right: 1em; text-align: center; vertical-align: top\">bird</td>\n",
       "        <td style=\"padding-left: 1em; padding-right: 1em; text-align: center; vertical-align: top\">[0.242871761322,<br>1.09545373917, 0.0, ...</td>\n",
       "        <td style=\"padding-left: 1em; padding-right: 1em; text-align: center; vertical-align: top\">[73.0, 77.0, 58.0, 71.0,<br>68.0, 50.0, 77.0, 69.0, ...</td>\n",
       "    </tr>\n",
       "    <tr>\n",
       "        <td style=\"padding-left: 1em; padding-right: 1em; text-align: center; vertical-align: top\">33</td>\n",
       "        <td style=\"padding-left: 1em; padding-right: 1em; text-align: center; vertical-align: top\">Height: 32 Width: 32</td>\n",
       "        <td style=\"padding-left: 1em; padding-right: 1em; text-align: center; vertical-align: top\">cat</td>\n",
       "        <td style=\"padding-left: 1em; padding-right: 1em; text-align: center; vertical-align: top\">[0.525087952614, 0.0,<br>0.0, 0.0, 0.0, 0.0, ...</td>\n",
       "        <td style=\"padding-left: 1em; padding-right: 1em; text-align: center; vertical-align: top\">[7.0, 5.0, 8.0, 7.0, 5.0,<br>8.0, 5.0, 4.0, 6.0, 7.0, ...</td>\n",
       "    </tr>\n",
       "    <tr>\n",
       "        <td style=\"padding-left: 1em; padding-right: 1em; text-align: center; vertical-align: top\">36</td>\n",
       "        <td style=\"padding-left: 1em; padding-right: 1em; text-align: center; vertical-align: top\">Height: 32 Width: 32</td>\n",
       "        <td style=\"padding-left: 1em; padding-right: 1em; text-align: center; vertical-align: top\">cat</td>\n",
       "        <td style=\"padding-left: 1em; padding-right: 1em; text-align: center; vertical-align: top\">[0.566015958786, 0.0,<br>0.0, 0.0, 0.0, 0.0, ...</td>\n",
       "        <td style=\"padding-left: 1em; padding-right: 1em; text-align: center; vertical-align: top\">[169.0, 122.0, 65.0,<br>131.0, 108.0, 75.0, ...</td>\n",
       "    </tr>\n",
       "    <tr>\n",
       "        <td style=\"padding-left: 1em; padding-right: 1em; text-align: center; vertical-align: top\">70</td>\n",
       "        <td style=\"padding-left: 1em; padding-right: 1em; text-align: center; vertical-align: top\">Height: 32 Width: 32</td>\n",
       "        <td style=\"padding-left: 1em; padding-right: 1em; text-align: center; vertical-align: top\">dog</td>\n",
       "        <td style=\"padding-left: 1em; padding-right: 1em; text-align: center; vertical-align: top\">[1.12979578972, 0.0, 0.0,<br>0.778194487095, 0.0, ...</td>\n",
       "        <td style=\"padding-left: 1em; padding-right: 1em; text-align: center; vertical-align: top\">[154.0, 179.0, 152.0,<br>159.0, 183.0, 157.0, ...</td>\n",
       "    </tr>\n",
       "    <tr>\n",
       "        <td style=\"padding-left: 1em; padding-right: 1em; text-align: center; vertical-align: top\">90</td>\n",
       "        <td style=\"padding-left: 1em; padding-right: 1em; text-align: center; vertical-align: top\">Height: 32 Width: 32</td>\n",
       "        <td style=\"padding-left: 1em; padding-right: 1em; text-align: center; vertical-align: top\">bird</td>\n",
       "        <td style=\"padding-left: 1em; padding-right: 1em; text-align: center; vertical-align: top\">[1.71786928177, 0.0, 0.0,<br>0.0, 0.0, 0.0, ...</td>\n",
       "        <td style=\"padding-left: 1em; padding-right: 1em; text-align: center; vertical-align: top\">[216.0, 195.0, 180.0,<br>201.0, 178.0, 160.0, ...</td>\n",
       "    </tr>\n",
       "    <tr>\n",
       "        <td style=\"padding-left: 1em; padding-right: 1em; text-align: center; vertical-align: top\">97</td>\n",
       "        <td style=\"padding-left: 1em; padding-right: 1em; text-align: center; vertical-align: top\">Height: 32 Width: 32</td>\n",
       "        <td style=\"padding-left: 1em; padding-right: 1em; text-align: center; vertical-align: top\">automobile</td>\n",
       "        <td style=\"padding-left: 1em; padding-right: 1em; text-align: center; vertical-align: top\">[1.57818555832, 0.0, 0.0,<br>0.0, 0.0, 0.0, ...</td>\n",
       "        <td style=\"padding-left: 1em; padding-right: 1em; text-align: center; vertical-align: top\">[33.0, 44.0, 27.0, 29.0,<br>44.0, 31.0, 32.0, 45.0, ...</td>\n",
       "    </tr>\n",
       "    <tr>\n",
       "        <td style=\"padding-left: 1em; padding-right: 1em; text-align: center; vertical-align: top\">107</td>\n",
       "        <td style=\"padding-left: 1em; padding-right: 1em; text-align: center; vertical-align: top\">Height: 32 Width: 32</td>\n",
       "        <td style=\"padding-left: 1em; padding-right: 1em; text-align: center; vertical-align: top\">dog</td>\n",
       "        <td style=\"padding-left: 1em; padding-right: 1em; text-align: center; vertical-align: top\">[0.0, 0.0,<br>0.220677852631, 0.0,  ...</td>\n",
       "        <td style=\"padding-left: 1em; padding-right: 1em; text-align: center; vertical-align: top\">[97.0, 51.0, 31.0, 104.0,<br>58.0, 38.0, 107.0, 61.0, ...</td>\n",
       "    </tr>\n",
       "    <tr>\n",
       "        <td style=\"padding-left: 1em; padding-right: 1em; text-align: center; vertical-align: top\">121</td>\n",
       "        <td style=\"padding-left: 1em; padding-right: 1em; text-align: center; vertical-align: top\">Height: 32 Width: 32</td>\n",
       "        <td style=\"padding-left: 1em; padding-right: 1em; text-align: center; vertical-align: top\">bird</td>\n",
       "        <td style=\"padding-left: 1em; padding-right: 1em; text-align: center; vertical-align: top\">[0.0, 0.23753464222, 0.0,<br>0.0, 0.0, 0.0, ...</td>\n",
       "        <td style=\"padding-left: 1em; padding-right: 1em; text-align: center; vertical-align: top\">[93.0, 96.0, 88.0, 102.0,<br>106.0, 97.0, 117.0, ...</td>\n",
       "    </tr>\n",
       "    <tr>\n",
       "        <td style=\"padding-left: 1em; padding-right: 1em; text-align: center; vertical-align: top\">136</td>\n",
       "        <td style=\"padding-left: 1em; padding-right: 1em; text-align: center; vertical-align: top\">Height: 32 Width: 32</td>\n",
       "        <td style=\"padding-left: 1em; padding-right: 1em; text-align: center; vertical-align: top\">automobile</td>\n",
       "        <td style=\"padding-left: 1em; padding-right: 1em; text-align: center; vertical-align: top\">[0.0, 0.0, 0.0, 0.0, 0.0,<br>0.0, 7.5737862587, 0.0, ...</td>\n",
       "        <td style=\"padding-left: 1em; padding-right: 1em; text-align: center; vertical-align: top\">[35.0, 59.0, 53.0, 36.0,<br>56.0, 56.0, 42.0, 62.0, ...</td>\n",
       "    </tr>\n",
       "    <tr>\n",
       "        <td style=\"padding-left: 1em; padding-right: 1em; text-align: center; vertical-align: top\">138</td>\n",
       "        <td style=\"padding-left: 1em; padding-right: 1em; text-align: center; vertical-align: top\">Height: 32 Width: 32</td>\n",
       "        <td style=\"padding-left: 1em; padding-right: 1em; text-align: center; vertical-align: top\">bird</td>\n",
       "        <td style=\"padding-left: 1em; padding-right: 1em; text-align: center; vertical-align: top\">[0.658935725689, 0.0,<br>0.0, 0.0, 0.0, 0.0, ...</td>\n",
       "        <td style=\"padding-left: 1em; padding-right: 1em; text-align: center; vertical-align: top\">[205.0, 193.0, 195.0,<br>200.0, 187.0, 193.0, ...</td>\n",
       "    </tr>\n",
       "</table>\n",
       "[10 rows x 5 columns]<br/>\n",
       "</div>"
      ],
      "text/plain": [
       "Columns:\n",
       "\tid\tint\n",
       "\timage\tImage\n",
       "\tlabel\tstr\n",
       "\tdeep_features\tarray\n",
       "\timage_array\tarray\n",
       "\n",
       "Rows: 10\n",
       "\n",
       "Data:\n",
       "+-----+----------------------+------------+-------------------------------+\n",
       "|  id |        image         |   label    |         deep_features         |\n",
       "+-----+----------------------+------------+-------------------------------+\n",
       "|  24 | Height: 32 Width: 32 |    bird    | [0.242871761322, 1.0954537... |\n",
       "|  33 | Height: 32 Width: 32 |    cat     | [0.525087952614, 0.0, 0.0,... |\n",
       "|  36 | Height: 32 Width: 32 |    cat     | [0.566015958786, 0.0, 0.0,... |\n",
       "|  70 | Height: 32 Width: 32 |    dog     | [1.12979578972, 0.0, 0.0, ... |\n",
       "|  90 | Height: 32 Width: 32 |    bird    | [1.71786928177, 0.0, 0.0, ... |\n",
       "|  97 | Height: 32 Width: 32 | automobile | [1.57818555832, 0.0, 0.0, ... |\n",
       "| 107 | Height: 32 Width: 32 |    dog     | [0.0, 0.0, 0.220677852631,... |\n",
       "| 121 | Height: 32 Width: 32 |    bird    | [0.0, 0.23753464222, 0.0, ... |\n",
       "| 136 | Height: 32 Width: 32 | automobile | [0.0, 0.0, 0.0, 0.0, 0.0, ... |\n",
       "| 138 | Height: 32 Width: 32 |    bird    | [0.658935725689, 0.0, 0.0,... |\n",
       "+-----+----------------------+------------+-------------------------------+\n",
       "+-------------------------------+\n",
       "|          image_array          |\n",
       "+-------------------------------+\n",
       "| [73.0, 77.0, 58.0, 71.0, 6... |\n",
       "| [7.0, 5.0, 8.0, 7.0, 5.0, ... |\n",
       "| [169.0, 122.0, 65.0, 131.0... |\n",
       "| [154.0, 179.0, 152.0, 159.... |\n",
       "| [216.0, 195.0, 180.0, 201.... |\n",
       "| [33.0, 44.0, 27.0, 29.0, 4... |\n",
       "| [97.0, 51.0, 31.0, 104.0, ... |\n",
       "| [93.0, 96.0, 88.0, 102.0, ... |\n",
       "| [35.0, 59.0, 53.0, 36.0, 5... |\n",
       "| [205.0, 193.0, 195.0, 200.... |\n",
       "+-------------------------------+\n",
       "[10 rows x 5 columns]"
      ]
     },
     "execution_count": 3,
     "metadata": {},
     "output_type": "execute_result"
    }
   ],
   "source": [
    "image_train.head()"
   ]
  },
  {
   "cell_type": "code",
   "execution_count": 4,
   "metadata": {},
   "outputs": [
    {
     "data": {
      "text/plain": [
       "\n",
       "+------------------+-------+----------+\n",
       "|       item       | value | is exact |\n",
       "+------------------+-------+----------+\n",
       "|      Length      |  2005 |   Yes    |\n",
       "| # Missing Values |   0   |   Yes    |\n",
       "| # unique values  |   4   |    No    |\n",
       "+------------------+-------+----------+\n",
       "\n",
       "Most frequent items:\n",
       "+-------+------------+-----+-----+------+\n",
       "| value | automobile | cat | dog | bird |\n",
       "+-------+------------+-----+-----+------+\n",
       "| count |    509     | 509 | 509 | 478  |\n",
       "+-------+------------+-----+-----+------+\n"
      ]
     },
     "execution_count": 4,
     "metadata": {},
     "output_type": "execute_result"
    }
   ],
   "source": [
    "image_train['label'].sketch_summary()"
   ]
  },
  {
   "cell_type": "code",
   "execution_count": 5,
   "metadata": {},
   "outputs": [
    {
     "data": {
      "application/javascript": [
       "$(\"head\").append($(\"<link/>\").attr({\n",
       "  rel:  \"stylesheet\",\n",
       "  type: \"text/css\",\n",
       "  href: \"//cdnjs.cloudflare.com/ajax/libs/font-awesome/4.1.0/css/font-awesome.min.css\"\n",
       "}));\n",
       "$(\"head\").append($(\"<link/>\").attr({\n",
       "  rel:  \"stylesheet\",\n",
       "  type: \"text/css\",\n",
       "  href: \"https://static.turi.com/products/graphlab-create/2.1/canvas/css/canvas.css\"\n",
       "}));\n",
       "\n",
       "            (function(){\n",
       "\n",
       "                var e = null;\n",
       "                if (typeof element == 'undefined') {\n",
       "                    var scripts = document.getElementsByTagName('script');\n",
       "                    var thisScriptTag = scripts[scripts.length-1];\n",
       "                    var parentDiv = thisScriptTag.parentNode;\n",
       "                    e = document.createElement('div');\n",
       "                    parentDiv.appendChild(e);\n",
       "                } else {\n",
       "                    e = element[0];\n",
       "                }\n",
       "\n",
       "                if (typeof requirejs !== 'undefined') {\n",
       "                    // disable load timeout; ipython_app.js is large and can take a while to load.\n",
       "                    requirejs.config({waitSeconds: 0});\n",
       "                }\n",
       "\n",
       "                require(['https://static.turi.com/products/graphlab-create/2.1/canvas/js/ipython_app.js'], function(IPythonApp){\n",
       "                    var app = new IPythonApp();\n",
       "                    app.attachView('sarray','Categorical', {\"ipython\": true, \"sketch\": {\"complete\": true, \"numeric\": false, \"num_unique\": 4, \"num_undefined\": 0, \"progress\": 1.0, \"frequent_items\": {\"automobile\": {\"frequency\": 509, \"value\": \"automobile\"}, \"bird\": {\"frequency\": 478, \"value\": \"bird\"}, \"dog\": {\"frequency\": 509, \"value\": \"dog\"}, \"cat\": {\"frequency\": 509, \"value\": \"cat\"}}, \"size\": 2005}, \"selected_variable\": {\"name\": [\"<SArray>\"], \"dtype\": \"str\", \"view_component\": \"Categorical\", \"view_file\": \"sarray\", \"descriptives\": {\"rows\": 2005}, \"type\": \"SArray\", \"view_components\": [\"Categorical\"]}, \"histogram\": null}, e);\n",
       "                });\n",
       "            })();\n",
       "        "
      ]
     },
     "metadata": {},
     "output_type": "display_data"
    }
   ],
   "source": [
    "graphlab.canvas.set_target('ipynb')\n",
    "image_train['label'].show()"
   ]
  },
  {
   "cell_type": "code",
   "execution_count": 6,
   "metadata": {},
   "outputs": [],
   "source": [
    "car_train = image_train[image_train['label']=='automobile']"
   ]
  },
  {
   "cell_type": "code",
   "execution_count": 7,
   "metadata": {},
   "outputs": [],
   "source": [
    "dog_train = image_train[image_train['label']=='dog']"
   ]
  },
  {
   "cell_type": "code",
   "execution_count": 8,
   "metadata": {},
   "outputs": [],
   "source": [
    "cat_train = image_train[image_train['label']=='cat']"
   ]
  },
  {
   "cell_type": "code",
   "execution_count": 9,
   "metadata": {},
   "outputs": [],
   "source": [
    "bird_train = image_train[image_train['label']=='bird']"
   ]
  },
  {
   "cell_type": "code",
   "execution_count": 10,
   "metadata": {},
   "outputs": [],
   "source": [
    "dog_test = image_test[image_test['label']=='dog']"
   ]
  },
  {
   "cell_type": "code",
   "execution_count": 11,
   "metadata": {},
   "outputs": [],
   "source": [
    "cat_test = image_test[image_test['label']=='cat']"
   ]
  },
  {
   "cell_type": "code",
   "execution_count": 13,
   "metadata": {},
   "outputs": [],
   "source": [
    "car_test = image_test[image_test['label']=='automobile']"
   ]
  },
  {
   "cell_type": "code",
   "execution_count": 15,
   "metadata": {},
   "outputs": [],
   "source": [
    "bird_test = image_test[image_test['label']=='bird']"
   ]
  },
  {
   "cell_type": "code",
   "execution_count": 18,
   "metadata": {},
   "outputs": [
    {
     "data": {
      "text/html": [
       "<pre>Starting brute force nearest neighbors model training.</pre>"
      ],
      "text/plain": [
       "Starting brute force nearest neighbors model training."
      ]
     },
     "metadata": {},
     "output_type": "display_data"
    }
   ],
   "source": [
    "car_model = graphlab.nearest_neighbors.create(car_train,features=['deep_features'],\n",
    "                                             label='id')"
   ]
  },
  {
   "cell_type": "code",
   "execution_count": 19,
   "metadata": {},
   "outputs": [
    {
     "data": {
      "text/html": [
       "<pre>Starting brute force nearest neighbors model training.</pre>"
      ],
      "text/plain": [
       "Starting brute force nearest neighbors model training."
      ]
     },
     "metadata": {},
     "output_type": "display_data"
    }
   ],
   "source": [
    "dog_model = graphlab.nearest_neighbors.create(dog_train,features=['deep_features'],\n",
    "                                             label='id')"
   ]
  },
  {
   "cell_type": "code",
   "execution_count": 20,
   "metadata": {},
   "outputs": [
    {
     "data": {
      "text/html": [
       "<pre>Starting brute force nearest neighbors model training.</pre>"
      ],
      "text/plain": [
       "Starting brute force nearest neighbors model training."
      ]
     },
     "metadata": {},
     "output_type": "display_data"
    }
   ],
   "source": [
    "cat_model = graphlab.nearest_neighbors.create(cat_train,features=['deep_features'],\n",
    "                                             label='id')"
   ]
  },
  {
   "cell_type": "code",
   "execution_count": 21,
   "metadata": {},
   "outputs": [
    {
     "data": {
      "text/html": [
       "<pre>Starting brute force nearest neighbors model training.</pre>"
      ],
      "text/plain": [
       "Starting brute force nearest neighbors model training."
      ]
     },
     "metadata": {},
     "output_type": "display_data"
    }
   ],
   "source": [
    "bird_model = graphlab.nearest_neighbors.create(bird_train,features=['deep_features'],\n",
    "                                             label='id')"
   ]
  },
  {
   "cell_type": "code",
   "execution_count": 22,
   "metadata": {},
   "outputs": [],
   "source": [
    "def get_images_from_ids(query_result):\n",
    "    return image_train.filter_by(query_result['reference_label'],'id')"
   ]
  },
  {
   "cell_type": "code",
   "execution_count": 23,
   "metadata": {},
   "outputs": [],
   "source": [
    "#cat"
   ]
  },
  {
   "cell_type": "code",
   "execution_count": 24,
   "metadata": {},
   "outputs": [
    {
     "data": {
      "application/javascript": [
       "$(\"head\").append($(\"<link/>\").attr({\n",
       "  rel:  \"stylesheet\",\n",
       "  type: \"text/css\",\n",
       "  href: \"//cdnjs.cloudflare.com/ajax/libs/font-awesome/4.1.0/css/font-awesome.min.css\"\n",
       "}));\n",
       "$(\"head\").append($(\"<link/>\").attr({\n",
       "  rel:  \"stylesheet\",\n",
       "  type: \"text/css\",\n",
       "  href: \"https://static.turi.com/products/graphlab-create/2.1/canvas/css/canvas.css\"\n",
       "}));\n",
       "\n",
       "            (function(){\n",
       "\n",
       "                var e = null;\n",
       "                if (typeof element == 'undefined') {\n",
       "                    var scripts = document.getElementsByTagName('script');\n",
       "                    var thisScriptTag = scripts[scripts.length-1];\n",
       "                    var parentDiv = thisScriptTag.parentNode;\n",
       "                    e = document.createElement('div');\n",
       "                    parentDiv.appendChild(e);\n",
       "                } else {\n",
       "                    e = element[0];\n",
       "                }\n",
       "\n",
       "                if (typeof requirejs !== 'undefined') {\n",
       "                    // disable load timeout; ipython_app.js is large and can take a while to load.\n",
       "                    requirejs.config({waitSeconds: 0});\n",
       "                }\n",
       "\n",
       "                require(['https://static.turi.com/products/graphlab-create/2.1/canvas/js/ipython_app.js'], function(IPythonApp){\n",
       "                    var app = new IPythonApp();\n",
       "                    app.attachView('sarray','Images', {\"ipython\": true, \"rows\": [{\"format\": \"raw\", \"value\": [158, 112, 49, 159, 111, 47, 165, 116, 51, 166, 118, 53, 160, 112, 46, 156, 109, 41, 162, 115, 47, 159, 113, 45, 158, 111, 44, 159, 113, 41, 161, 116, 41, 160, 111, 52, 161, 111, 49, 166, 117, 41, 169, 117, 45, 170, 119, 44, 167, 117, 40, 162, 113, 38, 160, 111, 39, 160, 112, 43, 156, 109, 44, 149, 107, 45, 150, 107, 45, 148, 106, 43, 149, 107, 44, 143, 101, 39, 140, 98, 43, 141, 97, 41, 143, 97, 38, 137, 95, 36, 126, 91, 36, 116, 85, 33, 152, 112, 51, 151, 110, 40, 159, 114, 45, 166, 116, 56, 162, 112, 49, 160, 113, 43, 164, 117, 47, 162, 114, 45, 163, 116, 46, 156, 110, 38, 155, 111, 41, 159, 110, 54, 163, 113, 52, 170, 119, 41, 171, 117, 40, 171, 115, 33, 169, 115, 30, 160, 111, 33, 154, 112, 41, 151, 115, 50, 145, 110, 53, 139, 104, 55, 140, 102, 52, 141, 100, 48, 149, 105, 50, 147, 102, 46, 145, 102, 45, 142, 97, 38, 143, 98, 34, 136, 95, 31, 125, 91, 32, 119, 88, 34, 151, 110, 47, 151, 109, 33, 158, 111, 36, 167, 111, 48, 160, 106, 42, 163, 115, 44, 165, 117, 45, 165, 117, 45, 163, 115, 43, 162, 115, 43, 158, 114, 48, 157, 109, 57, 161, 111, 51, 166, 115, 38, 167, 114, 37, 169, 113, 35, 170, 116, 39, 159, 114, 47, 145, 111, 54, 121, 96, 49, 110, 90, 52, 98, 78, 50, 101, 77, 47, 114, 85, 50, 120, 86, 48, 134, 96, 55, 143, 103, 51, 140, 99, 39, 142, 99, 35, 139, 98, 34, 130, 95, 34, 120, 89, 33, 155, 107, 40, 155, 110, 32, 160, 109, 31, 174, 112, 44, 167, 110, 43, 167, 117, 46, 169, 120, 48, 169, 119, 48, 165, 115, 44, 165, 117, 45, 167, 123, 57, 191, 146, 95, 177, 130, 75, 157, 111, 41, 162, 115, 47, 164, 114, 54, 158, 112, 58, 149, 111, 67, 104, 80, 47, 103, 87, 65, 98, 90, 76, 92, 90, 84, 80, 75, 66, 74, 63, 50, 86, 70, 52, 83, 62, 39, 113, 85, 45, 132, 98, 46, 140, 102, 43, 140, 101, 39, 136, 99, 39, 127, 94, 36, 155, 107, 41, 156, 114, 48, 161, 115, 49, 170, 114, 47, 169, 114, 43, 163, 113, 40, 169, 120, 47, 166, 116, 44, 164, 113, 41, 164, 116, 42, 173, 128, 59, 246, 214, 164, 195, 156, 107, 151, 114, 56, 146, 111, 60, 142, 108, 71, 111, 80, 50, 78, 53, 31, 85, 69, 56, 113, 103, 98, 112, 110, 111, 106, 114, 118, 97, 102, 105, 93, 94, 93, 74, 72, 67, 84, 78, 70, 85, 73, 47, 105, 83, 45, 128, 96, 48, 138, 101, 46, 133, 94, 36, 129, 93, 36, 148, 109, 54, 133, 104, 64, 130, 100, 57, 147, 112, 53, 161, 115, 44, 165, 113, 39, 167, 116, 41, 167, 115, 41, 163, 111, 37, 165, 116, 39, 163, 118, 42, 180, 138, 85, 157, 122, 78, 128, 102, 58, 97, 75, 43, 66, 50, 31, 69, 58, 43, 66, 56, 45, 89, 83, 76, 118, 113, 110, 122, 121, 120, 119, 122, 122, 114, 116, 116, 94, 96, 96, 99, 100, 97, 91, 91, 86, 58, 58, 47, 67, 58, 37, 108, 84, 49, 140, 105, 58, 138, 98, 44, 134, 95, 40, 127, 100, 57, 109, 95, 80, 47, 37, 17, 88, 74, 28, 153, 117, 48, 170, 118, 43, 168, 115, 40, 170, 118, 43, 169, 117, 42, 166, 116, 37, 164, 120, 39, 147, 107, 52, 129, 98, 59, 127, 108, 75, 100, 87, 70, 68, 67, 57, 78, 83, 72, 72, 75, 64, 83, 84, 74, 132, 130, 121, 146, 142, 132, 124, 118, 108, 105, 99, 90, 107, 102, 94, 115, 111, 103, 85, 83, 77, 63, 71, 69, 46, 47, 39, 79, 61, 36, 132, 98, 58, 141, 99, 48, 134, 93, 39, 131, 115, 90, 99, 96, 92, 42, 43, 38, 70, 64, 41, 143, 111, 56, 167, 117, 42, 165, 114, 36, 168, 116, 39, 171, 119, 49, 161, 113, 51, 140, 109, 51, 120, 94, 49, 130, 110, 77, 144, 131, 107, 116, 106, 93, 88, 87, 79, 91, 95, 88, 85, 88, 82, 77, 77, 69, 124, 118, 107, 163, 153, 140, 136, 124, 112, 102, 93, 81, 106, 98, 88, 100, 93, 84, 85, 81, 74, 54, 60, 58, 49, 53, 49, 57, 47, 32, 107, 83, 50, 138, 103, 51, 136, 97, 39, 170, 161, 144, 103, 105, 105, 54, 58, 59, 124, 121, 113, 153, 124, 82, 161, 113, 43, 163, 117, 41, 166, 122, 50, 165, 121, 66, 174, 135, 95, 113, 89, 59, 125, 105, 78, 157, 141, 121, 156, 143, 128, 121, 111, 101, 86, 80, 74, 82, 81, 77, 84, 85, 82, 80, 78, 73, 81, 71, 61, 138, 125, 112, 146, 135, 123, 113, 103, 93, 87, 79, 70, 83, 77, 69, 86, 82, 76, 71, 73, 67, 56, 57, 53, 40, 35, 27, 74, 59, 35, 133, 106, 59, 137, 103, 45, 180, 176, 163, 134, 139, 143, 94, 100, 105, 154, 154, 149, 174, 149, 112, 158, 116, 51, 156, 116, 47, 153, 118, 60, 207, 180, 146, 237, 214, 198, 207, 180, 166, 156, 131, 119, 174, 153, 145, 148, 131, 125, 125, 110, 107, 93, 85, 79, 86, 84, 79, 74, 74, 71, 59, 57, 53, 76, 68, 58, 137, 125, 112, 143, 133, 122, 133, 124, 114, 106, 98, 89, 86, 81, 74, 87, 85, 78, 84, 85, 78, 75, 76, 71, 50, 49, 43, 40, 30, 15, 95, 75, 44, 132, 103, 57, 183, 183, 175, 108, 116, 122, 142, 151, 158, 165, 169, 168, 177, 156, 122, 155, 112, 50, 159, 118, 51, 122, 89, 47, 213, 197, 179, 237, 224, 226, 220, 191, 188, 164, 135, 131, 183, 159, 155, 156, 137, 132, 125, 108, 104, 120, 111, 104, 78, 76, 69, 80, 80, 77, 45, 44, 40, 91, 85, 77, 175, 165, 154, 157, 147, 137, 155, 147, 138, 107, 100, 92, 87, 83, 77, 103, 102, 96, 88, 88, 79, 78, 79, 73, 59, 59, 59, 41, 36, 33, 59, 46, 31, 104, 81, 46, 188, 191, 189, 100, 108, 116, 135, 144, 153, 170, 175, 178, 187, 167, 136, 166, 120, 59, 173, 123, 55, 134, 93, 44, 117, 95, 80, 194, 182, 188, 199, 171, 164, 170, 142, 133, 185, 161, 151, 189, 171, 159, 134, 119, 106, 117, 107, 95, 102, 98, 89, 84, 84, 79, 38, 38, 34, 125, 121, 113, 210, 201, 192, 160, 152, 142, 146, 139, 130, 93, 89, 82, 83, 80, 75, 94, 93, 88, 104, 104, 94, 85, 87, 81, 73, 75, 78, 55, 53, 55, 62, 55, 48, 76, 56, 26, 189, 194, 194, 90, 96, 105, 127, 134, 144, 175, 180, 185, 174, 156, 133, 166, 123, 68, 178, 123, 53, 159, 109, 47, 97, 68, 44, 168, 154, 152, 168, 144, 126, 137, 114, 94, 186, 166, 148, 216, 202, 183, 160, 149, 129, 123, 113, 98, 120, 114, 105, 115, 114, 109, 50, 50, 47, 150, 147, 140, 194, 187, 178, 155, 149, 140, 123, 118, 111, 91, 88, 83, 84, 83, 79, 84, 84, 80, 95, 95, 85, 86, 87, 81, 84, 87, 89, 73, 73, 73, 79, 74, 64, 73, 55, 24, 189, 192, 193, 93, 95, 103, 152, 154, 163, 185, 188, 192, 119, 110, 98, 136, 106, 66, 173, 124, 58, 167, 116, 50, 103, 72, 39, 147, 132, 120, 145, 125, 103, 167, 149, 127, 189, 174, 155, 226, 216, 200, 180, 172, 157, 141, 131, 117, 126, 117, 107, 117, 114, 109, 71, 71, 68, 154, 152, 147, 186, 181, 174, 149, 144, 136, 114, 110, 104, 87, 85, 80, 80, 80, 76, 72, 73, 70, 80, 80, 72, 99, 100, 94, 100, 101, 99, 90, 88, 81, 97, 89, 69, 94, 73, 34, 194, 196, 196, 108, 107, 112, 168, 167, 172, 186, 186, 188, 105, 109, 109, 99, 89, 67, 156, 119, 62, 167, 122, 55, 100, 74, 34, 115, 106, 88, 138, 123, 103, 198, 185, 169, 190, 180, 169, 172, 165, 159, 145, 140, 140, 154, 143, 134, 146, 136, 125, 103, 100, 95, 71, 71, 70, 152, 152, 149, 179, 175, 170, 137, 133, 127, 130, 128, 122, 110, 109, 105, 85, 86, 83, 91, 93, 91, 95, 96, 90, 109, 110, 104, 115, 116, 111, 100, 96, 80, 97, 85, 53, 117, 95, 47, 197, 197, 197, 132, 129, 136, 172, 167, 174, 184, 178, 181, 130, 137, 142, 78, 83, 77, 140, 120, 88, 155, 125, 77, 115, 94, 52, 130, 120, 93, 143, 131, 116, 230, 221, 211, 242, 236, 230, 145, 138, 137, 135, 130, 130, 131, 121, 112, 121, 112, 101, 108, 104, 95, 95, 88, 75, 144, 134, 118, 168, 159, 146, 152, 147, 138, 112, 108, 101, 87, 85, 80, 71, 72, 68, 87, 88, 87, 105, 104, 99, 112, 109, 99, 120, 110, 93, 103, 86, 54, 121, 96, 48, 136, 104, 48, 203, 203, 204, 146, 146, 160, 168, 164, 178, 191, 182, 188, 168, 170, 172, 78, 86, 90, 126, 125, 126, 138, 126, 113, 138, 121, 82, 96, 80, 37, 154, 143, 133, 173, 163, 155, 162, 152, 141, 140, 132, 117, 113, 106, 88, 113, 106, 90, 101, 101, 92, 105, 101, 87, 112, 90, 58, 171, 143, 104, 156, 138, 109, 148, 141, 126, 135, 130, 118, 109, 105, 97, 78, 76, 72, 79, 79, 77, 94, 93, 94, 101, 91, 82, 107, 83, 55, 125, 88, 45, 151, 108, 55, 144, 104, 46, 214, 215, 215, 163, 166, 180, 164, 167, 184, 183, 184, 194, 176, 182, 186, 94, 102, 105, 96, 96, 102, 156, 149, 145, 148, 137, 111, 106, 93, 61, 129, 116, 105, 118, 105, 95, 114, 102, 89, 116, 105, 89, 102, 91, 73, 115, 110, 98, 86, 91, 88, 101, 103, 95, 144, 128, 102, 118, 96, 64, 68, 56, 32, 128, 120, 105, 133, 126, 115, 75, 69, 61, 60, 56, 51, 58, 56, 53, 71, 70, 65, 102, 93, 78, 116, 94, 64, 143, 112, 68, 150, 116, 64, 140, 110, 54, 212, 211, 205, 178, 184, 192, 167, 175, 189, 173, 181, 193, 176, 184, 188, 124, 131, 133, 86, 88, 96, 141, 139, 143, 153, 148, 141, 135, 128, 111, 104, 90, 80, 77, 64, 55, 134, 121, 108, 124, 111, 96, 129, 117, 100, 147, 143, 133, 85, 92, 93, 92, 96, 93, 150, 139, 120, 132, 117, 93, 117, 109, 92, 107, 99, 86, 75, 68, 58, 64, 59, 52, 44, 41, 39, 65, 62, 60, 86, 69, 40, 133, 105, 59, 155, 119, 62, 160, 120, 54, 154, 115, 45, 151, 111, 46, 199, 192, 180, 187, 189, 187, 171, 176, 181, 174, 179, 185, 177, 182, 184, 144, 149, 152, 86, 90, 99, 119, 121, 132, 122, 124, 130, 137, 136, 135, 144, 134, 126, 70, 59, 51, 129, 118, 108, 108, 97, 86, 145, 134, 123, 184, 176, 168, 116, 118, 118, 73, 75, 73, 131, 119, 103, 137, 124, 105, 134, 129, 118, 89, 86, 78, 51, 49, 44, 52, 51, 50, 47, 49, 52, 90, 90, 93, 121, 91, 60, 163, 118, 68, 171, 121, 64, 164, 113, 52, 158, 111, 50, 149, 107, 46, 165, 156, 146, 195, 193, 187, 179, 178, 175, 177, 173, 172, 181, 181, 180, 152, 157, 160, 99, 103, 111, 131, 135, 146, 171, 175, 185, 103, 105, 111, 93, 90, 87, 80, 77, 73, 93, 90, 86, 122, 118, 116, 178, 173, 173, 191, 182, 177, 150, 148, 148, 100, 100, 101, 89, 78, 66, 87, 77, 63, 60, 61, 57, 46, 52, 54, 38, 46, 51, 24, 33, 41, 46, 57, 69, 60, 71, 83, 108, 100, 75, 144, 125, 82, 144, 123, 76, 128, 109, 61, 127, 113, 69, 120, 105, 63, 117, 120, 124, 195, 200, 200, 177, 178, 176, 178, 169, 168, 181, 179, 179, 138, 144, 147, 83, 87, 91, 150, 153, 159, 245, 247, 250, 219, 222, 225, 133, 140, 144, 134, 141, 147, 149, 156, 164, 176, 182, 192, 190, 196, 208, 194, 192, 197, 168, 172, 181, 125, 133, 143, 110, 109, 109, 61, 62, 62, 35, 49, 58, 34, 54, 68, 49, 70, 87, 58, 81, 102, 61, 85, 110, 58, 84, 111, 69, 99, 122, 72, 101, 119, 78, 104, 120, 69, 96, 112, 59, 92, 112, 55, 90, 115, 79, 105, 133, 175, 197, 213, 174, 183, 192, 176, 172, 177, 177, 177, 182, 140, 146, 150, 109, 112, 113, 211, 211, 209, 253, 252, 247, 252, 253, 252, 208, 224, 232, 124, 143, 157, 114, 132, 149, 124, 141, 162, 116, 133, 156, 122, 133, 152, 104, 124, 148, 68, 93, 119, 68, 87, 104, 60, 82, 101, 52, 84, 111, 50, 84, 110, 51, 85, 115, 56, 93, 125, 56, 94, 131, 51, 91, 130, 43, 96, 135, 51, 104, 141, 59, 108, 142, 48, 97, 132, 43, 97, 137, 42, 95, 132, 41, 89, 135, 96, 137, 168, 144, 168, 188, 168, 174, 188, 178, 182, 192, 165, 170, 174, 165, 166, 164, 246, 245, 237, 253, 251, 241, 227, 231, 228, 110, 136, 153, 60, 88, 111, 53, 80, 105, 49, 76, 105, 49, 75, 107, 48, 72, 101, 45, 79, 115, 42, 81, 120, 46, 81, 113, 42, 82, 116, 38, 86, 125, 46, 90, 125, 46, 89, 126, 43, 87, 128, 42, 89, 132, 46, 93, 139, 46, 94, 137, 50, 96, 137, 55, 96, 135, 53, 94, 134, 51, 95, 139, 45, 90, 133, 29, 91, 141, 29, 87, 130, 59, 102, 134, 131, 153, 176, 166, 179, 191, 132, 136, 137, 194, 189, 181, 254, 250, 242, 241, 245, 245, 141, 159, 175, 61, 94, 127, 50, 84, 118, 50, 84, 119, 51, 85, 121, 49, 83, 120, 50, 84, 116, 47, 86, 117, 42, 84, 117, 39, 82, 115, 34, 79, 113, 35, 83, 120, 39, 86, 125, 38, 85, 125, 42, 89, 130, 45, 92, 134, 56, 103, 145, 62, 103, 142, 59, 101, 142, 56, 102, 146, 50, 99, 144, 46, 94, 140, 51, 103, 149, 48, 111, 162, 30, 94, 140, 34, 85, 124, 73, 106, 136, 128, 148, 167, 128, 136, 143, 215, 213, 209, 255, 253, 249, 187, 198, 205, 66, 93, 118, 54, 91, 128, 50, 88, 125, 52, 90, 127, 52, 90, 127, 46, 83, 121, 45, 82, 115, 43, 82, 113, 41, 81, 112, 36, 80, 113, 39, 83, 117, 40, 86, 123, 40, 89, 131, 43, 92, 134, 46, 95, 138, 59, 108, 150, 62, 110, 152, 64, 109, 147, 59, 108, 149, 54, 108, 154, 50, 105, 152, 70, 123, 167, 83, 137, 182, 52, 114, 165, 35, 99, 147, 31, 86, 130, 41, 83, 122, 66, 95, 126, 128, 145, 164, 224, 229, 234, 240, 245, 247, 124, 143, 153, 58, 92, 114, 49, 87, 123, 56, 94, 131, 54, 92, 129, 44, 82, 119, 44, 82, 119, 47, 83, 119, 46, 84, 119, 43, 83, 119, 43, 86, 123, 44, 88, 127, 44, 90, 131, 45, 97, 141, 54, 106, 150, 58, 110, 154, 54, 105, 150, 46, 97, 141, 43, 95, 140, 36, 91, 138, 51, 108, 158, 73, 130, 178, 85, 138, 182, 76, 125, 169, 50, 110, 162, 35, 98, 149, 29, 89, 138, 35, 86, 133, 44, 83, 126, 78, 106, 138, 202, 219, 233, 211, 228, 234, 97, 126, 140, 65, 104, 126, 54, 94, 129, 48, 87, 124, 58, 97, 133, 48, 87, 123, 40, 80, 116, 45, 82, 119, 47, 84, 122, 48, 87, 126, 47, 89, 130, 46, 89, 132, 51, 97, 140, 39, 92, 138, 39, 93, 139, 48, 102, 148, 47, 101, 147, 39, 93, 139, 28, 85, 133, 40, 101, 153, 67, 129, 182, 67, 126, 176, 46, 98, 142, 51, 96, 139, 50, 108, 161, 35, 97, 147, 32, 92, 143, 33, 88, 141, 41, 88, 138, 46, 84, 125, 104, 133, 159, 170, 197, 211, 64, 100, 119, 54, 97, 121, 52, 94, 128, 53, 95, 130, 61, 103, 139, 58, 100, 135, 54, 96, 131, 45, 83, 120, 42, 79, 118, 41, 80, 120, 46, 88, 130, 49, 92, 135, 46, 92, 136, 42, 95, 139, 40, 93, 138, 39, 92, 136, 37, 90, 135, 40, 93, 138, 44, 102, 151, 63, 125, 178, 47, 110, 164, 31, 90, 140, 15, 60, 103, 51, 93, 136, 68, 124, 177, 42, 100, 148, 31, 88, 137, 38, 91, 146, 37, 87, 139, 43, 89, 132, 42, 79, 113, 71, 107, 133, 49, 89, 114, 31, 77, 105, 27, 71, 105, 38, 82, 117, 49, 93, 128, 56, 100, 135, 58, 102, 137, 53, 92, 128, 56, 94, 131, 60, 99, 137, 57, 99, 139, 53, 97, 138, 50, 95, 137, 45, 94, 136, 39, 88, 131, 33, 83, 125, 42, 91, 133, 62, 112, 154, 79, 132, 179, 73, 131, 181, 56, 116, 168, 38, 97, 146, 13, 64, 108, 40, 85, 127, 61, 116, 168, 49, 102, 148, 35, 85, 132, 43, 91, 143, 39, 90, 139, 42, 92, 134, 44, 88, 125, 40, 81, 112, 42, 85, 115, 27, 72, 104, 23, 67, 102, 30, 74, 109, 27, 71, 106, 29, 73, 108, 36, 80, 115, 47, 86, 120, 56, 95, 128, 62, 101, 135, 66, 109, 144, 75, 119, 156, 69, 113, 152, 49, 95, 134, 43, 88, 127, 43, 88, 127, 60, 105, 144, 85, 130, 170, 109, 156, 197, 93, 145, 190, 60, 115, 164, 26, 82, 130, 29, 82, 126, 20, 64, 107, 54, 107, 160, 56, 105, 149, 45, 89, 132, 43, 86, 134, 40, 89, 134, 40, 92, 132, 40, 87, 123, 38, 81, 115, 36, 79, 114, 26, 69, 105, 22, 66, 101, 29, 73, 108, 25, 69, 104, 29, 73, 108, 19, 63, 98, 18, 58, 89, 32, 70, 100, 47, 87, 118, 61, 104, 137, 74, 119, 152, 66, 111, 145, 53, 96, 131, 52, 95, 130, 45, 87, 123, 67, 109, 145, 89, 131, 167, 105, 146, 182, 89, 135, 175, 48, 99, 145, 24, 77, 124, 34, 84, 129, 21, 67, 110], \"height\": 32, \"channels\": 3, \"width\": 32, \"type\": \"image\", \"id\": 112285933968}], \"selected_variable\": {\"name\": [\"<SArray>\"], \"dtype\": \"Image\", \"view_component\": \"Images\", \"view_file\": \"sarray\", \"descriptives\": {\"rows\": 1}, \"type\": \"SArray\", \"view_components\": [\"Images\"]}}, e);\n",
       "                });\n",
       "            })();\n",
       "        "
      ]
     },
     "metadata": {},
     "output_type": "display_data"
    }
   ],
   "source": [
    "cat = image_test[0:1]\n",
    "cat['image'].show()"
   ]
  },
  {
   "cell_type": "code",
   "execution_count": 25,
   "metadata": {},
   "outputs": [
    {
     "data": {
      "text/html": [
       "<pre>Starting pairwise querying.</pre>"
      ],
      "text/plain": [
       "Starting pairwise querying."
      ]
     },
     "metadata": {},
     "output_type": "display_data"
    },
    {
     "data": {
      "text/html": [
       "<pre>+--------------+---------+-------------+--------------+</pre>"
      ],
      "text/plain": [
       "+--------------+---------+-------------+--------------+"
      ]
     },
     "metadata": {},
     "output_type": "display_data"
    },
    {
     "data": {
      "text/html": [
       "<pre>| Query points | # Pairs | % Complete. | Elapsed Time |</pre>"
      ],
      "text/plain": [
       "| Query points | # Pairs | % Complete. | Elapsed Time |"
      ]
     },
     "metadata": {},
     "output_type": "display_data"
    },
    {
     "data": {
      "text/html": [
       "<pre>+--------------+---------+-------------+--------------+</pre>"
      ],
      "text/plain": [
       "+--------------+---------+-------------+--------------+"
      ]
     },
     "metadata": {},
     "output_type": "display_data"
    },
    {
     "data": {
      "text/html": [
       "<pre>| 0            | 1       | 0.196464    | 14.062ms     |</pre>"
      ],
      "text/plain": [
       "| 0            | 1       | 0.196464    | 14.062ms     |"
      ]
     },
     "metadata": {},
     "output_type": "display_data"
    },
    {
     "data": {
      "text/html": [
       "<pre>| Done         |         | 100         | 75.887ms     |</pre>"
      ],
      "text/plain": [
       "| Done         |         | 100         | 75.887ms     |"
      ]
     },
     "metadata": {},
     "output_type": "display_data"
    },
    {
     "data": {
      "text/html": [
       "<pre>+--------------+---------+-------------+--------------+</pre>"
      ],
      "text/plain": [
       "+--------------+---------+-------------+--------------+"
      ]
     },
     "metadata": {},
     "output_type": "display_data"
    },
    {
     "data": {
      "text/html": [
       "<div style=\"max-height:1000px;max-width:1500px;overflow:auto;\"><table frame=\"box\" rules=\"cols\">\n",
       "    <tr>\n",
       "        <th style=\"padding-left: 1em; padding-right: 1em; text-align: center\">query_label</th>\n",
       "        <th style=\"padding-left: 1em; padding-right: 1em; text-align: center\">reference_label</th>\n",
       "        <th style=\"padding-left: 1em; padding-right: 1em; text-align: center\">distance</th>\n",
       "        <th style=\"padding-left: 1em; padding-right: 1em; text-align: center\">rank</th>\n",
       "    </tr>\n",
       "    <tr>\n",
       "        <td style=\"padding-left: 1em; padding-right: 1em; text-align: center; vertical-align: top\">0</td>\n",
       "        <td style=\"padding-left: 1em; padding-right: 1em; text-align: center; vertical-align: top\">16289</td>\n",
       "        <td style=\"padding-left: 1em; padding-right: 1em; text-align: center; vertical-align: top\">34.623719208</td>\n",
       "        <td style=\"padding-left: 1em; padding-right: 1em; text-align: center; vertical-align: top\">1</td>\n",
       "    </tr>\n",
       "    <tr>\n",
       "        <td style=\"padding-left: 1em; padding-right: 1em; text-align: center; vertical-align: top\">0</td>\n",
       "        <td style=\"padding-left: 1em; padding-right: 1em; text-align: center; vertical-align: top\">45646</td>\n",
       "        <td style=\"padding-left: 1em; padding-right: 1em; text-align: center; vertical-align: top\">36.0068799284</td>\n",
       "        <td style=\"padding-left: 1em; padding-right: 1em; text-align: center; vertical-align: top\">2</td>\n",
       "    </tr>\n",
       "    <tr>\n",
       "        <td style=\"padding-left: 1em; padding-right: 1em; text-align: center; vertical-align: top\">0</td>\n",
       "        <td style=\"padding-left: 1em; padding-right: 1em; text-align: center; vertical-align: top\">32139</td>\n",
       "        <td style=\"padding-left: 1em; padding-right: 1em; text-align: center; vertical-align: top\">36.5200813436</td>\n",
       "        <td style=\"padding-left: 1em; padding-right: 1em; text-align: center; vertical-align: top\">3</td>\n",
       "    </tr>\n",
       "    <tr>\n",
       "        <td style=\"padding-left: 1em; padding-right: 1em; text-align: center; vertical-align: top\">0</td>\n",
       "        <td style=\"padding-left: 1em; padding-right: 1em; text-align: center; vertical-align: top\">25713</td>\n",
       "        <td style=\"padding-left: 1em; padding-right: 1em; text-align: center; vertical-align: top\">36.7548502521</td>\n",
       "        <td style=\"padding-left: 1em; padding-right: 1em; text-align: center; vertical-align: top\">4</td>\n",
       "    </tr>\n",
       "    <tr>\n",
       "        <td style=\"padding-left: 1em; padding-right: 1em; text-align: center; vertical-align: top\">0</td>\n",
       "        <td style=\"padding-left: 1em; padding-right: 1em; text-align: center; vertical-align: top\">331</td>\n",
       "        <td style=\"padding-left: 1em; padding-right: 1em; text-align: center; vertical-align: top\">36.8731228168</td>\n",
       "        <td style=\"padding-left: 1em; padding-right: 1em; text-align: center; vertical-align: top\">5</td>\n",
       "    </tr>\n",
       "</table>\n",
       "[5 rows x 4 columns]<br/>\n",
       "</div>"
      ],
      "text/plain": [
       "Columns:\n",
       "\tquery_label\tint\n",
       "\treference_label\tint\n",
       "\tdistance\tfloat\n",
       "\trank\tint\n",
       "\n",
       "Rows: 5\n",
       "\n",
       "Data:\n",
       "+-------------+-----------------+---------------+------+\n",
       "| query_label | reference_label |    distance   | rank |\n",
       "+-------------+-----------------+---------------+------+\n",
       "|      0      |      16289      |  34.623719208 |  1   |\n",
       "|      0      |      45646      | 36.0068799284 |  2   |\n",
       "|      0      |      32139      | 36.5200813436 |  3   |\n",
       "|      0      |      25713      | 36.7548502521 |  4   |\n",
       "|      0      |       331       | 36.8731228168 |  5   |\n",
       "+-------------+-----------------+---------------+------+\n",
       "[5 rows x 4 columns]"
      ]
     },
     "execution_count": 25,
     "metadata": {},
     "output_type": "execute_result"
    }
   ],
   "source": [
    "cat_model.query(cat)"
   ]
  },
  {
   "cell_type": "code",
   "execution_count": 26,
   "metadata": {},
   "outputs": [
    {
     "data": {
      "text/html": [
       "<pre>Starting pairwise querying.</pre>"
      ],
      "text/plain": [
       "Starting pairwise querying."
      ]
     },
     "metadata": {},
     "output_type": "display_data"
    },
    {
     "data": {
      "text/html": [
       "<pre>+--------------+---------+-------------+--------------+</pre>"
      ],
      "text/plain": [
       "+--------------+---------+-------------+--------------+"
      ]
     },
     "metadata": {},
     "output_type": "display_data"
    },
    {
     "data": {
      "text/html": [
       "<pre>| Query points | # Pairs | % Complete. | Elapsed Time |</pre>"
      ],
      "text/plain": [
       "| Query points | # Pairs | % Complete. | Elapsed Time |"
      ]
     },
     "metadata": {},
     "output_type": "display_data"
    },
    {
     "data": {
      "text/html": [
       "<pre>+--------------+---------+-------------+--------------+</pre>"
      ],
      "text/plain": [
       "+--------------+---------+-------------+--------------+"
      ]
     },
     "metadata": {},
     "output_type": "display_data"
    },
    {
     "data": {
      "text/html": [
       "<pre>| 0            | 1       | 0.196464    | 11.658ms     |</pre>"
      ],
      "text/plain": [
       "| 0            | 1       | 0.196464    | 11.658ms     |"
      ]
     },
     "metadata": {},
     "output_type": "display_data"
    },
    {
     "data": {
      "text/html": [
       "<pre>| Done         |         | 100         | 64.353ms     |</pre>"
      ],
      "text/plain": [
       "| Done         |         | 100         | 64.353ms     |"
      ]
     },
     "metadata": {},
     "output_type": "display_data"
    },
    {
     "data": {
      "text/html": [
       "<pre>+--------------+---------+-------------+--------------+</pre>"
      ],
      "text/plain": [
       "+--------------+---------+-------------+--------------+"
      ]
     },
     "metadata": {},
     "output_type": "display_data"
    },
    {
     "data": {
      "application/javascript": [
       "$(\"head\").append($(\"<link/>\").attr({\n",
       "  rel:  \"stylesheet\",\n",
       "  type: \"text/css\",\n",
       "  href: \"//cdnjs.cloudflare.com/ajax/libs/font-awesome/4.1.0/css/font-awesome.min.css\"\n",
       "}));\n",
       "$(\"head\").append($(\"<link/>\").attr({\n",
       "  rel:  \"stylesheet\",\n",
       "  type: \"text/css\",\n",
       "  href: \"https://static.turi.com/products/graphlab-create/2.1/canvas/css/canvas.css\"\n",
       "}));\n",
       "\n",
       "            (function(){\n",
       "\n",
       "                var e = null;\n",
       "                if (typeof element == 'undefined') {\n",
       "                    var scripts = document.getElementsByTagName('script');\n",
       "                    var thisScriptTag = scripts[scripts.length-1];\n",
       "                    var parentDiv = thisScriptTag.parentNode;\n",
       "                    e = document.createElement('div');\n",
       "                    parentDiv.appendChild(e);\n",
       "                } else {\n",
       "                    e = element[0];\n",
       "                }\n",
       "\n",
       "                if (typeof requirejs !== 'undefined') {\n",
       "                    // disable load timeout; ipython_app.js is large and can take a while to load.\n",
       "                    requirejs.config({waitSeconds: 0});\n",
       "                }\n",
       "\n",
       "                require(['https://static.turi.com/products/graphlab-create/2.1/canvas/js/ipython_app.js'], function(IPythonApp){\n",
       "                    var app = new IPythonApp();\n",
       "                    app.attachView('sarray','Images', {\"ipython\": true, \"rows\": [{\"format\": \"raw\", \"value\": [45, 65, 92, 72, 95, 110, 106, 132, 129, 106, 132, 129, 109, 134, 131, 111, 137, 134, 111, 139, 135, 115, 145, 142, 91, 112, 107, 85, 100, 96, 92, 113, 110, 84, 102, 99, 116, 141, 138, 122, 148, 145, 122, 148, 145, 123, 148, 145, 122, 148, 145, 122, 148, 145, 122, 148, 145, 122, 148, 145, 122, 148, 145, 123, 148, 144, 123, 147, 144, 123, 147, 143, 122, 150, 146, 108, 104, 113, 93, 45, 73, 72, 38, 64, 41, 23, 43, 23, 18, 24, 36, 31, 20, 52, 44, 29, 46, 67, 96, 76, 100, 113, 110, 136, 133, 109, 135, 133, 111, 138, 135, 111, 139, 136, 109, 136, 133, 116, 146, 142, 77, 92, 89, 75, 80, 77, 104, 124, 118, 105, 125, 121, 125, 151, 148, 124, 151, 148, 125, 151, 148, 126, 152, 149, 126, 152, 149, 126, 152, 149, 126, 152, 149, 125, 151, 149, 126, 152, 148, 127, 152, 148, 126, 151, 147, 126, 151, 147, 124, 155, 150, 104, 102, 111, 75, 34, 63, 75, 41, 67, 73, 46, 73, 37, 24, 40, 19, 13, 21, 44, 36, 35, 48, 68, 97, 79, 103, 115, 110, 137, 133, 110, 136, 133, 112, 140, 137, 113, 142, 139, 102, 128, 126, 99, 126, 124, 78, 85, 81, 94, 94, 87, 95, 109, 104, 100, 118, 115, 127, 154, 151, 126, 152, 149, 127, 152, 149, 127, 153, 149, 127, 153, 150, 127, 153, 150, 127, 153, 150, 127, 152, 149, 127, 152, 149, 127, 152, 149, 127, 152, 148, 127, 151, 148, 125, 154, 149, 107, 110, 116, 91, 62, 83, 101, 71, 95, 99, 75, 99, 67, 50, 70, 41, 33, 51, 57, 48, 52, 51, 72, 99, 83, 109, 118, 111, 139, 135, 111, 140, 136, 114, 143, 140, 120, 147, 146, 108, 134, 133, 90, 116, 113, 92, 92, 84, 112, 103, 91, 93, 98, 93, 106, 121, 120, 127, 154, 150, 128, 155, 151, 130, 154, 151, 130, 155, 152, 131, 156, 153, 131, 156, 153, 130, 155, 152, 130, 155, 152, 129, 154, 151, 130, 154, 152, 129, 154, 151, 129, 154, 151, 126, 151, 147, 123, 134, 134, 124, 121, 126, 125, 121, 128, 123, 118, 127, 106, 103, 113, 94, 94, 104, 100, 99, 104, 53, 75, 99, 87, 114, 119, 112, 141, 137, 113, 142, 138, 115, 145, 141, 114, 142, 141, 105, 132, 131, 85, 109, 106, 84, 79, 70, 127, 115, 100, 115, 101, 91, 106, 86, 88, 112, 114, 113, 128, 153, 149, 133, 157, 156, 134, 156, 154, 134, 158, 155, 134, 157, 155, 133, 157, 154, 132, 157, 154, 132, 156, 154, 133, 157, 155, 131, 157, 154, 132, 155, 155, 129, 153, 151, 128, 147, 145, 128, 142, 140, 126, 140, 139, 125, 137, 138, 119, 131, 131, 117, 129, 129, 122, 133, 133, 53, 76, 101, 90, 118, 124, 112, 143, 138, 113, 144, 139, 114, 145, 142, 108, 137, 135, 101, 130, 128, 83, 106, 104, 73, 65, 58, 127, 116, 102, 139, 125, 113, 115, 62, 66, 110, 64, 73, 128, 145, 144, 137, 163, 162, 137, 160, 157, 139, 161, 159, 138, 161, 158, 137, 161, 158, 135, 160, 157, 134, 159, 156, 127, 147, 142, 112, 125, 117, 124, 141, 136, 127, 148, 145, 122, 143, 138, 122, 140, 134, 123, 143, 139, 120, 146, 144, 117, 144, 141, 117, 142, 139, 117, 143, 139, 52, 75, 102, 95, 123, 131, 113, 143, 139, 113, 144, 141, 115, 145, 143, 105, 134, 132, 101, 131, 129, 85, 109, 108, 65, 58, 53, 111, 101, 93, 141, 134, 124, 122, 91, 86, 115, 69, 76, 131, 146, 145, 136, 163, 161, 136, 162, 158, 137, 164, 160, 138, 164, 160, 137, 163, 161, 137, 162, 160, 113, 127, 121, 96, 92, 83, 83, 73, 64, 91, 88, 80, 113, 120, 111, 100, 103, 98, 97, 96, 87, 115, 123, 115, 117, 140, 136, 112, 138, 133, 114, 140, 135, 114, 142, 139, 46, 69, 95, 99, 127, 135, 115, 145, 142, 114, 143, 141, 115, 145, 143, 104, 134, 132, 100, 131, 129, 87, 112, 111, 64, 58, 53, 95, 83, 75, 121, 113, 102, 108, 96, 82, 115, 97, 92, 153, 159, 158, 160, 173, 172, 153, 166, 165, 151, 165, 165, 141, 157, 156, 136, 157, 154, 123, 139, 136, 71, 65, 59, 71, 57, 48, 84, 72, 63, 69, 59, 53, 108, 104, 99, 145, 142, 142, 121, 113, 108, 105, 100, 92, 98, 99, 91, 90, 91, 84, 85, 85, 80, 92, 96, 89, 39, 61, 87, 95, 124, 131, 117, 147, 144, 114, 144, 142, 116, 146, 144, 114, 144, 142, 113, 143, 142, 97, 123, 122, 64, 59, 55, 83, 72, 62, 108, 100, 88, 106, 94, 82, 93, 80, 72, 122, 117, 110, 170, 166, 162, 188, 186, 184, 187, 187, 184, 165, 164, 161, 163, 162, 160, 116, 114, 111, 66, 50, 41, 74, 58, 47, 73, 61, 52, 70, 60, 53, 79, 71, 64, 146, 143, 136, 195, 197, 194, 144, 142, 140, 101, 92, 87, 98, 88, 80, 64, 53, 47, 83, 70, 59, 43, 64, 89, 94, 123, 130, 116, 147, 144, 114, 144, 142, 117, 146, 144, 117, 148, 146, 118, 148, 145, 83, 102, 99, 55, 49, 44, 78, 67, 58, 87, 79, 70, 87, 76, 67, 85, 75, 66, 79, 68, 59, 93, 84, 76, 164, 161, 156, 198, 197, 194, 186, 184, 180, 164, 160, 156, 110, 104, 98, 94, 78, 62, 101, 83, 65, 91, 75, 64, 81, 70, 61, 89, 78, 66, 140, 133, 120, 209, 211, 206, 194, 195, 194, 139, 133, 129, 120, 111, 102, 86, 75, 67, 104, 87, 70, 45, 65, 89, 93, 118, 125, 115, 142, 138, 115, 144, 141, 119, 149, 146, 118, 150, 147, 87, 106, 104, 37, 37, 36, 52, 44, 39, 79, 70, 63, 93, 85, 78, 94, 86, 78, 101, 91, 80, 91, 81, 71, 84, 73, 63, 123, 116, 108, 171, 170, 166, 153, 151, 146, 128, 125, 119, 89, 84, 78, 77, 63, 50, 102, 83, 65, 108, 93, 78, 100, 89, 77, 91, 79, 66, 138, 131, 120, 213, 212, 206, 215, 215, 212, 184, 181, 176, 149, 140, 128, 135, 121, 106, 131, 112, 89, 48, 61, 82, 90, 94, 92, 101, 107, 96, 97, 107, 99, 102, 119, 112, 93, 108, 103, 57, 57, 54, 47, 39, 36, 72, 65, 60, 89, 84, 79, 111, 103, 95, 118, 117, 104, 107, 109, 88, 120, 111, 97, 111, 101, 89, 109, 99, 87, 131, 127, 121, 95, 90, 83, 89, 81, 74, 92, 84, 75, 66, 57, 49, 75, 61, 51, 92, 79, 68, 110, 100, 90, 110, 100, 91, 162, 159, 152, 203, 205, 199, 202, 203, 198, 196, 195, 192, 179, 173, 166, 165, 154, 140, 137, 121, 103, 48, 55, 68, 89, 82, 75, 110, 101, 92, 103, 94, 86, 84, 78, 71, 66, 59, 52, 66, 57, 49, 69, 60, 54, 102, 97, 94, 137, 139, 137, 150, 142, 136, 132, 142, 117, 93, 135, 97, 119, 112, 100, 107, 95, 84, 130, 116, 102, 155, 151, 144, 115, 110, 100, 106, 98, 89, 120, 111, 99, 121, 113, 102, 115, 106, 95, 124, 116, 105, 150, 147, 140, 144, 142, 136, 163, 162, 154, 149, 146, 136, 144, 140, 131, 182, 182, 177, 219, 221, 220, 204, 201, 197, 147, 138, 132, 52, 61, 65, 73, 66, 61, 125, 120, 113, 127, 124, 121, 104, 97, 92, 81, 71, 63, 79, 72, 64, 80, 74, 67, 123, 121, 117, 193, 198, 196, 193, 190, 186, 132, 130, 111, 101, 113, 87, 119, 111, 100, 125, 113, 99, 171, 158, 142, 185, 184, 177, 154, 150, 143, 130, 120, 107, 135, 126, 112, 158, 156, 147, 168, 164, 154, 180, 178, 169, 182, 183, 176, 145, 142, 131, 132, 125, 111, 121, 110, 95, 128, 120, 104, 195, 195, 187, 243, 245, 242, 236, 238, 238, 172, 166, 164, 79, 97, 95, 50, 44, 41, 109, 98, 86, 136, 126, 116, 120, 112, 102, 86, 78, 69, 74, 67, 61, 83, 75, 69, 130, 120, 112, 182, 181, 177, 211, 213, 212, 170, 165, 160, 131, 119, 111, 135, 128, 117, 156, 145, 130, 194, 186, 174, 198, 199, 194, 179, 179, 174, 144, 136, 126, 129, 116, 99, 159, 154, 142, 183, 183, 177, 190, 191, 185, 156, 152, 141, 125, 116, 101, 111, 100, 85, 127, 113, 96, 158, 150, 131, 222, 222, 216, 247, 247, 245, 241, 244, 245, 186, 178, 172, 106, 135, 133, 54, 63, 63, 58, 50, 46, 116, 103, 96, 114, 104, 96, 82, 72, 63, 71, 63, 57, 104, 100, 95, 140, 137, 121, 149, 140, 127, 182, 180, 176, 198, 196, 193, 192, 188, 184, 175, 170, 164, 167, 159, 148, 198, 196, 188, 193, 194, 188, 162, 161, 155, 149, 140, 132, 135, 120, 104, 157, 147, 131, 192, 191, 183, 159, 155, 146, 107, 96, 84, 97, 85, 71, 92, 79, 65, 120, 106, 87, 179, 171, 154, 241, 241, 237, 249, 249, 247, 243, 245, 248, 185, 174, 163, 114, 146, 145, 99, 124, 122, 50, 55, 54, 59, 50, 47, 87, 75, 66, 71, 62, 52, 81, 67, 61, 91, 100, 80, 72, 135, 93, 88, 83, 64, 146, 137, 135, 199, 186, 185, 203, 185, 181, 217, 213, 210, 207, 205, 201, 188, 184, 176, 155, 145, 133, 105, 91, 82, 132, 117, 102, 161, 154, 142, 169, 166, 156, 169, 166, 156, 115, 104, 90, 72, 59, 50, 71, 59, 51, 88, 77, 63, 114, 101, 82, 180, 172, 157, 244, 244, 240, 243, 244, 243, 215, 213, 213, 152, 135, 121, 113, 143, 141, 118, 148, 146, 95, 119, 116, 47, 54, 52, 54, 48, 44, 63, 55, 46, 85, 72, 62, 109, 105, 85, 88, 115, 85, 110, 99, 85, 152, 145, 143, 193, 177, 176, 206, 178, 173, 215, 208, 204, 197, 198, 194, 157, 147, 133, 108, 89, 74, 93, 72, 56, 124, 104, 81, 156, 147, 135, 169, 167, 159, 117, 109, 99, 77, 63, 51, 62, 50, 43, 73, 63, 54, 93, 82, 69, 110, 98, 81, 169, 163, 150, 237, 240, 237, 226, 227, 229, 147, 134, 127, 116, 93, 71, 114, 143, 141, 116, 144, 143, 118, 148, 145, 89, 113, 109, 55, 57, 55, 65, 55, 47, 80, 70, 60, 110, 102, 90, 114, 105, 95, 127, 118, 109, 173, 172, 169, 208, 203, 203, 201, 178, 177, 194, 174, 173, 169, 165, 157, 129, 115, 95, 91, 69, 52, 97, 75, 57, 110, 86, 62, 114, 95, 76, 123, 111, 94, 90, 77, 64, 66, 51, 42, 56, 43, 37, 73, 63, 52, 104, 94, 80, 113, 102, 87, 161, 157, 146, 211, 214, 214, 175, 173, 172, 110, 91, 77, 112, 87, 60, 112, 141, 139, 113, 142, 140, 117, 146, 145, 113, 144, 141, 66, 75, 74, 57, 47, 41, 77, 66, 57, 95, 84, 74, 107, 97, 87, 141, 134, 124, 174, 172, 169, 206, 210, 210, 193, 181, 181, 188, 167, 168, 153, 142, 135, 104, 84, 65, 80, 59, 42, 95, 72, 53, 105, 81, 58, 97, 75, 53, 92, 74, 56, 86, 71, 58, 73, 59, 51, 66, 54, 46, 74, 63, 53, 103, 93, 81, 109, 99, 89, 135, 131, 121, 148, 148, 143, 130, 125, 119, 102, 85, 72, 104, 79, 56, 108, 137, 135, 109, 138, 136, 112, 140, 138, 114, 143, 140, 70, 84, 83, 42, 35, 32, 82, 69, 59, 100, 87, 75, 128, 118, 106, 168, 161, 150, 176, 176, 170, 183, 183, 181, 179, 171, 170, 173, 165, 163, 120, 108, 97, 90, 69, 51, 74, 53, 39, 89, 66, 48, 106, 83, 58, 96, 74, 52, 81, 64, 48, 76, 63, 53, 74, 61, 51, 81, 69, 59, 89, 78, 66, 94, 85, 73, 100, 92, 83, 120, 115, 106, 136, 134, 124, 121, 116, 109, 91, 76, 69, 85, 64, 48, 102, 131, 130, 104, 133, 132, 106, 136, 134, 110, 143, 140, 83, 106, 104, 37, 36, 35, 64, 52, 46, 100, 85, 74, 149, 136, 123, 181, 175, 164, 190, 190, 184, 194, 195, 191, 180, 179, 174, 126, 120, 111, 93, 78, 63, 95, 76, 57, 73, 53, 40, 83, 61, 45, 100, 78, 55, 93, 71, 50, 79, 62, 46, 67, 54, 46, 73, 61, 51, 90, 80, 67, 100, 90, 77, 104, 95, 81, 130, 124, 109, 131, 126, 115, 125, 121, 113, 113, 106, 98, 79, 64, 57, 78, 58, 43, 97, 93, 100, 94, 104, 107, 94, 111, 111, 96, 118, 117, 91, 115, 114, 44, 53, 53, 49, 45, 45, 98, 91, 85, 159, 154, 146, 202, 203, 196, 209, 211, 206, 210, 213, 208, 164, 161, 153, 93, 80, 66, 96, 80, 63, 104, 88, 69, 75, 56, 43, 81, 61, 47, 99, 79, 58, 98, 76, 54, 87, 70, 53, 68, 55, 48, 45, 34, 31, 59, 51, 43, 86, 77, 66, 120, 111, 97, 147, 143, 127, 144, 138, 126, 101, 91, 85, 100, 91, 82, 88, 75, 63, 80, 58, 43, 124, 76, 96, 115, 66, 87, 115, 69, 89, 104, 69, 85, 80, 56, 68, 61, 45, 53, 53, 43, 47, 58, 52, 53, 107, 106, 107, 184, 185, 184, 202, 204, 200, 196, 198, 192, 131, 122, 114, 86, 70, 56, 97, 83, 68, 104, 90, 72, 78, 59, 47, 81, 63, 51, 99, 83, 65, 105, 87, 66, 88, 72, 57, 69, 58, 51, 48, 35, 31, 42, 30, 26, 58, 47, 40, 105, 96, 86, 119, 112, 104, 135, 129, 117, 127, 120, 110, 89, 79, 72, 96, 85, 74, 74, 55, 43, 118, 60, 81, 142, 83, 106, 152, 96, 120, 153, 99, 122, 143, 91, 113, 131, 80, 100, 123, 62, 81, 113, 42, 65, 100, 38, 60, 130, 102, 112, 170, 170, 171, 163, 164, 162, 110, 100, 92, 82, 67, 54, 94, 81, 68, 98, 85, 72, 77, 61, 50, 82, 65, 54, 100, 86, 70, 103, 86, 67, 68, 53, 44, 54, 45, 40, 86, 77, 63, 85, 74, 62, 94, 85, 74, 80, 70, 64, 79, 68, 61, 139, 132, 117, 125, 120, 110, 91, 83, 77, 90, 79, 71, 71, 56, 47, 88, 91, 92, 124, 118, 121, 129, 94, 106, 140, 94, 110, 149, 143, 147, 152, 157, 159, 159, 158, 160, 155, 130, 138, 166, 102, 124, 164, 95, 121, 167, 156, 167, 163, 165, 172, 131, 132, 133, 86, 83, 78, 86, 77, 68, 89, 78, 68, 80, 68, 60, 77, 62, 53, 89, 75, 61, 102, 89, 76, 62, 52, 45, 61, 49, 42, 75, 64, 57, 76, 68, 60, 91, 85, 72, 96, 89, 76, 102, 94, 80, 118, 110, 96, 82, 73, 69, 91, 82, 76, 82, 71, 65, 66, 52, 46, 108, 120, 124, 135, 148, 151, 147, 158, 159, 142, 150, 150, 132, 140, 138, 133, 142, 138, 151, 163, 157, 163, 173, 169, 159, 150, 154, 160, 120, 136, 154, 141, 151, 165, 170, 177, 151, 156, 163, 127, 132, 136, 96, 94, 92, 80, 73, 67, 80, 71, 64, 80, 71, 65, 111, 107, 103, 151, 153, 153, 136, 140, 143, 115, 115, 112, 89, 85, 82, 67, 59, 55, 65, 54, 50, 64, 55, 51, 69, 62, 58, 67, 58, 54, 68, 59, 54, 91, 84, 77, 65, 56, 53, 53, 40, 36, 44, 42, 47, 84, 88, 95, 134, 143, 149, 163, 173, 176, 160, 172, 171, 159, 168, 167, 164, 169, 166, 174, 180, 178, 178, 184, 185, 181, 189, 188, 154, 156, 158, 150, 154, 161, 149, 155, 162, 136, 143, 147, 120, 123, 126, 95, 95, 96, 93, 95, 96, 122, 127, 131, 165, 174, 180, 174, 184, 193, 175, 184, 191, 178, 187, 191, 166, 173, 178, 136, 141, 142, 124, 123, 122, 107, 104, 100, 85, 79, 76, 70, 63, 58, 82, 74, 67, 81, 73, 68, 54, 46, 45, 46, 33, 31, 30, 32, 32, 21, 16, 20, 59, 57, 65, 117, 123, 127, 163, 173, 175, 207, 215, 217, 223, 231, 231, 215, 224, 223, 217, 226, 227, 213, 225, 225, 166, 174, 176, 144, 151, 156, 142, 150, 157, 125, 131, 138, 107, 110, 117, 96, 100, 105, 101, 109, 118, 131, 140, 148, 146, 155, 163, 133, 142, 151, 141, 149, 158, 152, 160, 167, 160, 167, 176, 163, 170, 177, 161, 168, 173, 149, 154, 158, 129, 132, 136, 112, 114, 117, 110, 109, 111, 90, 87, 88, 60, 56, 58, 55, 48, 46, 72, 91, 91, 43, 47, 49, 19, 13, 17, 37, 32, 36, 99, 98, 101, 180, 182, 185, 213, 222, 224, 193, 198, 202, 161, 166, 171, 138, 143, 147, 122, 126, 133, 134, 141, 149, 149, 158, 167, 128, 138, 146, 97, 107, 115, 83, 89, 97, 64, 67, 74, 128, 133, 132, 123, 125, 128, 72, 64, 72, 78, 76, 82, 85, 88, 93, 89, 91, 95, 95, 96, 103, 122, 126, 134, 122, 129, 138, 129, 137, 150, 129, 137, 152, 120, 126, 141, 102, 107, 119, 94, 98, 107, 109, 113, 116, 88, 113, 116, 83, 103, 104, 55, 64, 65, 35, 29, 30, 66, 47, 41, 100, 86, 86, 125, 130, 136, 87, 87, 94, 65, 65, 71, 68, 69, 74, 75, 77, 83, 79, 85, 89, 84, 94, 97, 80, 97, 97, 77, 95, 96, 76, 82, 89, 70, 70, 73, 140, 143, 142, 99, 99, 101, 89, 78, 80, 115, 111, 111, 121, 124, 121, 116, 116, 112, 104, 106, 105, 128, 136, 138, 137, 146, 154, 144, 154, 168, 147, 158, 176, 138, 148, 168, 125, 137, 151, 135, 146, 153, 145, 155, 159, 86, 110, 113, 89, 113, 114, 83, 105, 106, 70, 64, 60, 81, 52, 36, 94, 73, 67, 80, 79, 87, 31, 29, 34, 57, 61, 64, 66, 71, 74, 68, 76, 78, 66, 75, 77, 61, 70, 72, 58, 70, 68, 52, 63, 62, 53, 54, 61, 62, 64, 71, 79, 80, 86, 111, 116, 116, 148, 154, 151, 154, 160, 157, 173, 178, 173, 184, 188, 183, 148, 149, 148, 99, 97, 98, 93, 92, 96, 93, 92, 101, 113, 120, 132, 134, 145, 154, 158, 169, 176, 166, 177, 183, 157, 170, 178], \"height\": 32, \"channels\": 3, \"width\": 32, \"type\": \"image\", \"id\": 112285934160}, {\"format\": \"raw\", \"value\": [215, 219, 231, 215, 219, 232, 216, 219, 233, 214, 217, 230, 213, 216, 230, 209, 215, 226, 208, 217, 221, 206, 215, 219, 201, 208, 217, 197, 203, 218, 194, 200, 221, 199, 204, 221, 142, 128, 131, 76, 46, 46, 81, 55, 57, 147, 136, 139, 160, 149, 154, 152, 141, 144, 156, 147, 150, 159, 148, 154, 160, 153, 157, 164, 156, 160, 160, 154, 158, 158, 151, 156, 159, 149, 157, 159, 150, 156, 157, 147, 154, 156, 145, 153, 152, 142, 149, 147, 137, 143, 141, 131, 136, 142, 131, 136, 215, 219, 231, 215, 219, 232, 215, 219, 232, 213, 217, 229, 212, 216, 229, 212, 214, 217, 206, 215, 217, 203, 211, 219, 197, 205, 218, 194, 201, 218, 196, 201, 218, 178, 180, 192, 92, 56, 55, 77, 50, 49, 112, 98, 100, 173, 162, 169, 162, 153, 157, 160, 152, 154, 164, 157, 159, 164, 155, 160, 165, 158, 163, 165, 155, 162, 167, 160, 166, 164, 155, 162, 160, 148, 155, 153, 142, 149, 160, 150, 159, 162, 154, 162, 157, 151, 156, 152, 143, 148, 139, 129, 133, 135, 124, 128, 215, 219, 231, 215, 219, 231, 214, 218, 230, 214, 218, 229, 214, 217, 227, 216, 211, 207, 207, 213, 215, 200, 207, 218, 195, 202, 220, 193, 201, 216, 196, 202, 216, 125, 101, 101, 79, 49, 48, 88, 67, 67, 157, 147, 152, 168, 160, 166, 164, 155, 158, 170, 163, 168, 169, 164, 166, 169, 160, 165, 169, 162, 167, 167, 159, 167, 166, 156, 164, 166, 155, 163, 163, 153, 158, 160, 150, 157, 160, 151, 158, 159, 150, 156, 157, 148, 155, 155, 145, 152, 152, 141, 147, 143, 131, 135, 216, 220, 232, 215, 219, 231, 214, 218, 230, 214, 218, 230, 214, 217, 227, 216, 213, 207, 205, 210, 216, 199, 203, 219, 196, 202, 219, 194, 204, 220, 164, 155, 162, 89, 54, 48, 77, 52, 52, 126, 110, 113, 173, 162, 168, 167, 159, 163, 170, 162, 166, 172, 163, 168, 171, 164, 168, 171, 163, 168, 171, 162, 169, 169, 161, 167, 165, 153, 160, 165, 154, 160, 163, 153, 158, 166, 155, 162, 165, 154, 160, 155, 144, 149, 156, 144, 151, 153, 143, 151, 151, 140, 148, 143, 131, 137, 217, 221, 233, 215, 219, 231, 215, 219, 231, 215, 219, 231, 217, 219, 229, 221, 222, 219, 199, 203, 211, 195, 202, 217, 198, 202, 220, 190, 193, 206, 109, 80, 77, 78, 50, 49, 94, 72, 74, 163, 154, 155, 166, 157, 158, 169, 158, 158, 173, 163, 167, 170, 158, 161, 172, 161, 168, 173, 166, 170, 173, 163, 170, 171, 161, 164, 169, 155, 160, 170, 158, 162, 162, 151, 157, 162, 151, 157, 167, 156, 164, 164, 153, 160, 158, 147, 153, 157, 146, 151, 149, 138, 144, 143, 132, 137, 217, 221, 233, 215, 219, 231, 214, 218, 230, 213, 217, 229, 222, 224, 232, 228, 227, 233, 192, 196, 211, 196, 202, 220, 196, 209, 225, 150, 128, 133, 80, 48, 46, 76, 51, 56, 144, 129, 134, 167, 158, 161, 165, 155, 156, 173, 161, 163, 175, 164, 168, 173, 162, 168, 175, 167, 171, 175, 165, 167, 174, 162, 169, 168, 157, 159, 156, 145, 146, 171, 159, 162, 168, 157, 163, 167, 156, 163, 167, 155, 165, 168, 157, 165, 159, 147, 155, 151, 140, 144, 145, 133, 137, 149, 137, 141, 217, 221, 233, 216, 220, 232, 214, 218, 230, 215, 219, 231, 166, 167, 174, 200, 198, 206, 194, 201, 218, 194, 200, 219, 177, 173, 184, 93, 65, 61, 75, 53, 53, 120, 100, 97, 172, 162, 166, 169, 158, 161, 167, 154, 156, 177, 166, 169, 181, 171, 175, 174, 166, 173, 175, 166, 172, 171, 160, 164, 173, 163, 171, 136, 125, 129, 101, 91, 88, 155, 141, 141, 175, 164, 169, 174, 162, 170, 167, 156, 165, 165, 154, 162, 161, 150, 157, 150, 138, 143, 148, 136, 140, 147, 135, 139, 217, 221, 233, 216, 220, 232, 215, 219, 231, 217, 221, 234, 113, 108, 113, 140, 130, 127, 163, 161, 169, 144, 143, 149, 153, 139, 139, 139, 122, 116, 132, 114, 102, 164, 147, 139, 161, 150, 142, 150, 138, 130, 135, 122, 116, 152, 138, 134, 149, 132, 127, 175, 162, 161, 180, 168, 175, 176, 164, 170, 177, 171, 180, 136, 126, 130, 87, 76, 68, 137, 121, 119, 178, 168, 173, 173, 162, 169, 168, 157, 164, 163, 152, 158, 158, 146, 151, 160, 147, 155, 163, 150, 158, 160, 147, 154, 218, 220, 233, 216, 219, 232, 215, 219, 232, 208, 212, 224, 92, 82, 85, 96, 78, 69, 111, 99, 93, 129, 116, 110, 167, 156, 155, 179, 168, 171, 171, 161, 158, 157, 137, 124, 120, 103, 92, 117, 98, 86, 102, 86, 81, 127, 108, 96, 147, 122, 108, 139, 122, 116, 168, 157, 155, 155, 145, 145, 200, 199, 207, 157, 149, 147, 116, 102, 91, 150, 137, 137, 176, 166, 170, 173, 162, 168, 169, 156, 164, 159, 147, 153, 159, 146, 150, 164, 151, 158, 166, 153, 161, 159, 145, 153, 217, 219, 232, 216, 218, 231, 217, 218, 229, 193, 195, 207, 95, 79, 74, 110, 88, 80, 154, 138, 132, 181, 165, 159, 207, 200, 205, 205, 207, 219, 199, 200, 209, 159, 138, 131, 143, 118, 101, 137, 110, 93, 115, 98, 91, 118, 103, 92, 184, 166, 159, 125, 113, 114, 149, 132, 126, 117, 101, 102, 213, 214, 226, 172, 170, 179, 133, 121, 123, 157, 143, 143, 147, 131, 129, 174, 158, 166, 169, 156, 165, 162, 149, 157, 168, 156, 164, 166, 154, 162, 162, 151, 158, 158, 146, 154, 218, 220, 233, 216, 218, 232, 216, 220, 234, 174, 176, 187, 90, 73, 70, 148, 125, 109, 194, 169, 157, 215, 204, 208, 220, 221, 230, 220, 223, 231, 218, 216, 224, 174, 154, 152, 162, 140, 127, 127, 100, 84, 146, 120, 103, 147, 124, 116, 169, 145, 133, 138, 122, 113, 148, 134, 124, 123, 103, 97, 154, 143, 141, 153, 143, 144, 133, 124, 127, 151, 136, 137, 140, 119, 111, 156, 139, 134, 175, 164, 169, 175, 160, 169, 170, 156, 165, 164, 151, 158, 156, 144, 150, 158, 146, 152, 218, 220, 233, 214, 218, 231, 216, 219, 233, 173, 164, 169, 134, 106, 90, 184, 152, 131, 205, 184, 171, 218, 214, 222, 221, 222, 232, 225, 226, 235, 218, 220, 231, 187, 172, 169, 156, 136, 127, 140, 116, 102, 147, 115, 98, 126, 99, 84, 171, 135, 105, 105, 81, 71, 132, 112, 105, 95, 80, 75, 130, 118, 114, 140, 127, 123, 128, 115, 114, 140, 125, 124, 159, 143, 139, 126, 113, 112, 165, 156, 163, 159, 144, 150, 163, 147, 148, 161, 145, 149, 161, 145, 149, 163, 148, 151, 217, 219, 232, 214, 218, 230, 218, 216, 229, 152, 133, 128, 169, 146, 138, 194, 172, 157, 201, 173, 151, 210, 197, 193, 215, 213, 223, 216, 218, 226, 203, 201, 209, 157, 129, 111, 145, 112, 92, 141, 114, 99, 133, 104, 90, 114, 84, 72, 183, 145, 108, 135, 106, 86, 143, 110, 95, 110, 95, 93, 200, 199, 207, 153, 147, 148, 129, 112, 111, 119, 102, 100, 144, 131, 127, 152, 145, 156, 188, 186, 198, 108, 92, 95, 99, 83, 78, 160, 140, 141, 176, 157, 168, 153, 134, 136, 218, 220, 233, 217, 219, 232, 209, 210, 222, 141, 114, 104, 212, 201, 202, 212, 206, 208, 184, 150, 123, 193, 164, 138, 202, 187, 180, 209, 207, 215, 200, 193, 196, 146, 111, 92, 141, 107, 88, 120, 97, 84, 86, 68, 60, 117, 87, 74, 163, 126, 95, 140, 103, 84, 139, 102, 78, 169, 141, 129, 218, 219, 228, 131, 123, 125, 104, 88, 81, 98, 83, 76, 122, 105, 97, 143, 138, 161, 209, 208, 226, 154, 141, 139, 99, 80, 73, 153, 127, 129, 156, 139, 144, 135, 116, 116, 219, 221, 234, 216, 218, 232, 204, 204, 219, 154, 126, 110, 213, 204, 206, 217, 214, 217, 170, 136, 110, 157, 118, 88, 170, 135, 108, 197, 174, 168, 170, 142, 125, 143, 103, 83, 122, 90, 75, 98, 76, 68, 68, 55, 55, 76, 59, 56, 118, 84, 71, 111, 79, 63, 107, 76, 63, 158, 121, 101, 196, 192, 200, 115, 101, 104, 106, 90, 83, 103, 87, 77, 128, 107, 97, 111, 97, 127, 206, 205, 220, 206, 209, 220, 157, 142, 127, 113, 91, 76, 121, 105, 101, 164, 149, 152, 220, 221, 234, 215, 218, 232, 208, 209, 223, 159, 136, 126, 213, 211, 218, 204, 202, 208, 140, 115, 102, 132, 104, 88, 148, 112, 93, 160, 124, 97, 136, 92, 70, 122, 86, 69, 97, 73, 60, 101, 74, 64, 84, 63, 60, 67, 53, 52, 82, 62, 57, 92, 71, 60, 82, 59, 53, 145, 116, 103, 125, 116, 120, 105, 91, 87, 92, 77, 76, 94, 76, 73, 119, 96, 84, 131, 113, 124, 207, 209, 223, 217, 219, 236, 157, 150, 150, 127, 115, 114, 138, 122, 119, 173, 160, 166, 219, 221, 234, 218, 223, 235, 173, 164, 171, 129, 109, 105, 219, 218, 228, 186, 179, 188, 102, 86, 85, 96, 82, 77, 108, 88, 76, 136, 106, 91, 129, 93, 74, 105, 73, 61, 79, 60, 55, 76, 57, 54, 73, 55, 54, 74, 55, 53, 71, 57, 55, 88, 70, 68, 84, 66, 63, 79, 66, 70, 76, 65, 70, 99, 87, 86, 67, 53, 55, 102, 84, 78, 118, 94, 83, 150, 132, 131, 211, 204, 220, 213, 184, 201, 202, 191, 208, 177, 176, 188, 146, 130, 133, 170, 157, 160, 219, 221, 233, 211, 210, 220, 116, 88, 81, 132, 117, 117, 226, 229, 238, 171, 156, 160, 104, 84, 77, 96, 80, 77, 95, 83, 77, 105, 87, 80, 119, 94, 77, 95, 70, 60, 72, 56, 54, 68, 54, 55, 75, 56, 53, 77, 60, 55, 78, 65, 63, 95, 79, 77, 79, 65, 65, 51, 40, 52, 84, 74, 81, 94, 83, 86, 74, 60, 60, 127, 109, 101, 125, 102, 92, 140, 120, 118, 207, 199, 211, 216, 198, 214, 195, 188, 197, 183, 180, 187, 146, 132, 139, 169, 153, 163, 222, 227, 240, 167, 132, 134, 121, 81, 62, 101, 85, 78, 172, 167, 178, 163, 155, 154, 127, 115, 110, 130, 116, 114, 125, 113, 112, 111, 95, 90, 117, 98, 88, 79, 63, 58, 63, 51, 52, 71, 56, 55, 88, 69, 62, 90, 72, 69, 90, 75, 73, 101, 87, 79, 70, 58, 61, 55, 45, 56, 109, 100, 107, 68, 56, 59, 86, 72, 72, 133, 116, 110, 130, 109, 101, 113, 94, 92, 210, 210, 217, 221, 228, 244, 177, 167, 158, 122, 107, 95, 140, 123, 124, 168, 151, 161, 201, 189, 197, 125, 74, 57, 137, 92, 70, 99, 73, 63, 69, 58, 67, 117, 113, 124, 138, 134, 143, 123, 113, 115, 124, 112, 112, 152, 136, 134, 114, 97, 90, 76, 60, 57, 64, 52, 54, 82, 68, 66, 96, 80, 73, 104, 90, 85, 77, 66, 65, 68, 56, 58, 65, 55, 62, 63, 53, 64, 83, 74, 81, 78, 66, 67, 117, 104, 103, 120, 105, 102, 90, 71, 67, 113, 97, 98, 222, 223, 233, 211, 207, 217, 150, 131, 121, 127, 101, 90, 145, 122, 128, 165, 147, 150, 149, 103, 96, 116, 73, 57, 133, 95, 73, 122, 85, 68, 65, 55, 58, 73, 68, 72, 122, 118, 130, 121, 114, 121, 107, 95, 98, 136, 121, 117, 102, 87, 81, 75, 59, 57, 77, 64, 66, 92, 79, 77, 87, 74, 70, 100, 89, 86, 79, 69, 66, 66, 50, 55, 51, 39, 48, 63, 53, 60, 89, 78, 82, 104, 92, 93, 94, 83, 81, 93, 80, 81, 127, 110, 113, 162, 149, 155, 199, 193, 203, 141, 122, 124, 104, 83, 79, 151, 126, 128, 168, 146, 155, 160, 140, 144, 118, 60, 49, 113, 84, 73, 131, 92, 70, 126, 97, 72, 90, 77, 71, 70, 62, 64, 74, 67, 71, 91, 85, 89, 87, 77, 78, 103, 90, 86, 78, 66, 65, 74, 61, 61, 88, 75, 76, 98, 85, 83, 93, 82, 83, 87, 76, 78, 87, 73, 70, 83, 64, 58, 52, 39, 44, 60, 49, 53, 81, 69, 71, 93, 80, 80, 117, 104, 102, 164, 150, 155, 188, 172, 179, 188, 174, 182, 171, 157, 162, 134, 117, 120, 143, 124, 126, 172, 153, 156, 169, 151, 157, 167, 147, 154, 100, 62, 57, 106, 83, 73, 111, 83, 67, 118, 97, 89, 167, 154, 161, 153, 145, 150, 118, 109, 114, 78, 69, 74, 87, 78, 80, 86, 76, 76, 77, 65, 65, 76, 62, 60, 87, 72, 71, 125, 112, 111, 158, 149, 153, 174, 164, 169, 158, 145, 152, 119, 105, 106, 75, 62, 65, 86, 75, 79, 131, 117, 121, 169, 155, 157, 174, 158, 161, 180, 164, 168, 182, 165, 170, 185, 169, 172, 189, 174, 177, 190, 174, 181, 186, 169, 179, 178, 159, 165, 174, 158, 161, 178, 161, 167, 90, 71, 67, 84, 66, 64, 92, 73, 70, 163, 145, 150, 187, 175, 181, 191, 181, 188, 191, 179, 189, 181, 170, 178, 174, 165, 171, 159, 148, 153, 128, 117, 121, 139, 128, 129, 163, 151, 155, 189, 177, 183, 191, 179, 185, 191, 178, 186, 193, 180, 191, 191, 180, 188, 171, 160, 163, 175, 162, 165, 187, 170, 174, 188, 171, 177, 185, 168, 174, 186, 170, 175, 186, 169, 175, 187, 171, 175, 186, 169, 174, 186, 170, 176, 185, 170, 177, 180, 161, 167, 176, 159, 163, 176, 159, 166, 75, 61, 60, 70, 60, 54, 138, 124, 124, 195, 182, 186, 195, 183, 184, 195, 183, 187, 191, 179, 184, 186, 174, 175, 189, 177, 179, 195, 184, 188, 194, 183, 188, 194, 182, 185, 196, 184, 190, 195, 183, 191, 195, 182, 189, 191, 179, 184, 189, 178, 184, 191, 179, 185, 193, 180, 183, 186, 169, 172, 183, 165, 169, 186, 168, 174, 190, 173, 179, 188, 172, 177, 188, 171, 176, 192, 175, 181, 193, 177, 182, 191, 175, 181, 188, 173, 179, 181, 163, 167, 181, 164, 168, 182, 165, 173, 65, 57, 56, 126, 114, 115, 191, 176, 178, 195, 183, 184, 201, 187, 193, 202, 188, 197, 200, 186, 192, 192, 175, 177, 189, 172, 176, 196, 181, 188, 193, 179, 185, 193, 178, 182, 195, 180, 187, 199, 186, 194, 197, 185, 191, 193, 182, 188, 191, 178, 183, 190, 175, 180, 190, 173, 177, 187, 168, 172, 182, 165, 168, 183, 165, 168, 184, 167, 170, 186, 170, 173, 184, 168, 172, 186, 170, 176, 188, 173, 179, 186, 171, 176, 185, 168, 173, 180, 161, 165, 184, 167, 171, 185, 168, 177, 87, 78, 82, 186, 171, 175, 202, 186, 189, 203, 192, 196, 201, 188, 194, 199, 184, 191, 200, 188, 192, 203, 191, 194, 195, 180, 184, 199, 185, 192, 199, 186, 193, 198, 186, 193, 200, 186, 192, 199, 187, 193, 199, 188, 192, 195, 183, 187, 193, 176, 181, 191, 173, 178, 192, 174, 180, 188, 171, 175, 184, 168, 171, 180, 163, 166, 182, 163, 165, 187, 171, 172, 187, 170, 172, 186, 169, 174, 185, 169, 176, 186, 170, 176, 185, 168, 174, 182, 163, 167, 187, 170, 177, 185, 169, 178, 150, 139, 143, 195, 180, 182, 196, 182, 181, 203, 190, 191, 204, 189, 193, 204, 186, 191, 195, 178, 179, 198, 185, 186, 198, 183, 187, 203, 189, 196, 202, 190, 196, 199, 188, 194, 202, 188, 195, 196, 183, 189, 197, 184, 188, 191, 177, 181, 193, 176, 182, 194, 180, 185, 195, 180, 186, 195, 180, 184, 192, 177, 181, 186, 168, 171, 183, 164, 166, 186, 169, 172, 190, 172, 175, 191, 173, 176, 186, 170, 175, 187, 170, 176, 185, 168, 174, 186, 167, 171, 189, 171, 178, 189, 173, 181, 190, 177, 181, 200, 183, 186, 202, 187, 188, 204, 189, 194, 203, 190, 195, 203, 190, 193, 199, 183, 182, 197, 182, 181, 203, 189, 192, 204, 191, 197, 199, 186, 191, 196, 182, 186, 203, 189, 195, 198, 183, 188, 196, 181, 185, 195, 179, 184, 196, 182, 186, 198, 186, 190, 199, 184, 190, 193, 178, 183, 190, 175, 178, 187, 169, 170, 190, 171, 173, 190, 174, 178, 190, 172, 176, 184, 167, 169, 185, 169, 174, 189, 172, 178, 186, 168, 174, 187, 168, 171, 185, 166, 171, 191, 173, 180, 200, 186, 189, 201, 185, 187, 201, 184, 188, 206, 191, 198, 204, 192, 197, 203, 191, 195, 199, 185, 185, 197, 180, 179, 202, 188, 191, 204, 191, 196, 202, 187, 190, 195, 180, 181, 198, 184, 190, 198, 183, 187, 199, 184, 186, 194, 179, 181, 192, 180, 181, 193, 178, 181, 193, 176, 181, 190, 172, 176, 184, 167, 169, 185, 167, 167, 187, 170, 170, 190, 175, 178, 191, 172, 177, 192, 174, 179, 193, 176, 182, 193, 176, 182, 186, 168, 174, 181, 162, 164, 177, 157, 160, 183, 164, 168, 204, 190, 194, 198, 182, 182, 195, 177, 175, 203, 188, 188, 203, 189, 191, 203, 186, 190, 201, 181, 184, 195, 177, 174, 203, 189, 191, 204, 191, 197, 202, 188, 191, 193, 178, 178, 192, 177, 181, 197, 182, 186, 199, 185, 187, 192, 176, 176, 184, 168, 168, 189, 171, 172, 188, 168, 170, 187, 168, 169, 185, 166, 166, 185, 166, 166, 186, 169, 169, 190, 173, 176, 192, 174, 179, 195, 179, 185, 195, 179, 186, 194, 178, 184, 187, 169, 175, 182, 163, 165, 177, 158, 160, 187, 169, 173, 206, 192, 195, 203, 187, 187, 195, 176, 172, 196, 175, 172, 198, 182, 180, 195, 178, 175, 193, 172, 169, 191, 171, 166, 198, 182, 181, 201, 187, 194, 199, 185, 190, 190, 173, 174, 190, 175, 175, 194, 179, 185, 193, 179, 182, 186, 168, 167, 187, 167, 167, 187, 167, 168, 187, 167, 169, 186, 166, 164, 186, 166, 165, 183, 163, 163, 188, 169, 169, 191, 172, 174, 193, 177, 183, 196, 182, 188, 193, 178, 185, 192, 176, 184, 187, 170, 176, 188, 170, 173, 192, 173, 177, 194, 178, 187], \"height\": 32, \"channels\": 3, \"width\": 32, \"type\": \"image\", \"id\": 112285934096}, {\"format\": \"raw\", \"value\": [228, 222, 236, 224, 213, 222, 212, 206, 207, 209, 202, 202, 210, 198, 199, 212, 199, 196, 203, 187, 181, 134, 116, 104, 137, 111, 87, 165, 132, 98, 170, 137, 99, 166, 132, 99, 181, 137, 124, 209, 189, 185, 199, 194, 195, 197, 188, 189, 199, 188, 186, 196, 186, 184, 193, 183, 181, 191, 181, 179, 185, 180, 176, 190, 171, 172, 173, 134, 142, 183, 148, 154, 179, 148, 152, 174, 139, 145, 174, 145, 149, 161, 141, 143, 159, 146, 143, 141, 129, 123, 87, 73, 71, 50, 43, 44, 233, 228, 241, 224, 213, 223, 215, 209, 211, 212, 205, 205, 212, 200, 201, 217, 204, 201, 182, 167, 161, 108, 90, 77, 145, 120, 94, 170, 137, 101, 176, 143, 103, 173, 143, 108, 162, 138, 114, 160, 150, 133, 186, 180, 172, 204, 192, 190, 200, 188, 187, 197, 187, 185, 194, 184, 182, 192, 182, 180, 188, 180, 177, 189, 173, 173, 193, 170, 172, 184, 170, 169, 178, 169, 167, 176, 162, 161, 171, 157, 156, 166, 151, 150, 162, 148, 147, 125, 113, 110, 58, 42, 40, 62, 52, 48, 234, 229, 242, 224, 213, 222, 218, 212, 213, 217, 210, 210, 216, 205, 205, 222, 208, 206, 186, 171, 165, 108, 90, 76, 148, 123, 94, 173, 141, 102, 184, 151, 108, 173, 146, 106, 150, 132, 101, 99, 88, 60, 104, 95, 77, 179, 166, 160, 205, 194, 191, 200, 190, 188, 197, 187, 185, 195, 185, 183, 193, 183, 181, 191, 179, 177, 188, 175, 174, 182, 175, 172, 176, 174, 169, 172, 167, 163, 171, 162, 159, 167, 156, 154, 164, 151, 150, 144, 134, 132, 82, 65, 61, 99, 85, 73, 237, 231, 245, 226, 215, 224, 220, 214, 215, 221, 214, 214, 220, 208, 209, 225, 211, 209, 178, 162, 157, 97, 79, 65, 147, 123, 92, 175, 143, 102, 188, 155, 109, 164, 136, 95, 145, 120, 89, 132, 112, 77, 72, 58, 32, 95, 84, 73, 173, 163, 160, 206, 195, 194, 200, 190, 188, 198, 189, 187, 196, 186, 184, 193, 182, 180, 188, 178, 176, 187, 176, 174, 184, 173, 171, 179, 169, 166, 175, 164, 162, 170, 160, 157, 164, 154, 153, 161, 151, 152, 107, 90, 85, 112, 97, 79, 242, 238, 250, 231, 221, 230, 227, 220, 222, 224, 216, 216, 222, 212, 212, 223, 212, 210, 132, 118, 112, 87, 69, 52, 152, 128, 95, 175, 145, 103, 186, 156, 109, 178, 151, 106, 172, 142, 108, 166, 138, 105, 118, 98, 68, 66, 52, 37, 99, 89, 80, 191, 181, 174, 205, 196, 191, 201, 191, 189, 199, 189, 187, 195, 185, 184, 191, 181, 180, 191, 176, 176, 190, 173, 174, 186, 170, 171, 179, 166, 167, 173, 163, 161, 166, 158, 156, 166, 156, 157, 110, 92, 86, 118, 101, 80, 242, 239, 249, 232, 227, 234, 232, 224, 229, 227, 216, 216, 223, 215, 214, 215, 211, 208, 108, 99, 89, 103, 84, 62, 155, 130, 97, 166, 140, 103, 175, 149, 107, 173, 148, 103, 156, 131, 98, 141, 116, 93, 138, 115, 84, 96, 74, 53, 72, 59, 40, 150, 140, 122, 210, 198, 189, 203, 191, 188, 201, 188, 187, 198, 185, 185, 195, 183, 182, 193, 180, 180, 189, 175, 177, 183, 171, 175, 178, 168, 169, 174, 164, 163, 169, 159, 159, 170, 157, 157, 111, 91, 84, 112, 94, 73, 239, 237, 248, 230, 225, 233, 233, 224, 231, 227, 217, 217, 224, 217, 215, 206, 201, 196, 94, 83, 70, 118, 98, 73, 150, 125, 92, 148, 124, 92, 138, 113, 83, 117, 93, 63, 83, 63, 40, 73, 53, 37, 98, 79, 47, 92, 73, 47, 111, 97, 76, 143, 131, 112, 190, 177, 166, 205, 192, 187, 202, 188, 184, 201, 187, 182, 195, 181, 177, 183, 170, 165, 184, 171, 168, 184, 173, 172, 178, 166, 166, 175, 163, 163, 171, 159, 159, 171, 157, 158, 114, 93, 86, 110, 92, 71, 238, 235, 248, 221, 215, 226, 223, 214, 223, 227, 217, 219, 224, 218, 215, 202, 196, 190, 97, 81, 65, 130, 107, 79, 150, 126, 94, 148, 124, 97, 132, 107, 86, 94, 71, 52, 72, 55, 38, 69, 52, 38, 98, 85, 50, 111, 97, 66, 155, 142, 121, 150, 136, 118, 123, 108, 94, 141, 127, 116, 141, 126, 116, 138, 124, 113, 123, 108, 97, 107, 93, 82, 136, 122, 112, 167, 154, 146, 179, 166, 159, 176, 163, 160, 172, 159, 159, 171, 157, 157, 115, 95, 87, 111, 93, 71, 233, 230, 246, 214, 208, 221, 214, 205, 217, 228, 218, 222, 224, 218, 215, 203, 194, 186, 107, 86, 66, 135, 109, 79, 149, 127, 97, 140, 118, 91, 135, 112, 91, 99, 78, 55, 86, 68, 45, 89, 71, 53, 124, 109, 71, 138, 122, 90, 173, 157, 137, 148, 132, 114, 78, 61, 44, 62, 45, 29, 71, 54, 37, 82, 65, 47, 72, 55, 37, 72, 55, 37, 84, 69, 51, 112, 99, 82, 163, 149, 137, 176, 161, 156, 172, 158, 157, 169, 155, 156, 116, 95, 88, 113, 94, 73, 225, 221, 240, 213, 207, 222, 210, 200, 214, 226, 217, 222, 224, 218, 216, 196, 185, 176, 130, 106, 82, 118, 90, 59, 124, 104, 76, 123, 104, 74, 130, 111, 79, 116, 97, 60, 110, 89, 52, 118, 95, 68, 136, 115, 75, 150, 128, 98, 163, 143, 126, 132, 114, 96, 77, 59, 40, 66, 48, 28, 85, 67, 44, 86, 69, 45, 85, 68, 44, 95, 78, 54, 94, 78, 54, 86, 72, 49, 100, 85, 69, 141, 124, 117, 169, 153, 152, 168, 154, 154, 113, 92, 85, 111, 93, 71, 220, 217, 236, 207, 203, 218, 203, 197, 211, 220, 216, 222, 222, 217, 214, 173, 157, 143, 146, 115, 85, 135, 100, 67, 105, 80, 56, 110, 90, 67, 118, 102, 74, 125, 108, 71, 131, 109, 73, 132, 109, 85, 140, 120, 87, 167, 149, 111, 158, 141, 111, 123, 105, 80, 76, 58, 37, 84, 65, 47, 102, 83, 60, 91, 72, 46, 91, 73, 46, 112, 94, 67, 97, 81, 55, 80, 67, 43, 76, 62, 43, 92, 78, 63, 141, 126, 116, 174, 154, 152, 113, 90, 84, 105, 88, 67, 210, 207, 225, 199, 197, 211, 200, 198, 209, 215, 215, 221, 214, 209, 204, 156, 136, 115, 151, 116, 79, 152, 112, 76, 102, 71, 49, 109, 90, 73, 119, 105, 86, 116, 99, 72, 132, 113, 85, 122, 102, 87, 133, 117, 93, 162, 150, 104, 174, 160, 118, 129, 112, 81, 82, 64, 41, 92, 73, 58, 102, 82, 61, 98, 77, 50, 105, 85, 58, 114, 93, 66, 101, 84, 59, 75, 62, 39, 80, 67, 44, 87, 74, 51, 111, 96, 76, 171, 146, 140, 115, 93, 87, 104, 87, 66, 206, 204, 220, 211, 209, 221, 209, 208, 217, 219, 217, 219, 214, 205, 197, 151, 129, 107, 155, 121, 84, 152, 114, 77, 88, 60, 36, 105, 88, 70, 137, 124, 107, 150, 135, 111, 129, 114, 89, 123, 106, 89, 137, 121, 97, 138, 124, 83, 140, 125, 87, 114, 97, 67, 86, 68, 44, 94, 76, 58, 97, 77, 54, 102, 82, 54, 114, 94, 67, 123, 103, 76, 103, 85, 59, 87, 72, 48, 97, 82, 58, 107, 92, 68, 105, 88, 67, 148, 126, 117, 117, 96, 88, 104, 89, 69, 207, 205, 218, 215, 213, 222, 224, 223, 230, 227, 221, 220, 181, 167, 155, 142, 118, 94, 160, 125, 89, 160, 124, 86, 94, 69, 40, 99, 85, 65, 165, 155, 139, 187, 175, 156, 161, 152, 130, 132, 120, 101, 156, 141, 115, 158, 142, 107, 129, 112, 80, 97, 80, 52, 98, 81, 56, 99, 81, 58, 93, 74, 49, 101, 81, 54, 127, 108, 81, 130, 110, 83, 119, 100, 73, 122, 105, 79, 122, 105, 80, 127, 110, 84, 109, 91, 68, 118, 100, 85, 108, 91, 79, 103, 91, 72, 200, 199, 210, 203, 202, 209, 204, 203, 207, 204, 194, 189, 134, 115, 99, 136, 110, 84, 164, 129, 93, 163, 129, 89, 113, 91, 57, 86, 75, 53, 162, 154, 139, 197, 187, 171, 196, 192, 172, 193, 186, 164, 194, 180, 153, 158, 140, 109, 121, 103, 75, 93, 76, 50, 106, 89, 63, 106, 89, 63, 104, 85, 58, 113, 93, 66, 128, 108, 81, 119, 99, 72, 122, 102, 75, 138, 118, 90, 145, 125, 97, 134, 114, 86, 121, 102, 75, 97, 81, 62, 82, 67, 53, 105, 95, 76, 188, 186, 195, 193, 191, 197, 191, 190, 193, 172, 160, 152, 123, 101, 83, 136, 108, 82, 162, 128, 93, 157, 126, 86, 131, 112, 76, 77, 68, 45, 101, 93, 80, 184, 176, 164, 203, 201, 184, 214, 209, 185, 208, 195, 167, 175, 157, 130, 102, 83, 59, 89, 72, 48, 105, 88, 62, 107, 90, 62, 119, 100, 72, 123, 103, 76, 123, 103, 76, 106, 86, 59, 117, 97, 69, 142, 121, 92, 150, 130, 101, 125, 105, 76, 113, 93, 66, 91, 76, 55, 75, 63, 48, 107, 99, 81, 200, 194, 199, 198, 192, 196, 210, 204, 208, 160, 144, 138, 122, 99, 82, 136, 111, 86, 157, 128, 96, 144, 120, 85, 115, 102, 73, 90, 78, 60, 60, 48, 41, 81, 69, 64, 127, 120, 102, 173, 165, 142, 155, 145, 118, 122, 110, 82, 100, 85, 59, 93, 78, 52, 98, 83, 56, 101, 86, 59, 125, 109, 78, 136, 119, 86, 126, 109, 79, 115, 97, 70, 124, 106, 78, 129, 111, 81, 139, 123, 94, 114, 99, 72, 94, 81, 56, 91, 78, 59, 86, 76, 59, 99, 92, 76, 212, 203, 206, 209, 199, 203, 218, 209, 212, 167, 154, 151, 113, 96, 84, 118, 100, 82, 133, 112, 87, 117, 100, 75, 100, 88, 69, 97, 85, 70, 78, 65, 56, 87, 73, 65, 131, 118, 97, 149, 136, 111, 126, 113, 85, 117, 104, 74, 113, 100, 72, 88, 75, 49, 94, 81, 54, 107, 94, 67, 133, 119, 87, 149, 133, 100, 127, 111, 81, 113, 97, 71, 123, 106, 79, 122, 106, 76, 127, 113, 85, 109, 98, 72, 82, 72, 49, 89, 77, 60, 91, 82, 65, 95, 89, 75, 214, 205, 206, 210, 201, 202, 189, 180, 181, 143, 137, 134, 105, 98, 90, 104, 95, 83, 103, 91, 75, 103, 90, 76, 101, 90, 81, 100, 90, 76, 91, 82, 64, 130, 119, 99, 158, 141, 117, 165, 149, 122, 151, 134, 104, 138, 122, 90, 98, 86, 59, 72, 62, 36, 93, 82, 56, 117, 106, 81, 134, 122, 91, 150, 136, 104, 120, 106, 77, 112, 97, 72, 124, 109, 83, 127, 112, 84, 128, 116, 89, 123, 114, 90, 91, 84, 63, 83, 74, 57, 92, 85, 70, 93, 89, 77, 190, 182, 180, 156, 148, 146, 127, 119, 117, 111, 108, 103, 109, 107, 100, 108, 104, 95, 113, 105, 96, 112, 103, 96, 107, 99, 91, 107, 100, 86, 90, 84, 64, 97, 90, 66, 117, 104, 81, 123, 109, 84, 130, 117, 88, 119, 106, 76, 91, 80, 54, 84, 75, 51, 98, 89, 65, 111, 101, 77, 130, 120, 91, 138, 127, 97, 111, 100, 73, 116, 104, 82, 125, 112, 88, 123, 111, 84, 134, 124, 100, 118, 112, 90, 102, 96, 77, 88, 82, 66, 91, 86, 73, 91, 88, 78, 124, 117, 112, 116, 108, 104, 117, 109, 105, 120, 116, 107, 118, 116, 105, 122, 115, 106, 125, 115, 108, 125, 116, 108, 120, 115, 104, 116, 112, 97, 101, 98, 79, 89, 85, 65, 105, 98, 80, 111, 104, 84, 111, 105, 82, 105, 99, 73, 109, 102, 79, 112, 105, 82, 120, 113, 90, 123, 116, 93, 126, 118, 91, 131, 122, 93, 123, 113, 88, 127, 117, 96, 144, 133, 111, 123, 112, 87, 114, 106, 84, 100, 96, 75, 94, 90, 72, 97, 92, 78, 94, 91, 80, 91, 91, 83, 115, 108, 104, 122, 116, 111, 124, 118, 112, 121, 116, 106, 123, 118, 106, 131, 122, 113, 133, 122, 115, 137, 129, 119, 137, 133, 118, 135, 131, 116, 132, 129, 113, 132, 129, 114, 135, 132, 118, 137, 134, 119, 139, 137, 118, 137, 135, 114, 135, 130, 109, 135, 129, 108, 137, 131, 110, 135, 129, 108, 135, 129, 105, 134, 127, 102, 127, 119, 97, 140, 132, 113, 142, 133, 114, 102, 95, 73, 94, 89, 69, 95, 92, 73, 103, 100, 84, 104, 100, 89, 100, 97, 88, 97, 97, 90, 126, 121, 121, 124, 120, 116, 123, 119, 113, 123, 118, 110, 129, 122, 113, 134, 127, 118, 135, 128, 120, 140, 133, 123, 139, 133, 120, 139, 133, 120, 140, 134, 122, 139, 133, 120, 142, 137, 121, 140, 135, 119, 138, 133, 116, 138, 133, 116, 139, 134, 114, 140, 135, 115, 140, 135, 115, 134, 129, 109, 141, 136, 117, 138, 132, 115, 134, 128, 111, 134, 128, 111, 122, 117, 101, 99, 96, 81, 96, 93, 78, 99, 97, 82, 109, 106, 94, 107, 104, 98, 102, 99, 94, 103, 100, 95, 131, 127, 127, 128, 124, 121, 124, 122, 115, 130, 125, 117, 136, 129, 121, 129, 122, 114, 130, 123, 115, 138, 131, 122, 137, 131, 119, 134, 128, 116, 134, 128, 116, 146, 140, 127, 149, 143, 127, 149, 143, 127, 142, 136, 120, 135, 129, 113, 140, 135, 117, 143, 138, 119, 144, 139, 120, 143, 138, 119, 144, 138, 122, 133, 127, 113, 132, 126, 112, 136, 130, 116, 125, 121, 107, 120, 118, 105, 124, 122, 109, 121, 119, 106, 115, 113, 101, 112, 109, 104, 110, 107, 102, 107, 104, 99, 133, 129, 130, 133, 129, 126, 130, 127, 121, 124, 118, 111, 131, 124, 116, 132, 125, 117, 132, 124, 117, 135, 128, 119, 141, 135, 123, 150, 144, 132, 148, 142, 130, 153, 147, 135, 151, 145, 130, 150, 144, 128, 147, 141, 125, 147, 141, 125, 142, 136, 120, 139, 134, 118, 143, 137, 122, 148, 142, 126, 146, 140, 126, 134, 128, 115, 124, 118, 106, 126, 120, 107, 127, 123, 111, 127, 124, 113, 127, 125, 114, 125, 123, 112, 125, 122, 112, 120, 117, 111, 121, 118, 113, 118, 115, 110, 136, 132, 132, 137, 133, 130, 129, 126, 120, 124, 118, 111, 132, 125, 116, 135, 128, 120, 138, 131, 123, 139, 132, 122, 145, 138, 127, 152, 146, 134, 146, 140, 128, 142, 136, 123, 140, 134, 119, 136, 130, 114, 140, 134, 118, 139, 133, 118, 133, 127, 114, 130, 124, 111, 133, 127, 114, 139, 134, 121, 139, 133, 122, 134, 127, 117, 133, 127, 116, 134, 127, 116, 132, 127, 118, 135, 132, 124, 134, 131, 124, 136, 133, 125, 130, 127, 119, 123, 120, 115, 122, 119, 114, 119, 116, 111, 130, 126, 127, 143, 139, 136, 136, 133, 127, 135, 130, 122, 137, 130, 122, 142, 135, 127, 145, 138, 130, 143, 137, 127, 138, 132, 120, 136, 130, 118, 133, 127, 115, 134, 128, 115, 134, 128, 112, 130, 124, 108, 128, 122, 107, 129, 123, 108, 127, 121, 109, 132, 125, 114, 133, 127, 116, 134, 128, 116, 140, 133, 124, 140, 133, 124, 140, 133, 124, 134, 127, 119, 134, 128, 121, 138, 135, 129, 138, 135, 129, 140, 137, 131, 131, 128, 122, 130, 127, 122, 129, 126, 121, 117, 115, 110, 116, 114, 112, 142, 140, 136, 146, 145, 140, 141, 137, 129, 149, 142, 133, 147, 140, 131, 143, 135, 126, 138, 130, 121, 134, 128, 117, 130, 123, 112, 130, 124, 113, 130, 124, 113, 131, 127, 114, 132, 128, 115, 136, 132, 118, 133, 129, 115, 134, 130, 118, 135, 131, 120, 137, 133, 122, 140, 136, 125, 147, 142, 133, 142, 137, 130, 135, 130, 123, 137, 132, 125, 137, 133, 126, 136, 133, 126, 136, 133, 126, 133, 130, 123, 127, 125, 118, 126, 127, 122, 132, 133, 129, 130, 131, 126, 107, 108, 103, 127, 128, 123, 138, 139, 135, 141, 137, 130, 143, 137, 127, 134, 128, 118, 132, 125, 115, 131, 124, 114, 134, 128, 118, 137, 130, 121, 141, 135, 125, 134, 128, 118, 135, 132, 121, 148, 146, 134, 142, 140, 128, 139, 137, 126, 150, 148, 137, 154, 152, 140, 150, 148, 136, 151, 148, 137, 152, 149, 141, 146, 143, 137, 136, 133, 127, 133, 130, 123, 136, 133, 126, 138, 135, 128, 137, 135, 127, 137, 134, 127, 140, 139, 133, 138, 141, 140, 142, 146, 145, 139, 143, 143, 108, 108, 107, 119, 119, 117, 125, 125, 123, 134, 132, 126, 134, 130, 122, 131, 127, 119, 132, 128, 120, 133, 129, 121, 139, 135, 126, 145, 141, 133, 148, 144, 136, 146, 142, 134, 152, 149, 140, 156, 153, 144, 150, 148, 139, 151, 148, 139, 155, 152, 143, 158, 155, 147, 155, 152, 144, 151, 149, 140, 146, 143, 137, 144, 141, 137, 141, 138, 133, 142, 138, 134, 144, 142, 137, 147, 146, 142, 143, 143, 138, 139, 139, 134, 146, 146, 144, 146, 149, 154, 144, 147, 153, 134, 137, 143, 119, 119, 119, 122, 122, 122, 124, 124, 124, 137, 136, 133, 135, 133, 127, 138, 137, 131, 142, 141, 135, 144, 142, 137, 146, 144, 138, 139, 138, 132, 147, 146, 140, 151, 149, 143, 156, 153, 147, 153, 150, 144, 151, 148, 143, 151, 148, 143, 151, 148, 142, 149, 145, 140, 146, 143, 137, 146, 143, 137, 149, 145, 142, 148, 144, 143, 146, 142, 140, 153, 149, 147, 150, 148, 147, 147, 147, 148, 140, 140, 141, 136, 136, 137, 151, 151, 154, 147, 149, 158, 130, 133, 142, 110, 113, 122, 130, 129, 132, 130, 129, 132, 125, 125, 127, 138, 138, 136, 136, 136, 132, 141, 142, 138, 150, 151, 147, 156, 156, 152, 158, 158, 154, 143, 143, 139, 136, 136, 132, 144, 143, 140, 148, 144, 141, 152, 148, 145, 161, 158, 155, 170, 166, 163, 168, 164, 161, 159, 156, 153, 158, 154, 152, 157, 153, 151, 158, 154, 154, 164, 160, 161, 153, 149, 149, 144, 140, 140, 139, 137, 140, 133, 134, 139, 126, 127, 132, 128, 129, 134, 138, 140, 145, 103, 107, 111, 60, 63, 67, 43, 47, 51], \"height\": 32, \"channels\": 3, \"width\": 32, \"type\": \"image\", \"id\": 112285933968}, {\"format\": \"raw\", \"value\": [217, 220, 205, 221, 227, 218, 195, 209, 205, 156, 176, 170, 150, 163, 149, 128, 138, 125, 124, 129, 121, 164, 165, 157, 228, 228, 224, 235, 239, 239, 214, 225, 223, 176, 196, 195, 196, 223, 228, 204, 228, 240, 216, 229, 237, 217, 217, 215, 235, 232, 228, 236, 239, 238, 236, 237, 239, 234, 236, 241, 216, 227, 234, 193, 214, 223, 182, 209, 218, 180, 209, 213, 189, 223, 229, 200, 233, 242, 212, 235, 238, 224, 236, 232, 227, 231, 230, 226, 230, 229, 226, 230, 229, 222, 227, 226, 222, 235, 221, 228, 241, 232, 188, 206, 204, 133, 155, 150, 140, 155, 131, 128, 136, 123, 148, 151, 151, 136, 140, 134, 188, 191, 186, 234, 237, 240, 211, 220, 220, 146, 162, 160, 181, 203, 202, 203, 220, 224, 170, 179, 182, 162, 164, 161, 233, 232, 227, 245, 246, 244, 242, 242, 246, 238, 242, 249, 227, 240, 250, 213, 236, 250, 202, 231, 247, 199, 230, 241, 203, 236, 247, 209, 239, 251, 220, 240, 246, 228, 238, 239, 230, 234, 233, 229, 233, 232, 229, 233, 232, 227, 231, 230, 207, 220, 198, 221, 233, 216, 187, 201, 196, 129, 148, 143, 111, 129, 106, 121, 130, 120, 145, 146, 150, 120, 125, 120, 109, 115, 108, 143, 146, 150, 145, 151, 152, 121, 131, 129, 129, 143, 138, 131, 140, 136, 130, 136, 135, 151, 159, 159, 221, 229, 230, 231, 239, 241, 231, 239, 240, 229, 241, 243, 223, 243, 249, 214, 243, 253, 206, 238, 250, 210, 236, 247, 217, 240, 250, 220, 239, 247, 228, 236, 240, 233, 236, 235, 231, 235, 234, 230, 234, 233, 229, 233, 232, 228, 232, 231, 166, 178, 147, 185, 198, 176, 179, 194, 189, 133, 155, 160, 124, 146, 140, 126, 137, 132, 118, 119, 117, 109, 112, 106, 76, 82, 75, 73, 77, 75, 76, 80, 81, 73, 78, 77, 75, 80, 75, 105, 107, 98, 151, 156, 152, 159, 176, 183, 163, 188, 200, 168, 193, 205, 175, 199, 204, 180, 206, 210, 183, 212, 219, 183, 217, 225, 177, 212, 221, 169, 195, 206, 180, 200, 209, 192, 204, 209, 209, 213, 213, 231, 230, 228, 231, 235, 234, 229, 233, 232, 229, 233, 232, 228, 232, 231, 132, 151, 120, 134, 156, 137, 146, 174, 176, 162, 195, 214, 175, 203, 219, 136, 149, 151, 111, 112, 103, 114, 113, 104, 84, 88, 80, 62, 67, 59, 77, 79, 78, 72, 73, 74, 73, 72, 69, 119, 116, 106, 154, 160, 157, 157, 185, 198, 148, 189, 213, 146, 188, 212, 149, 188, 208, 153, 190, 208, 155, 191, 209, 158, 193, 211, 159, 194, 212, 152, 187, 204, 159, 186, 200, 181, 199, 207, 200, 210, 214, 223, 229, 230, 231, 236, 235, 229, 233, 232, 228, 232, 231, 227, 231, 230, 119, 143, 123, 127, 159, 156, 159, 199, 213, 173, 218, 241, 160, 193, 213, 103, 117, 119, 88, 89, 82, 98, 95, 92, 88, 85, 81, 70, 72, 64, 80, 80, 75, 81, 79, 76, 84, 82, 78, 129, 126, 116, 152, 158, 155, 147, 172, 188, 126, 163, 188, 111, 147, 169, 104, 137, 155, 99, 129, 147, 98, 125, 146, 102, 127, 150, 122, 146, 170, 141, 172, 189, 142, 168, 179, 153, 173, 178, 190, 213, 218, 209, 231, 235, 219, 229, 227, 227, 235, 231, 226, 233, 229, 225, 230, 227, 139, 168, 168, 169, 208, 227, 165, 213, 238, 151, 200, 224, 129, 163, 175, 91, 102, 100, 89, 91, 88, 95, 94, 95, 89, 83, 81, 80, 79, 73, 76, 74, 67, 83, 81, 74, 99, 99, 93, 113, 113, 102, 121, 127, 123, 100, 117, 130, 63, 84, 101, 58, 77, 87, 68, 85, 91, 48, 65, 73, 38, 53, 65, 41, 54, 70, 41, 55, 73, 63, 81, 91, 88, 102, 104, 81, 94, 94, 97, 122, 127, 182, 211, 217, 214, 232, 233, 212, 227, 225, 222, 234, 229, 222, 231, 224, 168, 206, 226, 158, 202, 232, 141, 188, 220, 138, 184, 210, 117, 145, 155, 95, 102, 97, 92, 95, 87, 104, 107, 101, 96, 95, 86, 87, 86, 80, 66, 65, 60, 80, 79, 73, 100, 99, 93, 113, 112, 102, 116, 121, 115, 69, 81, 88, 16, 29, 38, 32, 40, 42, 50, 61, 63, 53, 66, 72, 42, 55, 60, 40, 53, 59, 30, 43, 50, 27, 38, 43, 56, 61, 62, 77, 82, 80, 57, 71, 75, 87, 109, 117, 184, 207, 217, 208, 228, 233, 208, 225, 224, 216, 229, 222, 153, 201, 228, 135, 185, 215, 128, 178, 204, 124, 168, 190, 99, 121, 130, 89, 92, 85, 105, 108, 98, 103, 111, 100, 95, 97, 84, 101, 98, 90, 100, 100, 96, 102, 102, 98, 104, 101, 94, 122, 121, 109, 122, 126, 117, 85, 91, 91, 15, 20, 19, 56, 56, 50, 56, 60, 58, 47, 55, 56, 49, 58, 57, 57, 68, 65, 42, 53, 50, 19, 23, 23, 30, 29, 28, 53, 53, 50, 59, 63, 65, 47, 59, 68, 94, 118, 134, 185, 210, 222, 208, 231, 235, 191, 209, 206, 135, 189, 213, 122, 177, 200, 119, 171, 193, 115, 158, 178, 100, 119, 128, 108, 109, 102, 103, 104, 94, 92, 98, 88, 94, 94, 80, 112, 108, 99, 162, 164, 161, 132, 134, 131, 99, 95, 88, 122, 120, 107, 118, 121, 109, 76, 77, 71, 20, 19, 14, 69, 66, 56, 80, 80, 74, 60, 63, 60, 45, 50, 46, 54, 63, 56, 58, 68, 61, 30, 32, 28, 21, 20, 17, 29, 29, 27, 39, 39, 40, 54, 59, 66, 43, 62, 74, 121, 148, 162, 202, 231, 241, 199, 222, 225, 128, 182, 207, 113, 168, 193, 108, 161, 190, 102, 146, 176, 98, 119, 131, 108, 109, 103, 98, 97, 90, 83, 86, 79, 98, 94, 83, 107, 102, 93, 200, 204, 201, 151, 156, 154, 103, 99, 91, 108, 104, 89, 116, 117, 102, 72, 71, 62, 22, 22, 14, 48, 48, 38, 79, 76, 68, 64, 62, 55, 48, 50, 45, 32, 38, 34, 48, 57, 53, 52, 58, 53, 28, 33, 30, 21, 26, 26, 26, 28, 31, 43, 45, 47, 36, 47, 49, 89, 113, 124, 180, 211, 227, 210, 237, 250, 123, 173, 204, 112, 162, 195, 108, 155, 194, 104, 144, 184, 115, 136, 153, 104, 108, 108, 127, 126, 121, 133, 133, 127, 123, 117, 106, 118, 113, 103, 207, 209, 209, 202, 205, 207, 137, 135, 130, 112, 110, 96, 118, 116, 102, 72, 71, 61, 24, 25, 18, 34, 36, 29, 70, 67, 57, 68, 63, 53, 54, 54, 46, 34, 38, 35, 30, 37, 37, 55, 62, 59, 50, 58, 56, 23, 30, 31, 23, 28, 30, 29, 32, 31, 47, 52, 48, 96, 115, 122, 149, 178, 194, 194, 224, 242, 95, 138, 170, 89, 130, 162, 89, 126, 161, 87, 119, 154, 110, 132, 153, 129, 139, 148, 142, 143, 140, 168, 167, 157, 136, 132, 119, 135, 131, 122, 156, 154, 157, 224, 224, 231, 200, 203, 203, 130, 130, 122, 106, 103, 93, 63, 62, 53, 28, 29, 22, 32, 33, 27, 70, 65, 55, 78, 72, 60, 55, 55, 43, 39, 42, 35, 24, 29, 28, 39, 45, 43, 66, 72, 70, 30, 35, 34, 24, 30, 29, 24, 29, 26, 54, 60, 56, 100, 113, 117, 113, 136, 148, 180, 208, 228, 46, 83, 107, 35, 69, 93, 36, 65, 90, 30, 58, 84, 64, 89, 113, 159, 175, 188, 153, 160, 161, 166, 168, 161, 150, 151, 142, 147, 147, 142, 122, 123, 129, 211, 213, 222, 220, 225, 227, 142, 144, 138, 105, 101, 94, 71, 70, 64, 41, 42, 36, 29, 29, 24, 62, 58, 50, 90, 85, 72, 68, 67, 55, 48, 51, 43, 31, 35, 34, 27, 31, 30, 67, 70, 69, 41, 45, 43, 21, 25, 24, 23, 27, 25, 62, 68, 65, 74, 86, 88, 80, 99, 110, 123, 148, 166, 123, 160, 181, 99, 134, 155, 82, 116, 137, 71, 105, 128, 94, 125, 151, 176, 198, 216, 193, 206, 212, 182, 190, 190, 172, 179, 178, 135, 142, 143, 134, 140, 147, 195, 201, 209, 199, 205, 207, 135, 135, 131, 92, 89, 82, 80, 78, 73, 54, 54, 50, 30, 30, 26, 40, 37, 31, 85, 81, 71, 91, 90, 78, 70, 71, 64, 43, 45, 43, 21, 23, 21, 52, 55, 52, 56, 58, 56, 26, 28, 26, 34, 38, 35, 57, 65, 62, 51, 62, 64, 71, 87, 95, 74, 94, 107, 166, 206, 231, 154, 193, 218, 140, 181, 205, 117, 158, 183, 125, 160, 187, 171, 197, 217, 214, 229, 240, 204, 216, 221, 194, 206, 209, 173, 185, 190, 166, 176, 182, 175, 181, 185, 142, 146, 145, 104, 103, 99, 79, 76, 71, 71, 69, 65, 56, 55, 53, 38, 37, 36, 32, 29, 27, 57, 55, 48, 96, 95, 86, 95, 95, 89, 59, 59, 57, 24, 25, 22, 40, 41, 38, 58, 60, 56, 37, 39, 35, 48, 52, 49, 45, 54, 52, 42, 53, 54, 64, 76, 81, 85, 98, 106, 134, 167, 192, 140, 175, 199, 144, 181, 204, 138, 177, 201, 143, 180, 205, 168, 196, 214, 215, 232, 242, 218, 230, 238, 210, 223, 230, 202, 216, 223, 189, 200, 203, 126, 131, 129, 87, 86, 81, 86, 82, 77, 79, 75, 72, 68, 67, 64, 53, 53, 51, 38, 38, 38, 34, 33, 33, 32, 31, 26, 57, 57, 49, 96, 94, 89, 83, 82, 79, 34, 35, 30, 29, 30, 25, 49, 50, 45, 51, 52, 47, 72, 76, 72, 47, 57, 57, 51, 61, 62, 71, 80, 83, 100, 108, 112, 113, 134, 154, 110, 133, 152, 115, 139, 156, 134, 161, 179, 129, 163, 187, 141, 168, 186, 198, 215, 225, 224, 236, 245, 221, 233, 242, 214, 228, 235, 141, 149, 150, 64, 65, 60, 69, 65, 56, 79, 74, 68, 81, 77, 74, 73, 71, 69, 54, 53, 53, 36, 36, 37, 39, 39, 41, 41, 41, 38, 30, 29, 23, 64, 61, 56, 94, 91, 88, 54, 55, 50, 28, 29, 24, 40, 41, 36, 67, 68, 62, 108, 111, 107, 68, 78, 79, 53, 63, 63, 78, 85, 85, 115, 119, 120, 178, 205, 226, 158, 182, 201, 137, 148, 158, 183, 190, 198, 171, 199, 223, 166, 193, 211, 178, 196, 206, 217, 232, 244, 220, 231, 244, 179, 185, 193, 95, 96, 96, 73, 70, 64, 71, 69, 59, 73, 72, 65, 78, 77, 75, 78, 77, 77, 52, 52, 52, 33, 33, 36, 35, 36, 41, 49, 50, 54, 33, 32, 31, 48, 45, 41, 77, 73, 69, 74, 73, 72, 43, 43, 41, 39, 39, 35, 74, 74, 68, 131, 135, 130, 95, 107, 107, 39, 48, 44, 49, 55, 50, 109, 115, 111, 187, 221, 246, 179, 210, 233, 171, 188, 202, 192, 201, 211, 181, 206, 228, 180, 202, 218, 166, 182, 189, 207, 220, 231, 203, 212, 224, 126, 130, 134, 97, 96, 93, 73, 71, 63, 55, 55, 46, 53, 54, 48, 58, 58, 56, 58, 58, 58, 27, 27, 28, 37, 37, 40, 42, 44, 48, 35, 38, 41, 36, 36, 35, 50, 48, 44, 69, 67, 60, 80, 80, 78, 65, 65, 64, 44, 44, 40, 80, 81, 74, 117, 121, 115, 105, 114, 112, 66, 72, 67, 47, 52, 47, 101, 110, 107, 168, 209, 233, 163, 203, 230, 167, 199, 222, 167, 193, 212, 178, 202, 222, 176, 193, 204, 138, 147, 152, 171, 179, 186, 189, 198, 203, 109, 115, 112, 78, 79, 71, 60, 59, 50, 70, 71, 63, 62, 63, 58, 35, 36, 33, 51, 52, 51, 33, 34, 35, 44, 44, 47, 50, 52, 53, 42, 45, 43, 40, 41, 37, 52, 53, 47, 68, 69, 61, 82, 84, 81, 82, 85, 81, 39, 41, 36, 50, 52, 46, 51, 54, 49, 49, 51, 48, 45, 47, 43, 28, 34, 33, 70, 83, 88, 153, 197, 225, 146, 191, 222, 146, 189, 221, 151, 188, 217, 199, 223, 240, 207, 218, 226, 136, 138, 141, 90, 94, 98, 147, 156, 159, 109, 118, 112, 78, 80, 71, 127, 127, 118, 166, 168, 162, 130, 133, 128, 45, 47, 44, 49, 51, 50, 58, 60, 60, 36, 37, 39, 50, 51, 51, 40, 42, 39, 32, 35, 31, 58, 62, 56, 71, 75, 69, 70, 75, 72, 71, 77, 75, 18, 24, 21, 8, 13, 11, 8, 12, 11, 10, 12, 11, 12, 15, 15, 5, 14, 19, 51, 69, 82, 142, 184, 216, 136, 179, 213, 134, 177, 214, 139, 179, 214, 190, 216, 234, 211, 221, 228, 158, 158, 160, 36, 40, 44, 65, 76, 80, 120, 129, 129, 107, 111, 106, 168, 169, 163, 167, 170, 165, 148, 153, 148, 85, 90, 86, 33, 37, 35, 49, 53, 53, 40, 43, 45, 45, 47, 47, 40, 42, 42, 30, 33, 33, 68, 74, 72, 64, 72, 69, 39, 47, 47, 33, 41, 43, 7, 15, 19, 6, 13, 18, 6, 14, 20, 12, 19, 27, 14, 23, 31, 17, 31, 44, 85, 108, 129, 132, 172, 208, 129, 167, 203, 127, 165, 204, 126, 164, 201, 123, 151, 171, 108, 119, 129, 90, 89, 94, 24, 30, 35, 25, 38, 45, 64, 73, 81, 78, 82, 84, 143, 144, 141, 136, 140, 135, 128, 134, 129, 89, 94, 90, 49, 53, 52, 44, 48, 48, 45, 49, 51, 36, 38, 41, 35, 36, 40, 42, 46, 49, 62, 69, 72, 33, 42, 46, 22, 31, 36, 18, 27, 34, 12, 20, 30, 15, 23, 35, 16, 27, 41, 22, 37, 54, 27, 42, 58, 41, 60, 79, 116, 143, 168, 123, 161, 200, 120, 157, 194, 117, 154, 193, 116, 152, 190, 92, 122, 148, 67, 87, 103, 58, 68, 78, 34, 45, 52, 43, 55, 66, 37, 46, 58, 27, 33, 41, 75, 79, 80, 83, 88, 86, 77, 83, 81, 68, 72, 72, 51, 55, 57, 36, 42, 44, 29, 35, 40, 26, 31, 39, 22, 26, 36, 31, 38, 47, 38, 48, 57, 26, 38, 47, 28, 38, 52, 28, 39, 53, 21, 33, 49, 29, 41, 57, 31, 45, 65, 34, 52, 75, 39, 58, 81, 58, 82, 104, 128, 157, 181, 113, 152, 192, 109, 147, 186, 107, 145, 184, 106, 143, 182, 106, 139, 174, 98, 127, 152, 70, 92, 108, 70, 86, 98, 75, 86, 100, 36, 47, 59, 26, 36, 45, 28, 37, 41, 21, 29, 30, 20, 26, 28, 26, 30, 36, 24, 30, 37, 18, 26, 33, 15, 25, 34, 17, 26, 41, 19, 29, 45, 21, 32, 47, 31, 44, 59, 34, 49, 64, 34, 47, 67, 30, 44, 65, 29, 45, 65, 48, 66, 85, 50, 69, 90, 41, 60, 85, 49, 72, 96, 84, 113, 135, 142, 175, 196, 104, 143, 182, 101, 139, 178, 99, 137, 176, 97, 134, 174, 95, 132, 170, 87, 120, 149, 72, 98, 118, 90, 109, 126, 81, 96, 112, 36, 49, 62, 35, 46, 57, 43, 53, 61, 28, 38, 43, 24, 34, 41, 19, 29, 41, 17, 28, 41, 18, 32, 45, 20, 35, 50, 24, 36, 57, 25, 37, 59, 29, 43, 64, 33, 49, 70, 34, 51, 72, 35, 51, 74, 31, 48, 71, 34, 53, 75, 49, 69, 91, 49, 71, 94, 42, 68, 94, 74, 104, 128, 120, 154, 177, 140, 178, 200, 95, 134, 174, 93, 131, 170, 92, 130, 169, 89, 127, 167, 85, 124, 166, 82, 118, 151, 82, 111, 135, 88, 110, 131, 80, 98, 117, 46, 62, 77, 32, 46, 60, 45, 57, 70, 46, 57, 67, 35, 48, 61, 26, 41, 59, 22, 39, 57, 22, 40, 60, 23, 42, 64, 27, 44, 70, 30, 44, 72, 31, 48, 75, 34, 54, 80, 35, 55, 81, 33, 53, 79, 32, 53, 79, 35, 57, 83, 40, 64, 89, 39, 66, 92, 52, 86, 113, 105, 141, 167, 127, 166, 191, 129, 169, 194, 89, 127, 167, 87, 125, 164, 86, 124, 163, 83, 121, 162, 78, 117, 161, 78, 114, 149, 81, 111, 136, 84, 107, 130, 83, 102, 123, 61, 79, 96, 34, 50, 67, 37, 52, 68, 49, 62, 78, 43, 58, 77, 29, 48, 69, 25, 45, 68, 26, 48, 71, 27, 50, 75, 31, 51, 79, 31, 50, 80, 33, 54, 83, 36, 60, 87, 32, 57, 84, 32, 56, 85, 34, 59, 88, 34, 60, 89, 38, 66, 94, 43, 74, 103, 79, 116, 145, 113, 152, 180, 118, 157, 185, 120, 160, 188, 82, 121, 161, 80, 118, 157, 80, 118, 157, 78, 116, 157, 75, 112, 155, 75, 109, 143, 75, 103, 127, 76, 97, 119, 81, 99, 120, 75, 95, 113, 45, 63, 82, 31, 47, 67, 35, 50, 71, 36, 52, 75, 32, 50, 73, 31, 51, 75, 29, 50, 76, 31, 54, 80, 34, 57, 84, 35, 59, 87, 36, 62, 89, 35, 62, 88, 30, 59, 86, 36, 63, 94, 38, 65, 97, 36, 65, 97, 37, 68, 99, 57, 92, 122, 97, 135, 166, 109, 146, 178, 112, 149, 180, 114, 150, 182, 75, 114, 154, 74, 112, 151, 74, 112, 151, 74, 111, 152, 71, 108, 150, 71, 103, 136, 69, 95, 120, 64, 84, 107, 59, 79, 101, 59, 81, 101, 51, 71, 92, 37, 55, 77, 33, 50, 74, 33, 50, 74, 34, 52, 76, 34, 53, 78, 32, 53, 79, 32, 55, 83, 37, 61, 89, 40, 66, 93, 37, 64, 91, 35, 63, 90, 35, 64, 91, 37, 66, 97, 36, 66, 98, 38, 69, 101, 49, 82, 114, 79, 114, 146, 101, 137, 168, 105, 141, 172, 106, 142, 173, 108, 142, 174, 69, 109, 148, 68, 106, 144, 68, 105, 144, 69, 105, 145, 65, 103, 142, 63, 94, 127, 60, 84, 111, 50, 72, 98, 42, 65, 90, 43, 66, 88, 47, 68, 91, 49, 69, 92, 45, 63, 87, 37, 56, 80, 34, 54, 79, 31, 53, 80, 31, 56, 84, 35, 61, 89, 39, 66, 96, 42, 69, 98, 45, 73, 102, 44, 72, 101, 38, 67, 96, 37, 69, 97, 40, 73, 101, 55, 88, 118, 76, 108, 140, 91, 125, 156, 97, 132, 162, 98, 133, 163, 99, 134, 164, 99, 134, 164], \"height\": 32, \"channels\": 3, \"width\": 32, \"type\": \"image\", \"id\": 112285934224}, {\"format\": \"raw\", \"value\": [51, 42, 26, 56, 47, 31, 59, 50, 34, 60, 50, 34, 63, 53, 37, 64, 55, 38, 64, 56, 37, 68, 60, 41, 71, 63, 45, 72, 64, 45, 73, 64, 46, 75, 67, 49, 77, 69, 50, 79, 70, 52, 79, 71, 53, 78, 70, 52, 71, 61, 42, 35, 21, 11, 25, 10, 4, 59, 48, 32, 118, 115, 93, 122, 123, 106, 76, 69, 51, 79, 70, 51, 78, 70, 51, 76, 68, 50, 78, 70, 52, 76, 69, 50, 70, 63, 44, 64, 58, 39, 59, 52, 35, 52, 42, 31, 57, 48, 32, 61, 52, 35, 63, 54, 38, 65, 57, 39, 65, 56, 39, 67, 58, 40, 69, 61, 43, 72, 64, 45, 76, 68, 49, 77, 69, 50, 80, 71, 53, 82, 73, 56, 82, 73, 55, 85, 76, 58, 86, 77, 60, 84, 75, 58, 80, 72, 54, 50, 37, 26, 25, 10, 3, 63, 54, 37, 119, 117, 100, 122, 119, 99, 83, 73, 55, 82, 73, 54, 79, 71, 52, 79, 70, 51, 79, 71, 52, 77, 69, 50, 70, 63, 44, 65, 56, 38, 61, 49, 32, 63, 45, 28, 61, 53, 36, 64, 56, 38, 66, 58, 41, 68, 60, 43, 70, 62, 45, 73, 65, 47, 75, 67, 49, 75, 67, 48, 78, 71, 52, 83, 75, 57, 86, 77, 60, 86, 77, 60, 85, 76, 59, 88, 80, 62, 87, 79, 62, 89, 80, 63, 89, 81, 63, 66, 55, 41, 28, 14, 7, 57, 48, 32, 112, 108, 88, 140, 134, 106, 86, 77, 57, 87, 78, 61, 81, 73, 55, 75, 62, 44, 69, 51, 35, 60, 44, 28, 64, 46, 27, 74, 51, 31, 81, 56, 36, 92, 66, 42, 65, 57, 40, 67, 60, 42, 67, 60, 41, 70, 63, 45, 76, 68, 51, 76, 69, 50, 76, 69, 50, 77, 70, 51, 82, 75, 56, 86, 79, 62, 89, 80, 63, 88, 79, 62, 90, 82, 64, 91, 84, 66, 91, 84, 66, 94, 86, 68, 94, 88, 69, 79, 72, 55, 34, 21, 12, 56, 46, 33, 118, 112, 88, 150, 137, 100, 92, 82, 65, 89, 81, 65, 86, 65, 51, 80, 53, 36, 80, 54, 34, 78, 51, 33, 92, 65, 45, 103, 76, 56, 110, 83, 63, 111, 85, 66, 68, 61, 44, 70, 64, 45, 71, 64, 45, 74, 67, 49, 77, 71, 53, 79, 72, 54, 79, 72, 54, 81, 74, 56, 88, 81, 63, 91, 84, 68, 90, 83, 66, 92, 85, 67, 96, 88, 70, 97, 90, 72, 98, 90, 73, 98, 91, 73, 97, 91, 73, 89, 82, 64, 44, 33, 19, 57, 47, 34, 122, 115, 89, 145, 137, 105, 93, 89, 70, 86, 79, 62, 93, 71, 56, 111, 82, 65, 112, 87, 73, 116, 88, 72, 116, 93, 73, 112, 91, 73, 105, 84, 65, 99, 78, 59, 71, 65, 48, 72, 67, 48, 74, 69, 50, 77, 72, 53, 81, 75, 57, 84, 77, 59, 85, 78, 60, 84, 77, 59, 90, 83, 67, 91, 83, 68, 93, 86, 69, 95, 88, 70, 98, 91, 73, 99, 92, 74, 101, 94, 76, 100, 92, 74, 97, 90, 72, 98, 90, 71, 58, 48, 32, 37, 26, 15, 106, 100, 80, 122, 123, 103, 83, 84, 71, 105, 93, 62, 111, 96, 69, 93, 85, 70, 100, 82, 55, 98, 81, 64, 94, 79, 64, 94, 79, 63, 89, 73, 56, 81, 65, 47, 73, 67, 51, 76, 71, 54, 79, 73, 56, 80, 74, 57, 83, 76, 60, 86, 79, 62, 86, 79, 61, 90, 83, 66, 92, 86, 70, 98, 90, 74, 99, 92, 74, 99, 92, 74, 102, 94, 76, 103, 96, 77, 101, 95, 76, 102, 94, 75, 103, 96, 77, 102, 95, 76, 65, 54, 38, 19, 8, 2, 62, 57, 42, 111, 105, 71, 98, 95, 72, 92, 82, 45, 110, 99, 62, 91, 90, 72, 108, 96, 60, 107, 100, 76, 96, 88, 70, 88, 78, 61, 75, 65, 51, 75, 67, 50, 77, 71, 55, 78, 72, 56, 82, 75, 59, 85, 78, 62, 87, 80, 65, 89, 82, 65, 90, 83, 65, 96, 89, 72, 98, 91, 73, 104, 97, 78, 106, 99, 80, 104, 97, 78, 107, 100, 81, 106, 99, 80, 105, 98, 79, 107, 100, 81, 109, 102, 83, 108, 101, 82, 74, 63, 48, 18, 6, 2, 41, 34, 25, 123, 116, 87, 142, 137, 106, 107, 101, 77, 73, 63, 45, 62, 56, 45, 84, 76, 59, 112, 100, 72, 117, 111, 88, 87, 76, 55, 72, 64, 51, 69, 68, 58, 79, 73, 57, 81, 75, 59, 84, 77, 61, 88, 81, 65, 88, 81, 66, 93, 86, 69, 81, 74, 59, 77, 70, 58, 94, 87, 70, 94, 87, 69, 101, 94, 76, 101, 94, 75, 104, 97, 78, 108, 100, 81, 109, 101, 82, 113, 106, 87, 110, 103, 84, 110, 103, 84, 90, 80, 63, 27, 15, 8, 29, 20, 12, 101, 94, 65, 147, 144, 115, 134, 129, 102, 102, 96, 79, 70, 66, 55, 70, 59, 49, 97, 81, 61, 114, 103, 65, 105, 95, 62, 102, 102, 84, 114, 113, 90, 83, 77, 61, 87, 81, 65, 89, 82, 66, 90, 83, 67, 91, 84, 67, 98, 91, 73, 76, 70, 56, 28, 24, 20, 40, 34, 25, 50, 42, 28, 75, 66, 49, 97, 89, 69, 107, 99, 79, 115, 107, 88, 112, 104, 85, 114, 107, 86, 115, 108, 87, 116, 110, 89, 103, 94, 76, 37, 25, 15, 23, 15, 11, 88, 84, 64, 111, 106, 86, 96, 91, 74, 103, 92, 58, 99, 94, 65, 108, 105, 86, 111, 104, 83, 123, 113, 76, 132, 128, 100, 132, 127, 97, 135, 115, 61, 86, 80, 64, 90, 84, 68, 92, 85, 69, 90, 84, 67, 91, 84, 68, 96, 89, 71, 93, 88, 69, 35, 31, 23, 27, 19, 8, 52, 41, 23, 67, 56, 36, 79, 67, 47, 84, 74, 56, 101, 93, 74, 114, 107, 88, 117, 111, 90, 118, 112, 90, 113, 108, 86, 110, 104, 83, 60, 48, 35, 38, 30, 20, 104, 104, 85, 92, 87, 68, 37, 26, 19, 35, 18, 6, 50, 40, 29, 86, 73, 44, 73, 65, 39, 103, 101, 85, 94, 85, 74, 66, 50, 36, 75, 52, 26, 87, 81, 65, 88, 81, 65, 90, 84, 67, 90, 83, 67, 93, 86, 71, 102, 95, 78, 87, 82, 65, 30, 23, 15, 50, 39, 21, 85, 71, 45, 93, 79, 55, 86, 74, 54, 80, 69, 51, 81, 71, 53, 105, 96, 75, 121, 114, 91, 121, 115, 93, 121, 115, 93, 115, 109, 87, 56, 45, 33, 63, 53, 34, 115, 107, 83, 161, 161, 148, 131, 127, 119, 61, 51, 39, 56, 48, 35, 63, 51, 36, 68, 60, 47, 79, 69, 56, 90, 69, 54, 93, 69, 54, 114, 86, 69, 88, 82, 66, 91, 84, 69, 93, 86, 71, 97, 90, 74, 98, 91, 76, 104, 97, 81, 75, 69, 55, 23, 15, 9, 56, 44, 26, 91, 76, 50, 102, 87, 60, 94, 79, 57, 88, 75, 56, 86, 74, 55, 110, 96, 71, 125, 113, 85, 127, 120, 98, 126, 121, 100, 116, 109, 88, 52, 41, 28, 52, 42, 30, 128, 121, 90, 214, 214, 201, 205, 206, 196, 124, 118, 98, 117, 112, 90, 118, 112, 92, 117, 111, 91, 111, 106, 86, 115, 105, 86, 118, 105, 86, 119, 105, 86, 90, 84, 68, 94, 87, 72, 98, 90, 76, 102, 95, 78, 102, 95, 80, 109, 103, 87, 74, 68, 55, 21, 15, 8, 52, 43, 27, 88, 75, 53, 81, 69, 48, 68, 59, 43, 72, 62, 45, 78, 65, 45, 110, 95, 68, 134, 118, 88, 131, 121, 99, 128, 124, 103, 125, 119, 98, 85, 75, 57, 66, 57, 39, 85, 80, 59, 175, 173, 162, 180, 179, 168, 122, 117, 97, 126, 120, 99, 125, 120, 98, 121, 115, 93, 122, 116, 94, 121, 114, 95, 118, 111, 93, 115, 109, 89, 94, 88, 72, 97, 91, 75, 103, 96, 80, 106, 100, 82, 107, 101, 84, 114, 108, 92, 81, 76, 61, 25, 20, 11, 38, 33, 21, 72, 61, 45, 73, 64, 47, 65, 59, 44, 77, 66, 46, 82, 70, 48, 91, 79, 56, 124, 109, 84, 149, 142, 123, 138, 136, 120, 115, 109, 87, 109, 95, 68, 76, 69, 47, 66, 61, 44, 121, 110, 86, 140, 133, 115, 126, 118, 96, 125, 119, 97, 126, 121, 98, 127, 122, 100, 125, 120, 98, 124, 119, 98, 122, 116, 97, 123, 117, 97, 101, 95, 79, 104, 98, 82, 104, 98, 83, 108, 102, 87, 113, 108, 91, 120, 116, 96, 93, 87, 68, 33, 27, 16, 35, 31, 21, 63, 55, 41, 78, 69, 51, 95, 83, 61, 89, 76, 52, 82, 72, 53, 81, 72, 54, 98, 86, 65, 140, 135, 118, 140, 135, 117, 138, 122, 86, 150, 127, 84, 94, 84, 54, 89, 85, 70, 106, 99, 72, 123, 117, 95, 124, 117, 96, 126, 120, 98, 136, 129, 107, 133, 127, 105, 130, 124, 103, 130, 126, 105, 130, 126, 106, 128, 123, 103, 101, 95, 79, 110, 104, 89, 108, 102, 88, 110, 104, 90, 115, 110, 93, 120, 116, 96, 106, 100, 81, 45, 38, 26, 40, 34, 20, 63, 54, 37, 76, 66, 47, 87, 74, 53, 108, 93, 67, 85, 75, 58, 74, 65, 50, 95, 82, 62, 107, 96, 73, 119, 106, 78, 171, 146, 99, 162, 133, 87, 103, 82, 55, 132, 128, 107, 141, 140, 123, 133, 126, 111, 125, 112, 88, 118, 105, 77, 120, 111, 91, 126, 119, 98, 128, 122, 100, 131, 126, 105, 133, 129, 108, 128, 124, 104, 108, 102, 85, 110, 104, 88, 109, 103, 88, 111, 105, 89, 117, 111, 95, 120, 115, 97, 116, 111, 93, 66, 57, 41, 43, 34, 20, 54, 44, 30, 71, 60, 44, 84, 71, 52, 98, 84, 59, 83, 72, 53, 83, 72, 53, 111, 95, 65, 108, 93, 63, 112, 101, 75, 143, 122, 85, 118, 92, 64, 96, 74, 51, 131, 120, 104, 152, 144, 124, 156, 150, 135, 124, 110, 87, 112, 90, 63, 102, 89, 71, 128, 117, 100, 140, 134, 114, 135, 128, 106, 133, 128, 108, 128, 124, 104, 106, 100, 84, 108, 102, 86, 110, 104, 88, 116, 110, 93, 124, 119, 102, 123, 119, 103, 123, 119, 102, 94, 88, 72, 38, 33, 22, 35, 29, 21, 72, 61, 42, 103, 88, 62, 90, 77, 54, 76, 67, 48, 95, 84, 62, 128, 109, 73, 109, 91, 59, 94, 86, 64, 106, 89, 71, 105, 85, 68, 155, 146, 129, 188, 178, 167, 197, 192, 177, 172, 161, 144, 136, 122, 101, 125, 107, 83, 109, 90, 78, 138, 121, 107, 157, 151, 134, 135, 130, 108, 137, 132, 111, 135, 131, 111, 108, 102, 86, 109, 104, 88, 114, 109, 92, 122, 116, 98, 124, 120, 103, 121, 117, 100, 123, 119, 102, 120, 116, 99, 57, 53, 41, 42, 33, 21, 80, 65, 41, 100, 84, 56, 91, 77, 54, 84, 73, 50, 110, 96, 67, 142, 119, 81, 112, 92, 60, 96, 86, 63, 98, 73, 53, 97, 77, 61, 194, 194, 185, 220, 217, 211, 206, 201, 197, 164, 151, 133, 136, 112, 80, 126, 97, 62, 95, 70, 52, 142, 119, 100, 165, 156, 139, 141, 137, 114, 140, 135, 115, 138, 133, 113, 113, 107, 92, 113, 107, 91, 119, 114, 96, 122, 117, 100, 124, 120, 104, 124, 120, 103, 123, 118, 102, 126, 122, 104, 93, 89, 74, 52, 42, 26, 84, 66, 38, 87, 71, 48, 90, 77, 54, 111, 95, 66, 126, 107, 73, 144, 120, 77, 114, 95, 61, 101, 87, 63, 104, 82, 58, 112, 96, 77, 129, 126, 118, 179, 174, 166, 192, 184, 171, 145, 132, 108, 126, 101, 71, 118, 85, 48, 119, 92, 61, 150, 131, 109, 151, 145, 129, 142, 138, 118, 143, 138, 118, 141, 136, 116, 114, 110, 94, 116, 111, 94, 119, 113, 96, 119, 115, 99, 127, 123, 107, 128, 124, 107, 124, 120, 103, 129, 125, 108, 126, 122, 105, 81, 73, 55, 76, 59, 32, 76, 61, 37, 88, 73, 46, 104, 85, 53, 120, 98, 61, 134, 111, 70, 98, 83, 57, 97, 85, 65, 104, 95, 77, 126, 120, 101, 119, 113, 100, 139, 131, 113, 174, 166, 147, 149, 134, 110, 155, 133, 103, 126, 113, 91, 129, 117, 98, 143, 135, 115, 138, 134, 110, 145, 139, 119, 147, 142, 122, 140, 136, 116, 123, 120, 104, 124, 121, 104, 124, 119, 103, 125, 120, 104, 128, 123, 106, 129, 126, 108, 138, 134, 117, 140, 136, 119, 137, 133, 114, 130, 124, 105, 91, 80, 57, 75, 58, 33, 96, 75, 45, 106, 84, 50, 124, 99, 60, 113, 91, 58, 81, 71, 51, 90, 83, 67, 98, 91, 75, 129, 122, 103, 133, 125, 107, 125, 107, 79, 110, 98, 81, 95, 86, 69, 144, 131, 105, 151, 144, 118, 151, 147, 126, 156, 151, 131, 144, 140, 119, 148, 143, 123, 150, 145, 125, 145, 141, 121, 123, 119, 102, 123, 119, 102, 126, 121, 104, 123, 119, 102, 127, 124, 106, 134, 131, 113, 137, 133, 116, 141, 136, 120, 144, 139, 120, 150, 145, 126, 135, 129, 109, 104, 94, 71, 98, 82, 55, 103, 79, 46, 109, 84, 49, 93, 75, 50, 75, 66, 48, 82, 76, 61, 99, 91, 74, 131, 124, 103, 114, 105, 85, 106, 89, 63, 73, 64, 53, 66, 61, 48, 105, 97, 77, 155, 147, 122, 166, 160, 138, 159, 153, 133, 152, 147, 127, 153, 148, 128, 150, 145, 125, 146, 141, 122, 125, 122, 105, 126, 122, 104, 129, 125, 107, 128, 125, 108, 134, 131, 112, 136, 132, 113, 136, 133, 113, 138, 134, 115, 146, 141, 122, 150, 145, 126, 151, 147, 127, 145, 142, 121, 128, 122, 100, 108, 97, 73, 92, 78, 53, 74, 61, 38, 58, 50, 36, 62, 56, 44, 85, 79, 63, 125, 119, 99, 96, 88, 70, 74, 65, 49, 50, 46, 40, 57, 51, 40, 82, 72, 51, 116, 105, 83, 144, 136, 118, 149, 143, 124, 155, 150, 128, 158, 153, 133, 156, 151, 131, 150, 146, 126, 129, 124, 108, 127, 123, 106, 132, 129, 112, 138, 134, 116, 141, 136, 117, 144, 139, 119, 144, 140, 120, 147, 142, 122, 150, 145, 127, 154, 149, 130, 156, 151, 132, 158, 154, 134, 161, 157, 137, 154, 149, 128, 140, 132, 109, 126, 117, 95, 94, 88, 68, 54, 48, 35, 68, 64, 52, 114, 110, 90, 84, 76, 59, 55, 48, 38, 49, 42, 32, 73, 63, 45, 92, 77, 53, 91, 72, 44, 80, 65, 44, 110, 100, 82, 161, 156, 135, 162, 157, 137, 159, 154, 134, 156, 152, 131, 128, 124, 107, 127, 123, 106, 132, 128, 111, 138, 134, 116, 143, 139, 120, 145, 142, 121, 145, 142, 123, 154, 150, 131, 152, 146, 128, 155, 150, 132, 158, 153, 134, 161, 157, 137, 165, 161, 142, 169, 164, 144, 168, 162, 142, 170, 164, 144, 163, 158, 136, 119, 113, 93, 83, 78, 63, 92, 83, 63, 88, 77, 56, 73, 65, 52, 67, 54, 38, 104, 86, 57, 112, 92, 60, 122, 97, 57, 96, 78, 46, 112, 99, 75, 163, 157, 137, 164, 160, 141, 158, 154, 135, 151, 147, 128, 126, 123, 106, 129, 126, 109, 136, 132, 113, 138, 138, 115, 142, 139, 121, 145, 143, 123, 140, 138, 118, 146, 142, 123, 152, 147, 128, 160, 155, 136, 164, 159, 140, 160, 155, 136, 166, 161, 142, 168, 163, 144, 165, 160, 141, 165, 160, 141, 167, 161, 143, 165, 161, 141, 114, 106, 87, 78, 61, 37, 89, 71, 47, 84, 76, 59, 59, 45, 28, 109, 91, 57, 122, 106, 71, 145, 127, 94, 160, 150, 125, 166, 161, 136, 160, 157, 134, 162, 158, 138, 149, 144, 124, 150, 145, 125, 126, 123, 106, 130, 127, 110, 137, 132, 117, 131, 132, 115, 140, 138, 120, 150, 146, 128, 150, 148, 128, 153, 149, 129, 160, 155, 136, 158, 153, 134, 161, 156, 137, 160, 155, 136, 164, 159, 140, 166, 161, 142, 169, 164, 145, 170, 165, 146, 172, 167, 148, 142, 137, 123, 81, 69, 53, 79, 61, 34, 95, 76, 47, 95, 85, 60, 98, 90, 68, 145, 138, 113, 161, 156, 132, 165, 160, 138, 164, 161, 139, 171, 166, 143, 170, 164, 144, 156, 150, 131, 151, 145, 126, 158, 153, 132, 127, 125, 107, 126, 119, 106, 145, 125, 138, 120, 144, 144, 147, 156, 143, 161, 160, 143, 154, 151, 132, 155, 151, 132, 158, 152, 134, 158, 153, 135, 160, 155, 136, 161, 155, 136, 165, 160, 141, 170, 165, 146, 171, 166, 147, 170, 166, 147, 172, 166, 147, 128, 119, 102, 71, 58, 40, 109, 96, 71, 140, 129, 103, 155, 148, 126, 168, 163, 142, 171, 165, 145, 164, 159, 138, 169, 165, 143, 169, 164, 144, 168, 163, 142, 165, 160, 139, 156, 152, 133, 158, 154, 134, 160, 157, 136, 132, 130, 112, 128, 121, 108, 140, 128, 141, 151, 169, 170, 159, 169, 161, 163, 164, 152, 158, 158, 143, 159, 158, 138, 158, 153, 133, 160, 154, 136, 158, 152, 133, 163, 156, 138, 170, 164, 146, 171, 166, 147, 168, 163, 144, 170, 166, 146, 171, 165, 145, 155, 147, 125, 137, 129, 106, 155, 150, 130, 173, 168, 147, 176, 170, 150, 171, 165, 146, 171, 165, 145, 169, 164, 142, 171, 166, 144, 168, 163, 144, 164, 159, 140, 162, 158, 136, 159, 154, 133, 163, 158, 137, 161, 156, 136, 131, 129, 111, 129, 121, 111, 145, 141, 102, 176, 187, 101, 156, 165, 116, 157, 160, 147, 181, 190, 179, 178, 181, 163, 161, 156, 136, 163, 157, 137, 159, 153, 133, 164, 159, 139, 173, 168, 148, 172, 167, 147, 165, 160, 140, 171, 165, 146, 174, 169, 149, 173, 168, 148, 172, 169, 151, 163, 161, 143, 170, 165, 146, 175, 169, 150, 168, 162, 143, 170, 165, 145, 175, 170, 150, 172, 167, 147, 169, 164, 144, 165, 160, 139, 166, 161, 139, 164, 159, 138, 164, 160, 138, 164, 160, 140], \"height\": 32, \"channels\": 3, \"width\": 32, \"type\": \"image\", \"id\": 112285934288}], \"selected_variable\": {\"name\": [\"<SArray>\"], \"dtype\": \"Image\", \"view_component\": \"Images\", \"view_file\": \"sarray\", \"descriptives\": {\"rows\": 5}, \"type\": \"SArray\", \"view_components\": [\"Images\"]}}, e);\n",
       "                });\n",
       "            })();\n",
       "        "
      ]
     },
     "metadata": {},
     "output_type": "display_data"
    }
   ],
   "source": [
    "get_images_from_ids(cat_model.query(cat))['image'].show()"
   ]
  },
  {
   "cell_type": "code",
   "execution_count": 28,
   "metadata": {},
   "outputs": [
    {
     "data": {
      "application/javascript": [
       "$(\"head\").append($(\"<link/>\").attr({\n",
       "  rel:  \"stylesheet\",\n",
       "  type: \"text/css\",\n",
       "  href: \"//cdnjs.cloudflare.com/ajax/libs/font-awesome/4.1.0/css/font-awesome.min.css\"\n",
       "}));\n",
       "$(\"head\").append($(\"<link/>\").attr({\n",
       "  rel:  \"stylesheet\",\n",
       "  type: \"text/css\",\n",
       "  href: \"https://static.turi.com/products/graphlab-create/2.1/canvas/css/canvas.css\"\n",
       "}));\n",
       "\n",
       "            (function(){\n",
       "\n",
       "                var e = null;\n",
       "                if (typeof element == 'undefined') {\n",
       "                    var scripts = document.getElementsByTagName('script');\n",
       "                    var thisScriptTag = scripts[scripts.length-1];\n",
       "                    var parentDiv = thisScriptTag.parentNode;\n",
       "                    e = document.createElement('div');\n",
       "                    parentDiv.appendChild(e);\n",
       "                } else {\n",
       "                    e = element[0];\n",
       "                }\n",
       "\n",
       "                if (typeof requirejs !== 'undefined') {\n",
       "                    // disable load timeout; ipython_app.js is large and can take a while to load.\n",
       "                    requirejs.config({waitSeconds: 0});\n",
       "                }\n",
       "\n",
       "                require(['https://static.turi.com/products/graphlab-create/2.1/canvas/js/ipython_app.js'], function(IPythonApp){\n",
       "                    var app = new IPythonApp();\n",
       "                    app.attachView('sarray','Images', {\"ipython\": true, \"rows\": [{\"format\": \"raw\", \"value\": [215, 219, 231, 215, 219, 232, 216, 219, 233, 214, 217, 230, 213, 216, 230, 209, 215, 226, 208, 217, 221, 206, 215, 219, 201, 208, 217, 197, 203, 218, 194, 200, 221, 199, 204, 221, 142, 128, 131, 76, 46, 46, 81, 55, 57, 147, 136, 139, 160, 149, 154, 152, 141, 144, 156, 147, 150, 159, 148, 154, 160, 153, 157, 164, 156, 160, 160, 154, 158, 158, 151, 156, 159, 149, 157, 159, 150, 156, 157, 147, 154, 156, 145, 153, 152, 142, 149, 147, 137, 143, 141, 131, 136, 142, 131, 136, 215, 219, 231, 215, 219, 232, 215, 219, 232, 213, 217, 229, 212, 216, 229, 212, 214, 217, 206, 215, 217, 203, 211, 219, 197, 205, 218, 194, 201, 218, 196, 201, 218, 178, 180, 192, 92, 56, 55, 77, 50, 49, 112, 98, 100, 173, 162, 169, 162, 153, 157, 160, 152, 154, 164, 157, 159, 164, 155, 160, 165, 158, 163, 165, 155, 162, 167, 160, 166, 164, 155, 162, 160, 148, 155, 153, 142, 149, 160, 150, 159, 162, 154, 162, 157, 151, 156, 152, 143, 148, 139, 129, 133, 135, 124, 128, 215, 219, 231, 215, 219, 231, 214, 218, 230, 214, 218, 229, 214, 217, 227, 216, 211, 207, 207, 213, 215, 200, 207, 218, 195, 202, 220, 193, 201, 216, 196, 202, 216, 125, 101, 101, 79, 49, 48, 88, 67, 67, 157, 147, 152, 168, 160, 166, 164, 155, 158, 170, 163, 168, 169, 164, 166, 169, 160, 165, 169, 162, 167, 167, 159, 167, 166, 156, 164, 166, 155, 163, 163, 153, 158, 160, 150, 157, 160, 151, 158, 159, 150, 156, 157, 148, 155, 155, 145, 152, 152, 141, 147, 143, 131, 135, 216, 220, 232, 215, 219, 231, 214, 218, 230, 214, 218, 230, 214, 217, 227, 216, 213, 207, 205, 210, 216, 199, 203, 219, 196, 202, 219, 194, 204, 220, 164, 155, 162, 89, 54, 48, 77, 52, 52, 126, 110, 113, 173, 162, 168, 167, 159, 163, 170, 162, 166, 172, 163, 168, 171, 164, 168, 171, 163, 168, 171, 162, 169, 169, 161, 167, 165, 153, 160, 165, 154, 160, 163, 153, 158, 166, 155, 162, 165, 154, 160, 155, 144, 149, 156, 144, 151, 153, 143, 151, 151, 140, 148, 143, 131, 137, 217, 221, 233, 215, 219, 231, 215, 219, 231, 215, 219, 231, 217, 219, 229, 221, 222, 219, 199, 203, 211, 195, 202, 217, 198, 202, 220, 190, 193, 206, 109, 80, 77, 78, 50, 49, 94, 72, 74, 163, 154, 155, 166, 157, 158, 169, 158, 158, 173, 163, 167, 170, 158, 161, 172, 161, 168, 173, 166, 170, 173, 163, 170, 171, 161, 164, 169, 155, 160, 170, 158, 162, 162, 151, 157, 162, 151, 157, 167, 156, 164, 164, 153, 160, 158, 147, 153, 157, 146, 151, 149, 138, 144, 143, 132, 137, 217, 221, 233, 215, 219, 231, 214, 218, 230, 213, 217, 229, 222, 224, 232, 228, 227, 233, 192, 196, 211, 196, 202, 220, 196, 209, 225, 150, 128, 133, 80, 48, 46, 76, 51, 56, 144, 129, 134, 167, 158, 161, 165, 155, 156, 173, 161, 163, 175, 164, 168, 173, 162, 168, 175, 167, 171, 175, 165, 167, 174, 162, 169, 168, 157, 159, 156, 145, 146, 171, 159, 162, 168, 157, 163, 167, 156, 163, 167, 155, 165, 168, 157, 165, 159, 147, 155, 151, 140, 144, 145, 133, 137, 149, 137, 141, 217, 221, 233, 216, 220, 232, 214, 218, 230, 215, 219, 231, 166, 167, 174, 200, 198, 206, 194, 201, 218, 194, 200, 219, 177, 173, 184, 93, 65, 61, 75, 53, 53, 120, 100, 97, 172, 162, 166, 169, 158, 161, 167, 154, 156, 177, 166, 169, 181, 171, 175, 174, 166, 173, 175, 166, 172, 171, 160, 164, 173, 163, 171, 136, 125, 129, 101, 91, 88, 155, 141, 141, 175, 164, 169, 174, 162, 170, 167, 156, 165, 165, 154, 162, 161, 150, 157, 150, 138, 143, 148, 136, 140, 147, 135, 139, 217, 221, 233, 216, 220, 232, 215, 219, 231, 217, 221, 234, 113, 108, 113, 140, 130, 127, 163, 161, 169, 144, 143, 149, 153, 139, 139, 139, 122, 116, 132, 114, 102, 164, 147, 139, 161, 150, 142, 150, 138, 130, 135, 122, 116, 152, 138, 134, 149, 132, 127, 175, 162, 161, 180, 168, 175, 176, 164, 170, 177, 171, 180, 136, 126, 130, 87, 76, 68, 137, 121, 119, 178, 168, 173, 173, 162, 169, 168, 157, 164, 163, 152, 158, 158, 146, 151, 160, 147, 155, 163, 150, 158, 160, 147, 154, 218, 220, 233, 216, 219, 232, 215, 219, 232, 208, 212, 224, 92, 82, 85, 96, 78, 69, 111, 99, 93, 129, 116, 110, 167, 156, 155, 179, 168, 171, 171, 161, 158, 157, 137, 124, 120, 103, 92, 117, 98, 86, 102, 86, 81, 127, 108, 96, 147, 122, 108, 139, 122, 116, 168, 157, 155, 155, 145, 145, 200, 199, 207, 157, 149, 147, 116, 102, 91, 150, 137, 137, 176, 166, 170, 173, 162, 168, 169, 156, 164, 159, 147, 153, 159, 146, 150, 164, 151, 158, 166, 153, 161, 159, 145, 153, 217, 219, 232, 216, 218, 231, 217, 218, 229, 193, 195, 207, 95, 79, 74, 110, 88, 80, 154, 138, 132, 181, 165, 159, 207, 200, 205, 205, 207, 219, 199, 200, 209, 159, 138, 131, 143, 118, 101, 137, 110, 93, 115, 98, 91, 118, 103, 92, 184, 166, 159, 125, 113, 114, 149, 132, 126, 117, 101, 102, 213, 214, 226, 172, 170, 179, 133, 121, 123, 157, 143, 143, 147, 131, 129, 174, 158, 166, 169, 156, 165, 162, 149, 157, 168, 156, 164, 166, 154, 162, 162, 151, 158, 158, 146, 154, 218, 220, 233, 216, 218, 232, 216, 220, 234, 174, 176, 187, 90, 73, 70, 148, 125, 109, 194, 169, 157, 215, 204, 208, 220, 221, 230, 220, 223, 231, 218, 216, 224, 174, 154, 152, 162, 140, 127, 127, 100, 84, 146, 120, 103, 147, 124, 116, 169, 145, 133, 138, 122, 113, 148, 134, 124, 123, 103, 97, 154, 143, 141, 153, 143, 144, 133, 124, 127, 151, 136, 137, 140, 119, 111, 156, 139, 134, 175, 164, 169, 175, 160, 169, 170, 156, 165, 164, 151, 158, 156, 144, 150, 158, 146, 152, 218, 220, 233, 214, 218, 231, 216, 219, 233, 173, 164, 169, 134, 106, 90, 184, 152, 131, 205, 184, 171, 218, 214, 222, 221, 222, 232, 225, 226, 235, 218, 220, 231, 187, 172, 169, 156, 136, 127, 140, 116, 102, 147, 115, 98, 126, 99, 84, 171, 135, 105, 105, 81, 71, 132, 112, 105, 95, 80, 75, 130, 118, 114, 140, 127, 123, 128, 115, 114, 140, 125, 124, 159, 143, 139, 126, 113, 112, 165, 156, 163, 159, 144, 150, 163, 147, 148, 161, 145, 149, 161, 145, 149, 163, 148, 151, 217, 219, 232, 214, 218, 230, 218, 216, 229, 152, 133, 128, 169, 146, 138, 194, 172, 157, 201, 173, 151, 210, 197, 193, 215, 213, 223, 216, 218, 226, 203, 201, 209, 157, 129, 111, 145, 112, 92, 141, 114, 99, 133, 104, 90, 114, 84, 72, 183, 145, 108, 135, 106, 86, 143, 110, 95, 110, 95, 93, 200, 199, 207, 153, 147, 148, 129, 112, 111, 119, 102, 100, 144, 131, 127, 152, 145, 156, 188, 186, 198, 108, 92, 95, 99, 83, 78, 160, 140, 141, 176, 157, 168, 153, 134, 136, 218, 220, 233, 217, 219, 232, 209, 210, 222, 141, 114, 104, 212, 201, 202, 212, 206, 208, 184, 150, 123, 193, 164, 138, 202, 187, 180, 209, 207, 215, 200, 193, 196, 146, 111, 92, 141, 107, 88, 120, 97, 84, 86, 68, 60, 117, 87, 74, 163, 126, 95, 140, 103, 84, 139, 102, 78, 169, 141, 129, 218, 219, 228, 131, 123, 125, 104, 88, 81, 98, 83, 76, 122, 105, 97, 143, 138, 161, 209, 208, 226, 154, 141, 139, 99, 80, 73, 153, 127, 129, 156, 139, 144, 135, 116, 116, 219, 221, 234, 216, 218, 232, 204, 204, 219, 154, 126, 110, 213, 204, 206, 217, 214, 217, 170, 136, 110, 157, 118, 88, 170, 135, 108, 197, 174, 168, 170, 142, 125, 143, 103, 83, 122, 90, 75, 98, 76, 68, 68, 55, 55, 76, 59, 56, 118, 84, 71, 111, 79, 63, 107, 76, 63, 158, 121, 101, 196, 192, 200, 115, 101, 104, 106, 90, 83, 103, 87, 77, 128, 107, 97, 111, 97, 127, 206, 205, 220, 206, 209, 220, 157, 142, 127, 113, 91, 76, 121, 105, 101, 164, 149, 152, 220, 221, 234, 215, 218, 232, 208, 209, 223, 159, 136, 126, 213, 211, 218, 204, 202, 208, 140, 115, 102, 132, 104, 88, 148, 112, 93, 160, 124, 97, 136, 92, 70, 122, 86, 69, 97, 73, 60, 101, 74, 64, 84, 63, 60, 67, 53, 52, 82, 62, 57, 92, 71, 60, 82, 59, 53, 145, 116, 103, 125, 116, 120, 105, 91, 87, 92, 77, 76, 94, 76, 73, 119, 96, 84, 131, 113, 124, 207, 209, 223, 217, 219, 236, 157, 150, 150, 127, 115, 114, 138, 122, 119, 173, 160, 166, 219, 221, 234, 218, 223, 235, 173, 164, 171, 129, 109, 105, 219, 218, 228, 186, 179, 188, 102, 86, 85, 96, 82, 77, 108, 88, 76, 136, 106, 91, 129, 93, 74, 105, 73, 61, 79, 60, 55, 76, 57, 54, 73, 55, 54, 74, 55, 53, 71, 57, 55, 88, 70, 68, 84, 66, 63, 79, 66, 70, 76, 65, 70, 99, 87, 86, 67, 53, 55, 102, 84, 78, 118, 94, 83, 150, 132, 131, 211, 204, 220, 213, 184, 201, 202, 191, 208, 177, 176, 188, 146, 130, 133, 170, 157, 160, 219, 221, 233, 211, 210, 220, 116, 88, 81, 132, 117, 117, 226, 229, 238, 171, 156, 160, 104, 84, 77, 96, 80, 77, 95, 83, 77, 105, 87, 80, 119, 94, 77, 95, 70, 60, 72, 56, 54, 68, 54, 55, 75, 56, 53, 77, 60, 55, 78, 65, 63, 95, 79, 77, 79, 65, 65, 51, 40, 52, 84, 74, 81, 94, 83, 86, 74, 60, 60, 127, 109, 101, 125, 102, 92, 140, 120, 118, 207, 199, 211, 216, 198, 214, 195, 188, 197, 183, 180, 187, 146, 132, 139, 169, 153, 163, 222, 227, 240, 167, 132, 134, 121, 81, 62, 101, 85, 78, 172, 167, 178, 163, 155, 154, 127, 115, 110, 130, 116, 114, 125, 113, 112, 111, 95, 90, 117, 98, 88, 79, 63, 58, 63, 51, 52, 71, 56, 55, 88, 69, 62, 90, 72, 69, 90, 75, 73, 101, 87, 79, 70, 58, 61, 55, 45, 56, 109, 100, 107, 68, 56, 59, 86, 72, 72, 133, 116, 110, 130, 109, 101, 113, 94, 92, 210, 210, 217, 221, 228, 244, 177, 167, 158, 122, 107, 95, 140, 123, 124, 168, 151, 161, 201, 189, 197, 125, 74, 57, 137, 92, 70, 99, 73, 63, 69, 58, 67, 117, 113, 124, 138, 134, 143, 123, 113, 115, 124, 112, 112, 152, 136, 134, 114, 97, 90, 76, 60, 57, 64, 52, 54, 82, 68, 66, 96, 80, 73, 104, 90, 85, 77, 66, 65, 68, 56, 58, 65, 55, 62, 63, 53, 64, 83, 74, 81, 78, 66, 67, 117, 104, 103, 120, 105, 102, 90, 71, 67, 113, 97, 98, 222, 223, 233, 211, 207, 217, 150, 131, 121, 127, 101, 90, 145, 122, 128, 165, 147, 150, 149, 103, 96, 116, 73, 57, 133, 95, 73, 122, 85, 68, 65, 55, 58, 73, 68, 72, 122, 118, 130, 121, 114, 121, 107, 95, 98, 136, 121, 117, 102, 87, 81, 75, 59, 57, 77, 64, 66, 92, 79, 77, 87, 74, 70, 100, 89, 86, 79, 69, 66, 66, 50, 55, 51, 39, 48, 63, 53, 60, 89, 78, 82, 104, 92, 93, 94, 83, 81, 93, 80, 81, 127, 110, 113, 162, 149, 155, 199, 193, 203, 141, 122, 124, 104, 83, 79, 151, 126, 128, 168, 146, 155, 160, 140, 144, 118, 60, 49, 113, 84, 73, 131, 92, 70, 126, 97, 72, 90, 77, 71, 70, 62, 64, 74, 67, 71, 91, 85, 89, 87, 77, 78, 103, 90, 86, 78, 66, 65, 74, 61, 61, 88, 75, 76, 98, 85, 83, 93, 82, 83, 87, 76, 78, 87, 73, 70, 83, 64, 58, 52, 39, 44, 60, 49, 53, 81, 69, 71, 93, 80, 80, 117, 104, 102, 164, 150, 155, 188, 172, 179, 188, 174, 182, 171, 157, 162, 134, 117, 120, 143, 124, 126, 172, 153, 156, 169, 151, 157, 167, 147, 154, 100, 62, 57, 106, 83, 73, 111, 83, 67, 118, 97, 89, 167, 154, 161, 153, 145, 150, 118, 109, 114, 78, 69, 74, 87, 78, 80, 86, 76, 76, 77, 65, 65, 76, 62, 60, 87, 72, 71, 125, 112, 111, 158, 149, 153, 174, 164, 169, 158, 145, 152, 119, 105, 106, 75, 62, 65, 86, 75, 79, 131, 117, 121, 169, 155, 157, 174, 158, 161, 180, 164, 168, 182, 165, 170, 185, 169, 172, 189, 174, 177, 190, 174, 181, 186, 169, 179, 178, 159, 165, 174, 158, 161, 178, 161, 167, 90, 71, 67, 84, 66, 64, 92, 73, 70, 163, 145, 150, 187, 175, 181, 191, 181, 188, 191, 179, 189, 181, 170, 178, 174, 165, 171, 159, 148, 153, 128, 117, 121, 139, 128, 129, 163, 151, 155, 189, 177, 183, 191, 179, 185, 191, 178, 186, 193, 180, 191, 191, 180, 188, 171, 160, 163, 175, 162, 165, 187, 170, 174, 188, 171, 177, 185, 168, 174, 186, 170, 175, 186, 169, 175, 187, 171, 175, 186, 169, 174, 186, 170, 176, 185, 170, 177, 180, 161, 167, 176, 159, 163, 176, 159, 166, 75, 61, 60, 70, 60, 54, 138, 124, 124, 195, 182, 186, 195, 183, 184, 195, 183, 187, 191, 179, 184, 186, 174, 175, 189, 177, 179, 195, 184, 188, 194, 183, 188, 194, 182, 185, 196, 184, 190, 195, 183, 191, 195, 182, 189, 191, 179, 184, 189, 178, 184, 191, 179, 185, 193, 180, 183, 186, 169, 172, 183, 165, 169, 186, 168, 174, 190, 173, 179, 188, 172, 177, 188, 171, 176, 192, 175, 181, 193, 177, 182, 191, 175, 181, 188, 173, 179, 181, 163, 167, 181, 164, 168, 182, 165, 173, 65, 57, 56, 126, 114, 115, 191, 176, 178, 195, 183, 184, 201, 187, 193, 202, 188, 197, 200, 186, 192, 192, 175, 177, 189, 172, 176, 196, 181, 188, 193, 179, 185, 193, 178, 182, 195, 180, 187, 199, 186, 194, 197, 185, 191, 193, 182, 188, 191, 178, 183, 190, 175, 180, 190, 173, 177, 187, 168, 172, 182, 165, 168, 183, 165, 168, 184, 167, 170, 186, 170, 173, 184, 168, 172, 186, 170, 176, 188, 173, 179, 186, 171, 176, 185, 168, 173, 180, 161, 165, 184, 167, 171, 185, 168, 177, 87, 78, 82, 186, 171, 175, 202, 186, 189, 203, 192, 196, 201, 188, 194, 199, 184, 191, 200, 188, 192, 203, 191, 194, 195, 180, 184, 199, 185, 192, 199, 186, 193, 198, 186, 193, 200, 186, 192, 199, 187, 193, 199, 188, 192, 195, 183, 187, 193, 176, 181, 191, 173, 178, 192, 174, 180, 188, 171, 175, 184, 168, 171, 180, 163, 166, 182, 163, 165, 187, 171, 172, 187, 170, 172, 186, 169, 174, 185, 169, 176, 186, 170, 176, 185, 168, 174, 182, 163, 167, 187, 170, 177, 185, 169, 178, 150, 139, 143, 195, 180, 182, 196, 182, 181, 203, 190, 191, 204, 189, 193, 204, 186, 191, 195, 178, 179, 198, 185, 186, 198, 183, 187, 203, 189, 196, 202, 190, 196, 199, 188, 194, 202, 188, 195, 196, 183, 189, 197, 184, 188, 191, 177, 181, 193, 176, 182, 194, 180, 185, 195, 180, 186, 195, 180, 184, 192, 177, 181, 186, 168, 171, 183, 164, 166, 186, 169, 172, 190, 172, 175, 191, 173, 176, 186, 170, 175, 187, 170, 176, 185, 168, 174, 186, 167, 171, 189, 171, 178, 189, 173, 181, 190, 177, 181, 200, 183, 186, 202, 187, 188, 204, 189, 194, 203, 190, 195, 203, 190, 193, 199, 183, 182, 197, 182, 181, 203, 189, 192, 204, 191, 197, 199, 186, 191, 196, 182, 186, 203, 189, 195, 198, 183, 188, 196, 181, 185, 195, 179, 184, 196, 182, 186, 198, 186, 190, 199, 184, 190, 193, 178, 183, 190, 175, 178, 187, 169, 170, 190, 171, 173, 190, 174, 178, 190, 172, 176, 184, 167, 169, 185, 169, 174, 189, 172, 178, 186, 168, 174, 187, 168, 171, 185, 166, 171, 191, 173, 180, 200, 186, 189, 201, 185, 187, 201, 184, 188, 206, 191, 198, 204, 192, 197, 203, 191, 195, 199, 185, 185, 197, 180, 179, 202, 188, 191, 204, 191, 196, 202, 187, 190, 195, 180, 181, 198, 184, 190, 198, 183, 187, 199, 184, 186, 194, 179, 181, 192, 180, 181, 193, 178, 181, 193, 176, 181, 190, 172, 176, 184, 167, 169, 185, 167, 167, 187, 170, 170, 190, 175, 178, 191, 172, 177, 192, 174, 179, 193, 176, 182, 193, 176, 182, 186, 168, 174, 181, 162, 164, 177, 157, 160, 183, 164, 168, 204, 190, 194, 198, 182, 182, 195, 177, 175, 203, 188, 188, 203, 189, 191, 203, 186, 190, 201, 181, 184, 195, 177, 174, 203, 189, 191, 204, 191, 197, 202, 188, 191, 193, 178, 178, 192, 177, 181, 197, 182, 186, 199, 185, 187, 192, 176, 176, 184, 168, 168, 189, 171, 172, 188, 168, 170, 187, 168, 169, 185, 166, 166, 185, 166, 166, 186, 169, 169, 190, 173, 176, 192, 174, 179, 195, 179, 185, 195, 179, 186, 194, 178, 184, 187, 169, 175, 182, 163, 165, 177, 158, 160, 187, 169, 173, 206, 192, 195, 203, 187, 187, 195, 176, 172, 196, 175, 172, 198, 182, 180, 195, 178, 175, 193, 172, 169, 191, 171, 166, 198, 182, 181, 201, 187, 194, 199, 185, 190, 190, 173, 174, 190, 175, 175, 194, 179, 185, 193, 179, 182, 186, 168, 167, 187, 167, 167, 187, 167, 168, 187, 167, 169, 186, 166, 164, 186, 166, 165, 183, 163, 163, 188, 169, 169, 191, 172, 174, 193, 177, 183, 196, 182, 188, 193, 178, 185, 192, 176, 184, 187, 170, 176, 188, 170, 173, 192, 173, 177, 194, 178, 187], \"height\": 32, \"channels\": 3, \"width\": 32, \"type\": \"image\", \"id\": 112285850576}], \"selected_variable\": {\"name\": [\"<SArray>\"], \"dtype\": \"Image\", \"view_component\": \"Images\", \"view_file\": \"sarray\", \"descriptives\": {\"rows\": 1}, \"type\": \"SArray\", \"view_components\": [\"Images\"]}}, e);\n",
       "                });\n",
       "            })();\n",
       "        "
      ]
     },
     "metadata": {},
     "output_type": "display_data"
    }
   ],
   "source": [
    "cat_train[cat_train['id']==16289]['image'].show()"
   ]
  },
  {
   "cell_type": "code",
   "execution_count": 29,
   "metadata": {},
   "outputs": [],
   "source": [
    "#dog"
   ]
  },
  {
   "cell_type": "code",
   "execution_count": 31,
   "metadata": {},
   "outputs": [
    {
     "data": {
      "application/javascript": [
       "$(\"head\").append($(\"<link/>\").attr({\n",
       "  rel:  \"stylesheet\",\n",
       "  type: \"text/css\",\n",
       "  href: \"//cdnjs.cloudflare.com/ajax/libs/font-awesome/4.1.0/css/font-awesome.min.css\"\n",
       "}));\n",
       "$(\"head\").append($(\"<link/>\").attr({\n",
       "  rel:  \"stylesheet\",\n",
       "  type: \"text/css\",\n",
       "  href: \"https://static.turi.com/products/graphlab-create/2.1/canvas/css/canvas.css\"\n",
       "}));\n",
       "\n",
       "            (function(){\n",
       "\n",
       "                var e = null;\n",
       "                if (typeof element == 'undefined') {\n",
       "                    var scripts = document.getElementsByTagName('script');\n",
       "                    var thisScriptTag = scripts[scripts.length-1];\n",
       "                    var parentDiv = thisScriptTag.parentNode;\n",
       "                    e = document.createElement('div');\n",
       "                    parentDiv.appendChild(e);\n",
       "                } else {\n",
       "                    e = element[0];\n",
       "                }\n",
       "\n",
       "                if (typeof requirejs !== 'undefined') {\n",
       "                    // disable load timeout; ipython_app.js is large and can take a while to load.\n",
       "                    requirejs.config({waitSeconds: 0});\n",
       "                }\n",
       "\n",
       "                require(['https://static.turi.com/products/graphlab-create/2.1/canvas/js/ipython_app.js'], function(IPythonApp){\n",
       "                    var app = new IPythonApp();\n",
       "                    app.attachView('sarray','Images', {\"ipython\": true, \"rows\": [{\"format\": \"raw\", \"value\": [91, 64, 30, 82, 58, 30, 87, 73, 59, 89, 87, 83, 95, 92, 80, 98, 90, 71, 97, 87, 68, 94, 90, 75, 92, 93, 84, 98, 94, 85, 81, 76, 66, 28, 26, 19, 15, 15, 10, 18, 19, 16, 19, 19, 20, 19, 19, 20, 16, 16, 17, 15, 15, 16, 13, 15, 13, 10, 16, 8, 10, 14, 10, 13, 13, 12, 15, 14, 8, 26, 24, 12, 29, 25, 15, 26, 21, 12, 39, 34, 25, 25, 20, 11, 18, 13, 6, 22, 13, 13, 22, 15, 13, 18, 13, 10, 94, 65, 34, 79, 56, 30, 90, 78, 59, 124, 120, 106, 144, 138, 118, 133, 121, 96, 111, 97, 71, 101, 94, 71, 98, 96, 81, 94, 88, 79, 48, 41, 35, 14, 9, 6, 12, 10, 7, 11, 11, 9, 14, 13, 14, 16, 14, 16, 24, 23, 24, 32, 30, 32, 26, 26, 26, 27, 28, 24, 22, 22, 20, 22, 19, 15, 52, 48, 32, 67, 61, 36, 56, 45, 24, 57, 45, 24, 67, 55, 34, 60, 49, 26, 42, 29, 10, 36, 19, 7, 61, 46, 32, 47, 36, 26, 94, 66, 39, 86, 65, 40, 120, 105, 82, 156, 142, 119, 155, 138, 111, 147, 125, 93, 135, 112, 79, 123, 105, 76, 114, 103, 81, 88, 78, 65, 41, 32, 22, 39, 32, 25, 42, 38, 32, 40, 37, 31, 49, 48, 32, 51, 50, 33, 58, 57, 41, 56, 55, 38, 47, 45, 31, 30, 28, 21, 38, 33, 28, 29, 21, 14, 53, 44, 27, 55, 45, 21, 41, 26, 7, 71, 54, 29, 53, 36, 12, 63, 47, 20, 63, 45, 21, 54, 33, 14, 82, 64, 42, 59, 46, 32, 89, 69, 42, 108, 90, 67, 136, 112, 88, 133, 101, 72, 130, 95, 63, 126, 88, 52, 124, 85, 48, 126, 92, 60, 124, 100, 74, 85, 72, 51, 47, 38, 19, 54, 48, 30, 61, 56, 41, 94, 90, 75, 84, 81, 59, 84, 81, 57, 61, 58, 35, 69, 66, 43, 74, 71, 48, 45, 39, 24, 48, 39, 28, 32, 20, 11, 37, 23, 11, 54, 40, 20, 56, 39, 20, 73, 56, 35, 58, 41, 21, 44, 27, 9, 66, 46, 24, 80, 56, 34, 72, 54, 33, 32, 22, 8, 72, 60, 33, 94, 78, 56, 105, 75, 51, 106, 62, 33, 134, 86, 53, 123, 73, 36, 109, 59, 20, 117, 70, 36, 113, 77, 47, 88, 70, 41, 61, 51, 23, 64, 57, 32, 75, 69, 47, 99, 94, 74, 72, 66, 51, 82, 76, 63, 69, 63, 50, 49, 43, 30, 48, 42, 27, 75, 68, 45, 64, 54, 36, 47, 33, 23, 62, 46, 31, 68, 52, 31, 54, 37, 21, 47, 31, 17, 56, 39, 26, 40, 24, 10, 32, 15, 4, 46, 25, 14, 36, 20, 8, 25, 19, 5, 43, 37, 16, 54, 39, 20, 62, 35, 16, 83, 45, 24, 127, 81, 51, 123, 73, 39, 105, 53, 17, 110, 57, 21, 102, 53, 16, 97, 65, 25, 79, 59, 27, 66, 56, 33, 87, 81, 62, 75, 69, 53, 86, 80, 66, 80, 74, 60, 67, 60, 46, 71, 65, 52, 77, 72, 55, 88, 82, 58, 66, 58, 41, 50, 40, 30, 62, 53, 37, 62, 52, 30, 58, 42, 24, 31, 15, 3, 40, 26, 10, 38, 26, 11, 31, 20, 8, 23, 10, 6, 29, 15, 8, 27, 16, 6, 47, 42, 26, 46, 29, 11, 47, 19, 3, 67, 30, 11, 111, 66, 36, 116, 69, 35, 101, 51, 15, 105, 52, 14, 105, 51, 12, 107, 61, 21, 89, 58, 27, 56, 40, 20, 56, 49, 33, 67, 63, 46, 77, 71, 55, 68, 62, 46, 74, 68, 51, 75, 69, 53, 78, 72, 54, 76, 70, 48, 49, 42, 26, 52, 44, 32, 52, 45, 29, 51, 43, 20, 72, 56, 34, 59, 43, 24, 63, 50, 30, 56, 44, 27, 37, 28, 13, 28, 20, 6, 45, 33, 13, 34, 22, 5, 69, 60, 46, 71, 50, 31, 68, 35, 17, 66, 25, 2, 98, 54, 22, 109, 64, 30, 102, 54, 17, 110, 60, 21, 112, 59, 19, 111, 55, 19, 97, 53, 26, 62, 40, 21, 48, 42, 25, 52, 50, 32, 60, 55, 39, 82, 76, 60, 75, 69, 53, 57, 51, 35, 46, 40, 23, 81, 75, 54, 60, 52, 36, 41, 33, 22, 55, 48, 31, 41, 33, 14, 39, 23, 6, 61, 45, 24, 55, 42, 24, 49, 38, 21, 40, 31, 15, 29, 21, 5, 49, 36, 11, 45, 32, 8, 79, 60, 44, 112, 87, 67, 134, 100, 78, 104, 65, 39, 114, 73, 40, 118, 75, 40, 109, 64, 27, 111, 64, 24, 108, 57, 17, 103, 48, 12, 95, 52, 25, 66, 44, 26, 56, 50, 34, 59, 57, 40, 82, 77, 60, 75, 69, 53, 75, 69, 53, 68, 62, 46, 73, 67, 51, 73, 67, 46, 64, 57, 40, 42, 34, 23, 52, 45, 29, 44, 36, 16, 50, 34, 15, 53, 37, 16, 42, 29, 11, 45, 34, 17, 52, 41, 26, 42, 29, 18, 44, 27, 13, 38, 21, 8, 120, 87, 66, 129, 98, 77, 158, 128, 107, 136, 105, 83, 127, 90, 58, 116, 76, 39, 109, 66, 28, 114, 69, 28, 106, 59, 17, 100, 54, 14, 114, 81, 50, 93, 77, 57, 65, 58, 43, 63, 58, 42, 72, 66, 51, 71, 65, 50, 99, 93, 77, 95, 89, 73, 107, 101, 83, 100, 94, 71, 64, 57, 41, 46, 38, 27, 40, 34, 18, 45, 37, 15, 51, 34, 14, 54, 38, 17, 43, 29, 11, 40, 29, 14, 49, 39, 24, 53, 39, 20, 53, 33, 16, 36, 17, 5, 161, 120, 94, 126, 93, 70, 135, 108, 90, 143, 117, 100, 144, 108, 79, 126, 86, 52, 102, 62, 26, 110, 68, 30, 105, 61, 21, 118, 86, 46, 170, 149, 118, 156, 146, 124, 115, 110, 92, 114, 107, 90, 123, 117, 100, 126, 120, 104, 152, 146, 130, 144, 137, 122, 114, 107, 90, 113, 107, 85, 115, 108, 91, 120, 112, 100, 109, 102, 85, 85, 77, 57, 81, 65, 46, 67, 52, 31, 51, 38, 18, 54, 40, 22, 54, 40, 19, 60, 44, 16, 82, 63, 31, 76, 57, 29, 164, 126, 100, 130, 103, 78, 99, 72, 51, 129, 94, 76, 159, 114, 93, 152, 111, 90, 123, 91, 69, 112, 80, 54, 118, 83, 53, 151, 131, 107, 189, 178, 159, 173, 167, 148, 149, 145, 122, 154, 146, 122, 178, 165, 147, 177, 169, 152, 175, 170, 152, 170, 162, 146, 140, 128, 114, 141, 134, 117, 172, 165, 149, 179, 171, 156, 178, 171, 155, 172, 164, 148, 159, 149, 135, 127, 118, 99, 100, 87, 62, 97, 72, 44, 89, 59, 31, 59, 35, 12, 63, 41, 18, 87, 69, 44, 161, 125, 95, 147, 116, 88, 125, 89, 65, 144, 100, 80, 146, 105, 87, 141, 111, 95, 161, 138, 124, 156, 133, 115, 169, 145, 122, 186, 170, 153, 182, 171, 153, 162, 151, 131, 147, 138, 113, 161, 150, 124, 173, 155, 136, 174, 162, 144, 178, 173, 154, 178, 170, 154, 172, 160, 146, 174, 166, 150, 183, 176, 160, 173, 166, 150, 169, 162, 146, 184, 176, 162, 178, 169, 158, 172, 164, 147, 145, 133, 108, 115, 89, 60, 99, 67, 38, 83, 60, 37, 66, 49, 28, 53, 40, 21, 163, 124, 89, 159, 119, 88, 163, 118, 92, 166, 120, 98, 97, 73, 52, 81, 66, 52, 155, 142, 132, 180, 167, 155, 195, 181, 164, 188, 174, 157, 154, 136, 115, 131, 110, 85, 137, 118, 92, 164, 146, 121, 147, 125, 102, 150, 135, 112, 183, 176, 155, 186, 178, 162, 185, 174, 162, 186, 178, 163, 189, 183, 166, 182, 175, 159, 169, 163, 146, 182, 174, 160, 182, 172, 162, 178, 170, 156, 179, 169, 148, 145, 123, 100, 122, 94, 70, 139, 121, 96, 125, 113, 90, 44, 38, 21, 168, 126, 92, 172, 128, 99, 172, 128, 102, 146, 110, 84, 59, 51, 23, 51, 48, 28, 138, 130, 120, 177, 169, 160, 192, 186, 172, 169, 158, 139, 126, 104, 78, 124, 93, 62, 139, 110, 81, 153, 127, 103, 133, 106, 79, 139, 120, 93, 184, 175, 152, 193, 185, 169, 193, 183, 172, 195, 187, 172, 198, 191, 175, 198, 191, 175, 190, 183, 167, 188, 179, 166, 191, 180, 171, 194, 186, 174, 199, 191, 175, 179, 161, 144, 146, 122, 103, 167, 147, 125, 181, 169, 146, 99, 97, 74, 177, 129, 103, 178, 133, 110, 168, 133, 110, 118, 99, 71, 57, 63, 26, 43, 46, 18, 114, 106, 92, 173, 165, 154, 192, 189, 174, 163, 153, 133, 131, 103, 73, 149, 108, 70, 149, 109, 78, 142, 110, 87, 133, 100, 71, 156, 133, 103, 195, 184, 159, 197, 190, 173, 198, 189, 179, 200, 192, 177, 203, 196, 180, 205, 198, 182, 195, 188, 172, 192, 182, 169, 201, 188, 181, 204, 196, 186, 203, 197, 185, 189, 175, 163, 140, 117, 106, 137, 111, 95, 170, 154, 130, 129, 127, 96, 182, 135, 115, 177, 136, 116, 153, 129, 104, 96, 94, 61, 70, 85, 41, 58, 66, 30, 98, 91, 72, 164, 155, 142, 192, 187, 172, 180, 171, 151, 169, 144, 115, 172, 131, 95, 154, 111, 80, 140, 103, 77, 137, 101, 67, 176, 152, 121, 201, 191, 168, 197, 189, 173, 200, 190, 177, 200, 192, 177, 203, 197, 180, 204, 197, 181, 191, 185, 168, 191, 183, 169, 202, 190, 184, 204, 197, 188, 204, 199, 189, 189, 180, 171, 145, 127, 117, 115, 86, 69, 129, 106, 81, 113, 103, 68, 182, 142, 123, 165, 133, 110, 121, 109, 77, 83, 93, 51, 73, 93, 45, 62, 77, 35, 76, 79, 51, 152, 143, 129, 193, 181, 172, 201, 195, 179, 198, 187, 165, 181, 157, 131, 160, 128, 101, 147, 110, 79, 140, 103, 63, 176, 154, 125, 195, 188, 173, 194, 184, 171, 196, 180, 163, 193, 185, 169, 197, 191, 175, 193, 187, 171, 191, 185, 169, 197, 190, 176, 202, 195, 186, 201, 195, 186, 198, 192, 182, 183, 177, 166, 145, 133, 117, 117, 90, 65, 131, 97, 71, 123, 95, 66, 182, 144, 125, 138, 114, 88, 89, 89, 51, 75, 95, 48, 71, 94, 44, 61, 77, 34, 44, 50, 20, 113, 108, 90, 183, 171, 161, 205, 197, 186, 206, 198, 183, 193, 179, 160, 183, 165, 142, 163, 140, 112, 141, 111, 77, 167, 148, 125, 183, 176, 168, 183, 172, 164, 185, 169, 156, 189, 181, 165, 190, 184, 168, 185, 179, 163, 194, 188, 172, 199, 194, 179, 200, 195, 182, 196, 188, 175, 183, 170, 156, 166, 147, 133, 144, 120, 101, 137, 103, 77, 150, 108, 83, 138, 100, 74, 161, 128, 108, 103, 91, 60, 75, 86, 44, 69, 95, 46, 68, 91, 43, 69, 85, 42, 46, 54, 22, 53, 54, 31, 138, 133, 116, 197, 187, 178, 205, 195, 186, 194, 186, 172, 187, 181, 162, 178, 170, 148, 164, 144, 120, 168, 154, 138, 169, 162, 156, 167, 158, 153, 182, 168, 160, 188, 181, 166, 178, 172, 156, 182, 176, 160, 197, 190, 174, 199, 195, 178, 197, 194, 177, 184, 174, 156, 154, 130, 112, 149, 113, 94, 162, 120, 99, 162, 119, 95, 163, 116, 93, 148, 105, 81, 128, 108, 83, 83, 83, 48, 71, 89, 45, 68, 93, 45, 68, 89, 42, 70, 87, 43, 68, 80, 43, 44, 51, 20, 77, 78, 53, 173, 165, 152, 197, 188, 178, 195, 189, 176, 177, 174, 159, 164, 161, 144, 164, 154, 134, 158, 149, 134, 153, 146, 136, 153, 145, 137, 161, 152, 143, 162, 156, 141, 152, 146, 130, 171, 166, 149, 197, 191, 175, 199, 194, 178, 200, 195, 180, 172, 159, 142, 128, 101, 82, 150, 110, 88, 177, 130, 107, 177, 130, 107, 174, 127, 105, 159, 114, 91, 97, 92, 62, 75, 87, 48, 71, 90, 45, 73, 91, 45, 73, 90, 46, 73, 90, 46, 74, 89, 48, 68, 80, 42, 46, 53, 23, 135, 130, 110, 191, 182, 166, 197, 189, 173, 170, 161, 146, 132, 124, 109, 109, 106, 87, 107, 103, 84, 113, 106, 90, 100, 93, 80, 95, 89, 77, 96, 89, 75, 81, 74, 60, 127, 121, 106, 188, 182, 166, 196, 190, 176, 204, 194, 188, 175, 159, 150, 116, 89, 73, 135, 98, 77, 178, 134, 110, 182, 137, 114, 183, 141, 117, 175, 136, 111, 79, 87, 50, 70, 88, 46, 69, 89, 44, 74, 91, 46, 76, 92, 48, 75, 91, 48, 76, 91, 50, 74, 89, 48, 46, 57, 20, 105, 102, 79, 190, 182, 164, 198, 188, 171, 168, 155, 141, 119, 108, 93, 66, 70, 45, 55, 60, 32, 63, 65, 36, 61, 63, 35, 53, 57, 30, 60, 63, 37, 56, 57, 32, 65, 62, 41, 152, 145, 127, 193, 184, 172, 202, 191, 185, 199, 185, 175, 148, 128, 112, 121, 97, 76, 161, 131, 105, 183, 146, 119, 177, 141, 113, 173, 136, 110, 72, 90, 43, 69, 88, 41, 69, 90, 42, 71, 91, 44, 74, 89, 46, 72, 85, 43, 77, 89, 48, 77, 89, 48, 54, 64, 26, 91, 88, 68, 189, 181, 167, 194, 186, 172, 164, 155, 141, 140, 133, 118, 85, 93, 62, 62, 74, 37, 63, 74, 34, 75, 87, 43, 75, 88, 43, 71, 87, 43, 74, 84, 42, 52, 53, 19, 86, 76, 56, 152, 139, 131, 177, 170, 163, 164, 157, 149, 135, 127, 118, 103, 95, 86, 111, 99, 84, 155, 132, 105, 156, 126, 99, 162, 124, 99, 70, 92, 42, 72, 90, 42, 73, 87, 40, 74, 84, 39, 80, 86, 48, 87, 91, 56, 97, 100, 65, 104, 108, 73, 86, 88, 56, 103, 96, 78, 190, 181, 167, 187, 178, 164, 161, 152, 137, 162, 154, 139, 106, 102, 80, 79, 76, 50, 79, 76, 48, 89, 88, 55, 89, 87, 53, 82, 78, 44, 82, 77, 42, 73, 65, 36, 56, 42, 28, 66, 53, 55, 71, 69, 84, 47, 46, 64, 41, 40, 57, 44, 43, 61, 45, 42, 53, 80, 69, 61, 125, 105, 91, 159, 127, 107, 70, 91, 45, 74, 87, 44, 84, 88, 48, 95, 95, 57, 106, 101, 71, 115, 108, 81, 117, 110, 83, 125, 118, 90, 114, 106, 81, 121, 111, 93, 197, 185, 169, 185, 174, 157, 160, 149, 132, 152, 140, 124, 115, 99, 85, 104, 86, 72, 98, 81, 66, 99, 81, 66, 96, 77, 61, 96, 72, 54, 93, 72, 52, 85, 70, 53, 80, 68, 63, 49, 43, 52, 24, 32, 55, 23, 33, 57, 26, 36, 60, 26, 36, 61, 26, 34, 57, 31, 32, 48, 59, 50, 56, 111, 92, 82, 75, 88, 53, 84, 90, 58, 101, 100, 70, 111, 105, 78, 109, 98, 76, 109, 97, 77, 111, 98, 79, 114, 102, 82, 106, 93, 74, 118, 106, 87, 190, 177, 159, 187, 174, 156, 151, 139, 121, 126, 113, 95, 110, 92, 78, 111, 90, 78, 99, 78, 68, 98, 77, 69, 103, 80, 74, 104, 76, 70, 102, 80, 71, 90, 79, 71, 62, 58, 60, 33, 38, 49, 21, 38, 51, 21, 39, 52, 21, 39, 52, 20, 38, 50, 22, 38, 55, 25, 34, 60, 28, 30, 47, 43, 37, 41, 91, 91, 73, 104, 104, 86, 108, 105, 88, 104, 99, 83, 100, 92, 75, 100, 90, 73, 100, 90, 73, 103, 93, 76, 95, 85, 67, 101, 87, 68, 179, 164, 144, 189, 174, 154, 133, 118, 98, 91, 77, 56, 99, 87, 66, 115, 102, 85, 110, 97, 83, 113, 99, 90, 123, 108, 103, 116, 102, 99, 108, 101, 94, 76, 78, 73, 34, 42, 49, 23, 36, 51, 21, 39, 51, 20, 39, 50, 20, 38, 50, 22, 40, 52, 20, 37, 52, 22, 32, 56, 24, 31, 53, 24, 30, 46, 105, 98, 88, 103, 98, 88, 102, 99, 88, 96, 93, 82, 95, 88, 75, 94, 86, 74, 95, 87, 77, 97, 88, 77, 96, 84, 71, 117, 102, 81, 176, 162, 139, 175, 163, 141, 106, 94, 74, 68, 59, 38, 102, 95, 72, 116, 109, 88, 114, 106, 88, 125, 117, 101, 135, 126, 113, 126, 120, 111, 97, 98, 95, 39, 48, 53, 19, 33, 45, 19, 35, 52, 18, 33, 54, 18, 34, 55, 20, 35, 56, 23, 39, 59, 23, 37, 59, 22, 34, 54, 17, 33, 49, 22, 33, 55, 106, 97, 88, 103, 96, 86, 103, 99, 88, 104, 100, 88, 109, 98, 88, 108, 98, 92, 102, 94, 92, 105, 93, 89, 119, 102, 92, 151, 133, 111, 179, 164, 140, 147, 136, 115, 105, 97, 79, 109, 103, 86, 125, 112, 96, 129, 115, 99, 130, 117, 100, 129, 117, 99, 124, 113, 93, 122, 112, 96, 75, 75, 77, 20, 29, 49, 17, 32, 51, 19, 34, 49, 18, 32, 54, 19, 34, 57, 20, 35, 58, 18, 34, 57, 21, 33, 58, 20, 34, 52, 14, 37, 43, 21, 32, 55, 114, 103, 91, 114, 104, 92, 120, 110, 98, 125, 114, 102, 132, 117, 102, 125, 113, 102, 112, 105, 97, 115, 104, 94, 139, 121, 106, 164, 140, 120, 163, 139, 119, 129, 108, 90, 129, 110, 95, 144, 125, 112, 142, 117, 106, 139, 114, 102, 134, 113, 99, 125, 107, 93, 125, 109, 94, 112, 103, 92, 50, 52, 57, 20, 30, 51, 20, 35, 56, 22, 36, 53, 21, 36, 58, 22, 37, 60, 24, 38, 61, 21, 36, 59, 21, 34, 57, 36, 47, 61, 37, 50, 55, 22, 30, 51, 136, 121, 106, 131, 115, 100, 133, 114, 100, 134, 113, 99, 130, 108, 91, 129, 113, 97, 126, 117, 104, 118, 109, 92, 126, 109, 89, 145, 115, 100, 142, 108, 94, 141, 108, 95, 150, 117, 104, 147, 113, 101, 143, 108, 98, 144, 111, 102, 140, 112, 104, 141, 118, 110, 137, 119, 112, 74, 69, 67, 30, 36, 45, 23, 37, 56, 23, 37, 60, 26, 38, 60, 24, 39, 61, 25, 40, 63, 25, 40, 62, 23, 38, 61, 24, 39, 59, 80, 84, 92, 78, 72, 76, 28, 31, 50], \"height\": 32, \"channels\": 3, \"width\": 32, \"type\": \"image\", \"id\": 112285970768}], \"selected_variable\": {\"name\": [\"<SArray>\"], \"dtype\": \"Image\", \"view_component\": \"Images\", \"view_file\": \"sarray\", \"descriptives\": {\"rows\": 1}, \"type\": \"SArray\", \"view_components\": [\"Images\"]}}, e);\n",
       "                });\n",
       "            })();\n",
       "        "
      ]
     },
     "metadata": {},
     "output_type": "display_data"
    }
   ],
   "source": [
    "dog = dog_test[0:1]\n",
    "dog['image'].show()"
   ]
  },
  {
   "cell_type": "code",
   "execution_count": 32,
   "metadata": {},
   "outputs": [
    {
     "data": {
      "text/html": [
       "<pre>Starting pairwise querying.</pre>"
      ],
      "text/plain": [
       "Starting pairwise querying."
      ]
     },
     "metadata": {},
     "output_type": "display_data"
    },
    {
     "data": {
      "text/html": [
       "<pre>+--------------+---------+-------------+--------------+</pre>"
      ],
      "text/plain": [
       "+--------------+---------+-------------+--------------+"
      ]
     },
     "metadata": {},
     "output_type": "display_data"
    },
    {
     "data": {
      "text/html": [
       "<pre>| Query points | # Pairs | % Complete. | Elapsed Time |</pre>"
      ],
      "text/plain": [
       "| Query points | # Pairs | % Complete. | Elapsed Time |"
      ]
     },
     "metadata": {},
     "output_type": "display_data"
    },
    {
     "data": {
      "text/html": [
       "<pre>+--------------+---------+-------------+--------------+</pre>"
      ],
      "text/plain": [
       "+--------------+---------+-------------+--------------+"
      ]
     },
     "metadata": {},
     "output_type": "display_data"
    },
    {
     "data": {
      "text/html": [
       "<pre>| 0            | 1       | 0.196464    | 12.521ms     |</pre>"
      ],
      "text/plain": [
       "| 0            | 1       | 0.196464    | 12.521ms     |"
      ]
     },
     "metadata": {},
     "output_type": "display_data"
    },
    {
     "data": {
      "text/html": [
       "<pre>| Done         |         | 100         | 69.276ms     |</pre>"
      ],
      "text/plain": [
       "| Done         |         | 100         | 69.276ms     |"
      ]
     },
     "metadata": {},
     "output_type": "display_data"
    },
    {
     "data": {
      "text/html": [
       "<pre>+--------------+---------+-------------+--------------+</pre>"
      ],
      "text/plain": [
       "+--------------+---------+-------------+--------------+"
      ]
     },
     "metadata": {},
     "output_type": "display_data"
    },
    {
     "data": {
      "text/html": [
       "<div style=\"max-height:1000px;max-width:1500px;overflow:auto;\"><table frame=\"box\" rules=\"cols\">\n",
       "    <tr>\n",
       "        <th style=\"padding-left: 1em; padding-right: 1em; text-align: center\">query_label</th>\n",
       "        <th style=\"padding-left: 1em; padding-right: 1em; text-align: center\">reference_label</th>\n",
       "        <th style=\"padding-left: 1em; padding-right: 1em; text-align: center\">distance</th>\n",
       "        <th style=\"padding-left: 1em; padding-right: 1em; text-align: center\">rank</th>\n",
       "    </tr>\n",
       "    <tr>\n",
       "        <td style=\"padding-left: 1em; padding-right: 1em; text-align: center; vertical-align: top\">0</td>\n",
       "        <td style=\"padding-left: 1em; padding-right: 1em; text-align: center; vertical-align: top\">49803</td>\n",
       "        <td style=\"padding-left: 1em; padding-right: 1em; text-align: center; vertical-align: top\">33.4773590373</td>\n",
       "        <td style=\"padding-left: 1em; padding-right: 1em; text-align: center; vertical-align: top\">1</td>\n",
       "    </tr>\n",
       "    <tr>\n",
       "        <td style=\"padding-left: 1em; padding-right: 1em; text-align: center; vertical-align: top\">0</td>\n",
       "        <td style=\"padding-left: 1em; padding-right: 1em; text-align: center; vertical-align: top\">21235</td>\n",
       "        <td style=\"padding-left: 1em; padding-right: 1em; text-align: center; vertical-align: top\">34.415221599</td>\n",
       "        <td style=\"padding-left: 1em; padding-right: 1em; text-align: center; vertical-align: top\">2</td>\n",
       "    </tr>\n",
       "    <tr>\n",
       "        <td style=\"padding-left: 1em; padding-right: 1em; text-align: center; vertical-align: top\">0</td>\n",
       "        <td style=\"padding-left: 1em; padding-right: 1em; text-align: center; vertical-align: top\">23803</td>\n",
       "        <td style=\"padding-left: 1em; padding-right: 1em; text-align: center; vertical-align: top\">34.8138630061</td>\n",
       "        <td style=\"padding-left: 1em; padding-right: 1em; text-align: center; vertical-align: top\">3</td>\n",
       "    </tr>\n",
       "    <tr>\n",
       "        <td style=\"padding-left: 1em; padding-right: 1em; text-align: center; vertical-align: top\">0</td>\n",
       "        <td style=\"padding-left: 1em; padding-right: 1em; text-align: center; vertical-align: top\">41752</td>\n",
       "        <td style=\"padding-left: 1em; padding-right: 1em; text-align: center; vertical-align: top\">34.9289313468</td>\n",
       "        <td style=\"padding-left: 1em; padding-right: 1em; text-align: center; vertical-align: top\">4</td>\n",
       "    </tr>\n",
       "    <tr>\n",
       "        <td style=\"padding-left: 1em; padding-right: 1em; text-align: center; vertical-align: top\">0</td>\n",
       "        <td style=\"padding-left: 1em; padding-right: 1em; text-align: center; vertical-align: top\">13865</td>\n",
       "        <td style=\"padding-left: 1em; padding-right: 1em; text-align: center; vertical-align: top\">37.1546409194</td>\n",
       "        <td style=\"padding-left: 1em; padding-right: 1em; text-align: center; vertical-align: top\">5</td>\n",
       "    </tr>\n",
       "</table>\n",
       "[5 rows x 4 columns]<br/>\n",
       "</div>"
      ],
      "text/plain": [
       "Columns:\n",
       "\tquery_label\tint\n",
       "\treference_label\tint\n",
       "\tdistance\tfloat\n",
       "\trank\tint\n",
       "\n",
       "Rows: 5\n",
       "\n",
       "Data:\n",
       "+-------------+-----------------+---------------+------+\n",
       "| query_label | reference_label |    distance   | rank |\n",
       "+-------------+-----------------+---------------+------+\n",
       "|      0      |      49803      | 33.4773590373 |  1   |\n",
       "|      0      |      21235      |  34.415221599 |  2   |\n",
       "|      0      |      23803      | 34.8138630061 |  3   |\n",
       "|      0      |      41752      | 34.9289313468 |  4   |\n",
       "|      0      |      13865      | 37.1546409194 |  5   |\n",
       "+-------------+-----------------+---------------+------+\n",
       "[5 rows x 4 columns]"
      ]
     },
     "execution_count": 32,
     "metadata": {},
     "output_type": "execute_result"
    }
   ],
   "source": [
    "dog_model.query(dog)"
   ]
  },
  {
   "cell_type": "code",
   "execution_count": 34,
   "metadata": {},
   "outputs": [
    {
     "data": {
      "application/javascript": [
       "$(\"head\").append($(\"<link/>\").attr({\n",
       "  rel:  \"stylesheet\",\n",
       "  type: \"text/css\",\n",
       "  href: \"//cdnjs.cloudflare.com/ajax/libs/font-awesome/4.1.0/css/font-awesome.min.css\"\n",
       "}));\n",
       "$(\"head\").append($(\"<link/>\").attr({\n",
       "  rel:  \"stylesheet\",\n",
       "  type: \"text/css\",\n",
       "  href: \"https://static.turi.com/products/graphlab-create/2.1/canvas/css/canvas.css\"\n",
       "}));\n",
       "\n",
       "            (function(){\n",
       "\n",
       "                var e = null;\n",
       "                if (typeof element == 'undefined') {\n",
       "                    var scripts = document.getElementsByTagName('script');\n",
       "                    var thisScriptTag = scripts[scripts.length-1];\n",
       "                    var parentDiv = thisScriptTag.parentNode;\n",
       "                    e = document.createElement('div');\n",
       "                    parentDiv.appendChild(e);\n",
       "                } else {\n",
       "                    e = element[0];\n",
       "                }\n",
       "\n",
       "                if (typeof requirejs !== 'undefined') {\n",
       "                    // disable load timeout; ipython_app.js is large and can take a while to load.\n",
       "                    requirejs.config({waitSeconds: 0});\n",
       "                }\n",
       "\n",
       "                require(['https://static.turi.com/products/graphlab-create/2.1/canvas/js/ipython_app.js'], function(IPythonApp){\n",
       "                    var app = new IPythonApp();\n",
       "                    app.attachView('sarray','Images', {\"ipython\": true, \"rows\": [{\"format\": \"raw\", \"value\": [55, 50, 45, 56, 52, 44, 63, 59, 49, 57, 59, 47, 44, 56, 41, 41, 59, 42, 44, 61, 45, 47, 56, 41, 105, 96, 80, 181, 167, 147, 67, 71, 55, 38, 45, 39, 44, 47, 36, 39, 42, 30, 35, 39, 26, 39, 41, 30, 70, 52, 60, 89, 66, 77, 66, 63, 59, 67, 62, 54, 82, 63, 63, 72, 55, 52, 69, 56, 49, 87, 77, 72, 108, 97, 96, 96, 79, 82, 95, 67, 76, 96, 64, 78, 93, 65, 79, 72, 55, 64, 63, 48, 50, 49, 33, 36, 62, 65, 50, 59, 58, 41, 72, 67, 49, 59, 59, 43, 42, 51, 36, 48, 63, 45, 49, 64, 46, 46, 59, 41, 102, 100, 81, 187, 172, 155, 75, 78, 60, 46, 56, 43, 43, 52, 39, 39, 47, 34, 34, 40, 27, 42, 42, 32, 62, 42, 47, 62, 48, 49, 47, 55, 41, 83, 74, 59, 101, 67, 61, 95, 64, 57, 90, 67, 55, 93, 77, 68, 85, 72, 71, 72, 57, 62, 104, 81, 88, 93, 69, 77, 101, 79, 86, 111, 81, 90, 92, 63, 72, 93, 66, 74, 65, 76, 56, 51, 61, 39, 58, 66, 42, 49, 50, 32, 48, 50, 36, 54, 63, 46, 44, 52, 35, 44, 58, 37, 101, 105, 84, 195, 179, 164, 103, 106, 85, 44, 58, 38, 39, 54, 42, 35, 46, 36, 35, 41, 32, 40, 41, 33, 53, 46, 37, 56, 50, 38, 42, 52, 33, 76, 74, 55, 101, 78, 65, 85, 65, 48, 89, 74, 57, 88, 75, 66, 58, 52, 48, 55, 53, 49, 75, 69, 64, 65, 61, 54, 67, 63, 54, 95, 75, 72, 98, 79, 81, 95, 81, 81, 67, 85, 64, 61, 82, 58, 50, 73, 46, 51, 67, 44, 54, 69, 47, 56, 77, 53, 52, 71, 48, 65, 88, 62, 111, 119, 97, 198, 182, 169, 130, 131, 110, 64, 81, 53, 56, 78, 52, 60, 78, 53, 64, 74, 51, 80, 87, 65, 86, 97, 69, 85, 86, 62, 89, 95, 73, 93, 101, 82, 113, 114, 95, 72, 74, 51, 76, 77, 56, 90, 90, 78, 86, 84, 78, 85, 83, 73, 86, 81, 69, 69, 68, 50, 49, 53, 31, 54, 56, 36, 53, 59, 45, 59, 71, 55, 49, 71, 43, 50, 73, 44, 49, 72, 43, 50, 76, 43, 53, 80, 45, 62, 89, 56, 60, 85, 55, 61, 85, 55, 94, 102, 78, 193, 180, 167, 145, 141, 121, 60, 77, 47, 58, 84, 54, 67, 94, 58, 86, 108, 70, 113, 126, 94, 122, 130, 105, 113, 123, 95, 116, 132, 100, 109, 125, 100, 97, 111, 87, 79, 94, 68, 94, 109, 83, 110, 124, 101, 114, 125, 106, 94, 102, 82, 79, 86, 64, 88, 97, 71, 83, 96, 67, 67, 86, 57, 52, 73, 45, 54, 76, 48, 63, 82, 50, 64, 84, 52, 66, 86, 54, 65, 87, 50, 66, 90, 51, 85, 108, 72, 82, 104, 72, 68, 87, 55, 85, 89, 64, 185, 170, 156, 165, 153, 137, 63, 70, 43, 60, 79, 47, 65, 92, 50, 82, 111, 66, 85, 106, 67, 84, 97, 67, 96, 115, 78, 89, 114, 73, 106, 127, 92, 103, 123, 91, 75, 97, 63, 80, 101, 68, 80, 102, 68, 103, 124, 91, 96, 114, 84, 78, 97, 68, 85, 103, 76, 103, 122, 95, 64, 87, 60, 49, 72, 44, 50, 73, 45, 74, 90, 55, 76, 92, 57, 82, 98, 63, 84, 98, 60, 77, 91, 52, 79, 95, 58, 78, 96, 61, 80, 95, 59, 98, 100, 70, 189, 174, 158, 202, 185, 169, 110, 104, 80, 89, 98, 61, 77, 99, 52, 73, 103, 53, 73, 101, 57, 75, 97, 56, 74, 99, 56, 77, 105, 61, 88, 111, 69, 79, 100, 61, 82, 106, 66, 93, 116, 77, 84, 107, 68, 80, 103, 64, 75, 99, 60, 75, 98, 65, 65, 87, 58, 66, 88, 62, 62, 84, 59, 61, 84, 58, 53, 76, 50, 84, 96, 58, 81, 94, 56, 87, 99, 61, 97, 104, 65, 98, 103, 62, 91, 100, 60, 86, 101, 62, 95, 109, 69, 112, 117, 81, 202, 192, 171, 239, 222, 206, 162, 151, 129, 94, 101, 63, 90, 111, 64, 77, 104, 57, 74, 100, 59, 76, 99, 56, 72, 96, 56, 70, 94, 56, 84, 101, 61, 79, 96, 56, 81, 100, 62, 85, 104, 66, 80, 98, 61, 76, 95, 58, 69, 89, 53, 66, 86, 51, 67, 87, 54, 66, 86, 55, 65, 88, 58, 66, 90, 60, 61, 85, 55, 87, 98, 57, 90, 100, 59, 93, 103, 62, 100, 102, 60, 97, 98, 55, 98, 105, 64, 92, 105, 65, 93, 109, 66, 108, 118, 77, 200, 197, 171, 242, 228, 211, 209, 197, 177, 113, 121, 84, 86, 104, 61, 75, 95, 55, 68, 84, 51, 77, 92, 54, 73, 91, 55, 73, 89, 57, 89, 98, 62, 90, 97, 63, 89, 98, 68, 97, 107, 77, 91, 102, 73, 74, 85, 56, 61, 75, 46, 63, 78, 47, 67, 80, 47, 67, 81, 46, 67, 87, 51, 66, 87, 51, 67, 89, 53, 75, 95, 53, 87, 104, 62, 95, 110, 67, 94, 103, 57, 97, 105, 59, 90, 103, 61, 81, 98, 60, 82, 99, 58, 113, 123, 82, 210, 208, 182, 241, 227, 210, 240, 222, 204, 211, 204, 180, 176, 179, 149, 153, 156, 125, 129, 124, 95, 109, 104, 70, 95, 98, 62, 90, 96, 61, 97, 100, 66, 136, 131, 103, 187, 181, 159, 211, 209, 188, 196, 197, 179, 165, 167, 146, 118, 124, 99, 65, 75, 55, 56, 64, 43, 61, 62, 38, 74, 71, 46, 79, 73, 49, 74, 79, 52, 71, 92, 55, 72, 95, 55, 80, 104, 62, 89, 111, 66, 99, 119, 73, 97, 115, 71, 95, 112, 70, 101, 111, 73, 165, 164, 134, 238, 232, 213, 245, 234, 220, 243, 230, 214, 243, 230, 214, 241, 233, 214, 237, 231, 208, 224, 212, 188, 184, 169, 140, 134, 127, 95, 107, 105, 75, 149, 145, 119, 220, 210, 188, 238, 226, 206, 237, 226, 207, 236, 227, 210, 241, 228, 210, 224, 212, 193, 111, 112, 93, 53, 64, 38, 56, 65, 35, 69, 59, 41, 81, 66, 50, 72, 69, 49, 68, 87, 54, 60, 84, 47, 61, 90, 49, 73, 103, 59, 84, 110, 65, 92, 110, 66, 98, 110, 66, 136, 136, 102, 221, 209, 191, 241, 230, 219, 243, 234, 223, 242, 233, 219, 242, 227, 215, 239, 224, 209, 233, 219, 202, 232, 217, 198, 233, 216, 193, 217, 204, 178, 194, 181, 158, 225, 206, 187, 236, 214, 195, 231, 209, 189, 229, 207, 187, 225, 205, 185, 220, 193, 177, 213, 183, 169, 166, 155, 133, 74, 84, 52, 63, 83, 48, 61, 71, 46, 61, 68, 45, 62, 75, 50, 68, 84, 49, 66, 84, 46, 74, 93, 53, 83, 106, 61, 82, 103, 57, 87, 101, 58, 96, 103, 64, 174, 171, 141, 232, 219, 203, 233, 220, 210, 238, 227, 214, 239, 229, 211, 242, 225, 210, 238, 215, 201, 232, 210, 192, 231, 214, 193, 233, 219, 201, 239, 224, 203, 237, 213, 188, 212, 173, 148, 207, 165, 138, 213, 176, 151, 208, 175, 154, 224, 197, 180, 190, 161, 147, 168, 137, 121, 213, 193, 171, 149, 146, 124, 78, 92, 69, 65, 87, 54, 65, 87, 54, 66, 88, 54, 86, 102, 62, 90, 102, 62, 99, 108, 67, 102, 112, 66, 102, 113, 66, 101, 106, 66, 117, 119, 86, 199, 196, 170, 220, 210, 191, 225, 211, 197, 232, 216, 200, 231, 214, 193, 236, 217, 197, 233, 209, 192, 235, 211, 191, 238, 221, 197, 232, 223, 204, 235, 221, 202, 223, 192, 165, 191, 138, 105, 193, 135, 100, 198, 149, 118, 200, 162, 141, 217, 190, 177, 208, 186, 173, 202, 179, 159, 212, 188, 170, 167, 150, 143, 73, 68, 63, 85, 96, 64, 84, 99, 61, 81, 94, 57, 92, 106, 67, 84, 100, 60, 89, 98, 60, 95, 103, 64, 110, 114, 71, 116, 114, 72, 145, 144, 112, 210, 206, 184, 210, 197, 178, 219, 199, 183, 227, 204, 188, 231, 206, 187, 234, 209, 185, 231, 215, 200, 235, 221, 207, 235, 215, 194, 235, 221, 201, 239, 226, 209, 221, 193, 172, 191, 139, 107, 191, 130, 94, 197, 146, 115, 219, 182, 161, 225, 202, 187, 227, 209, 196, 217, 198, 185, 202, 182, 175, 160, 140, 141, 85, 71, 73, 74, 79, 59, 78, 93, 56, 79, 96, 53, 89, 98, 59, 88, 99, 60, 95, 101, 64, 97, 104, 63, 106, 111, 65, 115, 113, 71, 163, 160, 135, 218, 209, 193, 205, 185, 167, 211, 188, 170, 224, 198, 182, 229, 200, 182, 228, 201, 178, 234, 218, 203, 237, 224, 210, 228, 208, 189, 230, 217, 199, 241, 230, 216, 218, 192, 173, 186, 135, 102, 188, 126, 90, 186, 132, 102, 204, 163, 141, 210, 183, 169, 193, 177, 168, 185, 173, 169, 195, 183, 183, 153, 139, 145, 67, 54, 61, 52, 50, 45, 79, 89, 58, 86, 102, 57, 99, 104, 64, 97, 101, 63, 98, 103, 64, 102, 109, 67, 108, 116, 68, 111, 113, 72, 169, 162, 144, 221, 202, 193, 190, 166, 147, 181, 162, 141, 209, 188, 168, 219, 192, 173, 218, 193, 172, 225, 207, 190, 231, 215, 199, 221, 203, 186, 220, 207, 193, 231, 220, 209, 212, 189, 171, 180, 134, 100, 184, 127, 92, 167, 112, 83, 168, 123, 99, 161, 133, 119, 178, 166, 163, 208, 202, 205, 201, 194, 200, 162, 155, 164, 118, 110, 121, 70, 61, 67, 86, 91, 68, 90, 103, 59, 99, 106, 64, 95, 99, 59, 89, 98, 55, 90, 100, 60, 93, 102, 60, 95, 101, 60, 170, 161, 142, 214, 191, 181, 159, 136, 114, 115, 105, 78, 164, 152, 126, 205, 184, 161, 206, 183, 162, 207, 187, 167, 224, 206, 189, 223, 206, 190, 222, 203, 188, 218, 202, 190, 207, 188, 172, 180, 144, 116, 175, 128, 96, 153, 103, 71, 138, 95, 66, 125, 103, 87, 179, 172, 170, 211, 206, 213, 180, 174, 181, 154, 149, 156, 135, 127, 137, 101, 93, 99, 93, 99, 77, 85, 103, 59, 90, 101, 56, 89, 97, 54, 80, 95, 50, 73, 86, 49, 66, 79, 42, 83, 90, 52, 174, 162, 140, 194, 171, 155, 125, 110, 84, 91, 90, 59, 109, 108, 76, 163, 150, 124, 199, 177, 158, 192, 168, 150, 213, 194, 177, 229, 212, 196, 229, 206, 189, 213, 193, 179, 191, 172, 158, 171, 144, 121, 144, 108, 80, 123, 83, 52, 119, 86, 53, 122, 109, 91, 176, 173, 174, 184, 177, 185, 156, 150, 155, 136, 130, 134, 130, 122, 129, 125, 119, 122, 81, 91, 68, 65, 87, 46, 93, 104, 63, 85, 95, 55, 82, 94, 53, 73, 86, 47, 65, 85, 46, 92, 95, 62, 171, 148, 128, 143, 124, 102, 91, 89, 57, 89, 95, 60, 84, 90, 56, 97, 94, 65, 164, 141, 126, 190, 161, 149, 206, 190, 174, 226, 209, 195, 228, 210, 197, 219, 198, 184, 195, 167, 149, 156, 127, 102, 115, 90, 66, 92, 74, 51, 94, 86, 51, 114, 115, 95, 161, 159, 168, 156, 149, 158, 140, 134, 135, 134, 128, 131, 136, 128, 140, 139, 132, 139, 75, 85, 63, 59, 81, 41, 90, 101, 63, 80, 91, 53, 78, 88, 50, 80, 88, 49, 76, 91, 49, 102, 99, 67, 164, 136, 114, 117, 98, 74, 81, 79, 52, 74, 80, 50, 71, 77, 47, 74, 71, 43, 122, 94, 72, 167, 136, 118, 202, 189, 169, 215, 201, 184, 219, 200, 185, 216, 191, 175, 195, 167, 147, 144, 119, 94, 104, 91, 66, 87, 82, 59, 83, 82, 48, 102, 102, 81, 136, 131, 138, 127, 121, 130, 131, 126, 130, 132, 127, 133, 157, 150, 159, 141, 137, 132, 76, 87, 58, 68, 89, 47, 76, 86, 50, 80, 90, 54, 81, 90, 55, 85, 89, 52, 72, 82, 41, 104, 99, 67, 180, 153, 130, 116, 96, 76, 60, 57, 36, 58, 62, 39, 59, 65, 42, 76, 72, 49, 133, 103, 77, 152, 119, 96, 186, 172, 147, 203, 187, 166, 197, 169, 149, 192, 161, 141, 173, 147, 126, 130, 114, 90, 99, 99, 70, 72, 77, 49, 73, 76, 42, 79, 79, 52, 98, 94, 92, 88, 85, 91, 107, 104, 109, 143, 140, 146, 183, 180, 180, 109, 112, 88, 75, 89, 51, 66, 87, 43, 75, 85, 50, 74, 84, 50, 80, 90, 56, 84, 88, 55, 71, 82, 48, 109, 107, 79, 200, 177, 159, 136, 120, 105, 50, 46, 33, 47, 50, 34, 49, 52, 36, 63, 59, 43, 139, 114, 94, 162, 129, 110, 174, 154, 129, 204, 179, 154, 193, 156, 130, 167, 131, 106, 131, 107, 84, 86, 78, 55, 73, 78, 47, 65, 74, 45, 67, 76, 41, 65, 72, 39, 68, 72, 58, 69, 69, 65, 85, 85, 85, 167, 167, 166, 150, 151, 139, 82, 89, 55, 80, 96, 57, 73, 91, 52, 74, 85, 52, 69, 78, 47, 76, 84, 52, 82, 85, 55, 74, 84, 54, 103, 105, 81, 210, 195, 178, 180, 166, 152, 70, 64, 51, 46, 49, 33, 43, 47, 33, 43, 41, 29, 115, 96, 86, 179, 149, 137, 172, 146, 124, 190, 153, 126, 197, 154, 125, 166, 131, 105, 94, 75, 52, 62, 62, 39, 57, 63, 32, 67, 71, 44, 68, 77, 44, 62, 73, 39, 67, 76, 53, 95, 99, 84, 135, 136, 128, 157, 159, 149, 80, 85, 64, 69, 80, 44, 77, 93, 58, 70, 86, 53, 69, 82, 49, 72, 81, 50, 78, 85, 54, 91, 92, 61, 84, 87, 55, 80, 85, 55, 129, 124, 100, 127, 114, 91, 77, 68, 43, 62, 64, 39, 48, 54, 34, 39, 41, 26, 124, 110, 100, 182, 158, 148, 139, 114, 94, 178, 136, 108, 201, 157, 127, 173, 145, 122, 79, 70, 52, 48, 56, 34, 52, 57, 31, 57, 58, 31, 61, 65, 37, 65, 71, 43, 64, 72, 47, 76, 81, 60, 108, 109, 90, 85, 87, 68, 67, 75, 51, 64, 78, 45, 62, 77, 44, 56, 74, 40, 81, 90, 56, 79, 90, 55, 80, 93, 58, 73, 83, 46, 67, 76, 40, 66, 75, 41, 65, 68, 38, 74, 69, 41, 71, 67, 36, 62, 68, 38, 52, 61, 35, 51, 54, 33, 146, 132, 118, 138, 118, 107, 67, 54, 34, 152, 124, 97, 195, 159, 126, 188, 160, 134, 115, 103, 86, 35, 40, 23, 44, 51, 33, 50, 55, 34, 50, 59, 31, 54, 66, 33, 56, 69, 37, 57, 67, 39, 64, 68, 42, 69, 75, 49, 66, 78, 48, 68, 80, 45, 67, 80, 45, 63, 79, 43, 86, 93, 55, 76, 89, 49, 73, 90, 49, 73, 89, 47, 69, 82, 42, 72, 82, 46, 75, 82, 49, 78, 82, 50, 72, 77, 42, 61, 73, 38, 61, 73, 40, 59, 65, 36, 101, 92, 72, 102, 91, 77, 36, 37, 17, 109, 99, 74, 191, 162, 131, 206, 176, 149, 149, 131, 112, 40, 41, 27, 36, 45, 31, 40, 50, 32, 41, 56, 29, 49, 67, 32, 56, 75, 38, 58, 73, 40, 65, 75, 44, 64, 76, 44, 65, 80, 46, 68, 80, 44, 65, 78, 42, 64, 80, 43, 85, 97, 52, 77, 89, 45, 78, 91, 47, 81, 97, 52, 78, 90, 48, 79, 83, 46, 73, 78, 44, 69, 78, 42, 71, 83, 44, 62, 81, 40, 64, 80, 40, 63, 74, 36, 62, 67, 40, 58, 59, 41, 34, 44, 25, 78, 75, 56, 182, 155, 135, 206, 173, 150, 157, 134, 111, 52, 50, 31, 43, 51, 33, 43, 52, 33, 41, 53, 29, 47, 61, 33, 50, 69, 39, 50, 69, 40, 54, 67, 40, 54, 69, 42, 52, 71, 42, 50, 67, 36, 50, 68, 36, 53, 74, 41, 82, 97, 52, 81, 91, 47, 86, 95, 49, 73, 88, 42, 74, 86, 44, 85, 88, 52, 76, 79, 44, 68, 77, 41, 65, 81, 41, 56, 76, 33, 58, 75, 32, 57, 73, 30, 53, 68, 32, 47, 59, 33, 39, 54, 33, 53, 55, 38, 151, 130, 119, 209, 177, 161, 190, 162, 140, 86, 78, 56, 50, 54, 32, 54, 60, 37, 46, 56, 32, 40, 53, 30, 39, 57, 32, 44, 64, 38, 47, 63, 38, 46, 63, 37, 45, 67, 39, 44, 65, 37, 44, 66, 38, 45, 70, 41, 74, 91, 51, 76, 85, 46, 82, 95, 47, 66, 86, 39, 70, 88, 48, 73, 84, 46, 84, 90, 54, 86, 94, 58, 67, 80, 43, 55, 71, 33, 54, 72, 33, 59, 78, 39, 61, 77, 38, 46, 68, 30, 49, 70, 37, 48, 60, 34, 87, 83, 67, 205, 183, 168, 232, 203, 187, 183, 162, 150, 84, 81, 60, 57, 64, 35, 52, 66, 38, 46, 65, 37, 42, 63, 36, 46, 65, 38, 46, 65, 37, 45, 64, 33, 44, 64, 32, 46, 66, 36, 48, 69, 38, 49, 73, 41, 73, 90, 50, 68, 82, 44, 73, 90, 44, 66, 87, 42, 69, 88, 48, 65, 80, 41, 75, 85, 48, 81, 90, 55, 66, 78, 45, 56, 71, 37, 52, 69, 34, 57, 76, 41, 64, 79, 46, 57, 79, 42, 58, 81, 40, 64, 81, 41, 72, 80, 47, 145, 138, 111, 203, 183, 164, 219, 201, 189, 131, 131, 107, 57, 69, 36, 62, 78, 47, 60, 80, 50, 45, 67, 38, 48, 68, 38, 55, 76, 43, 53, 74, 39, 48, 69, 32, 56, 77, 39, 54, 76, 38, 56, 81, 42, 75, 95, 54, 72, 92, 54, 64, 84, 42, 69, 89, 46, 68, 87, 47, 61, 77, 38, 65, 79, 41, 65, 78, 42, 69, 81, 48, 66, 81, 47, 57, 75, 40, 50, 68, 35, 50, 65, 37, 54, 75, 39, 63, 86, 41, 68, 86, 37, 69, 85, 38, 84, 92, 53, 119, 116, 88, 141, 135, 114, 89, 97, 67, 56, 74, 37, 61, 78, 44, 59, 79, 47, 52, 74, 41, 55, 79, 42, 60, 85, 46, 63, 88, 47, 56, 80, 38, 63, 85, 42, 57, 80, 37, 56, 82, 38], \"height\": 32, \"channels\": 3, \"width\": 32, \"type\": \"image\", \"id\": 112285971600}], \"selected_variable\": {\"name\": [\"<SArray>\"], \"dtype\": \"Image\", \"view_component\": \"Images\", \"view_file\": \"sarray\", \"descriptives\": {\"rows\": 1}, \"type\": \"SArray\", \"view_components\": [\"Images\"]}}, e);\n",
       "                });\n",
       "            })();\n",
       "        "
      ]
     },
     "metadata": {},
     "output_type": "display_data"
    }
   ],
   "source": [
    "dog_train[dog_train['id']==49803]['image'].show()"
   ]
  },
  {
   "cell_type": "code",
   "execution_count": 35,
   "metadata": {},
   "outputs": [
    {
     "data": {
      "text/html": [
       "<pre>Starting pairwise querying.</pre>"
      ],
      "text/plain": [
       "Starting pairwise querying."
      ]
     },
     "metadata": {},
     "output_type": "display_data"
    },
    {
     "data": {
      "text/html": [
       "<pre>+--------------+---------+-------------+--------------+</pre>"
      ],
      "text/plain": [
       "+--------------+---------+-------------+--------------+"
      ]
     },
     "metadata": {},
     "output_type": "display_data"
    },
    {
     "data": {
      "text/html": [
       "<pre>| Query points | # Pairs | % Complete. | Elapsed Time |</pre>"
      ],
      "text/plain": [
       "| Query points | # Pairs | % Complete. | Elapsed Time |"
      ]
     },
     "metadata": {},
     "output_type": "display_data"
    },
    {
     "data": {
      "text/html": [
       "<pre>+--------------+---------+-------------+--------------+</pre>"
      ],
      "text/plain": [
       "+--------------+---------+-------------+--------------+"
      ]
     },
     "metadata": {},
     "output_type": "display_data"
    },
    {
     "data": {
      "text/html": [
       "<pre>| 0            | 1       | 0.196464    | 9.893ms      |</pre>"
      ],
      "text/plain": [
       "| 0            | 1       | 0.196464    | 9.893ms      |"
      ]
     },
     "metadata": {},
     "output_type": "display_data"
    },
    {
     "data": {
      "text/html": [
       "<pre>| Done         |         | 100         | 68.856ms     |</pre>"
      ],
      "text/plain": [
       "| Done         |         | 100         | 68.856ms     |"
      ]
     },
     "metadata": {},
     "output_type": "display_data"
    },
    {
     "data": {
      "text/html": [
       "<pre>+--------------+---------+-------------+--------------+</pre>"
      ],
      "text/plain": [
       "+--------------+---------+-------------+--------------+"
      ]
     },
     "metadata": {},
     "output_type": "display_data"
    },
    {
     "data": {
      "text/plain": [
       "34.95800318170819"
      ]
     },
     "execution_count": 35,
     "metadata": {},
     "output_type": "execute_result"
    }
   ],
   "source": [
    "dog_model.query(dog)['distance'].mean()"
   ]
  },
  {
   "cell_type": "code",
   "execution_count": 36,
   "metadata": {},
   "outputs": [
    {
     "data": {
      "text/html": [
       "<pre>Starting pairwise querying.</pre>"
      ],
      "text/plain": [
       "Starting pairwise querying."
      ]
     },
     "metadata": {},
     "output_type": "display_data"
    },
    {
     "data": {
      "text/html": [
       "<pre>+--------------+---------+-------------+--------------+</pre>"
      ],
      "text/plain": [
       "+--------------+---------+-------------+--------------+"
      ]
     },
     "metadata": {},
     "output_type": "display_data"
    },
    {
     "data": {
      "text/html": [
       "<pre>| Query points | # Pairs | % Complete. | Elapsed Time |</pre>"
      ],
      "text/plain": [
       "| Query points | # Pairs | % Complete. | Elapsed Time |"
      ]
     },
     "metadata": {},
     "output_type": "display_data"
    },
    {
     "data": {
      "text/html": [
       "<pre>+--------------+---------+-------------+--------------+</pre>"
      ],
      "text/plain": [
       "+--------------+---------+-------------+--------------+"
      ]
     },
     "metadata": {},
     "output_type": "display_data"
    },
    {
     "data": {
      "text/html": [
       "<pre>| 0            | 1       | 0.196464    | 9.897ms      |</pre>"
      ],
      "text/plain": [
       "| 0            | 1       | 0.196464    | 9.897ms      |"
      ]
     },
     "metadata": {},
     "output_type": "display_data"
    },
    {
     "data": {
      "text/html": [
       "<pre>| Done         |         | 100         | 60.104ms     |</pre>"
      ],
      "text/plain": [
       "| Done         |         | 100         | 60.104ms     |"
      ]
     },
     "metadata": {},
     "output_type": "display_data"
    },
    {
     "data": {
      "text/html": [
       "<pre>+--------------+---------+-------------+--------------+</pre>"
      ],
      "text/plain": [
       "+--------------+---------+-------------+--------------+"
      ]
     },
     "metadata": {},
     "output_type": "display_data"
    },
    {
     "data": {
      "text/html": [
       "<div style=\"max-height:1000px;max-width:1500px;overflow:auto;\"><table frame=\"box\" rules=\"cols\">\n",
       "    <tr>\n",
       "        <th style=\"padding-left: 1em; padding-right: 1em; text-align: center\">query_label</th>\n",
       "        <th style=\"padding-left: 1em; padding-right: 1em; text-align: center\">reference_label</th>\n",
       "        <th style=\"padding-left: 1em; padding-right: 1em; text-align: center\">distance</th>\n",
       "        <th style=\"padding-left: 1em; padding-right: 1em; text-align: center\">rank</th>\n",
       "    </tr>\n",
       "    <tr>\n",
       "        <td style=\"padding-left: 1em; padding-right: 1em; text-align: center; vertical-align: top\">0</td>\n",
       "        <td style=\"padding-left: 1em; padding-right: 1em; text-align: center; vertical-align: top\">16976</td>\n",
       "        <td style=\"padding-left: 1em; padding-right: 1em; text-align: center; vertical-align: top\">37.4642628784</td>\n",
       "        <td style=\"padding-left: 1em; padding-right: 1em; text-align: center; vertical-align: top\">1</td>\n",
       "    </tr>\n",
       "    <tr>\n",
       "        <td style=\"padding-left: 1em; padding-right: 1em; text-align: center; vertical-align: top\">0</td>\n",
       "        <td style=\"padding-left: 1em; padding-right: 1em; text-align: center; vertical-align: top\">13387</td>\n",
       "        <td style=\"padding-left: 1em; padding-right: 1em; text-align: center; vertical-align: top\">37.5666832169</td>\n",
       "        <td style=\"padding-left: 1em; padding-right: 1em; text-align: center; vertical-align: top\">2</td>\n",
       "    </tr>\n",
       "    <tr>\n",
       "        <td style=\"padding-left: 1em; padding-right: 1em; text-align: center; vertical-align: top\">0</td>\n",
       "        <td style=\"padding-left: 1em; padding-right: 1em; text-align: center; vertical-align: top\">35867</td>\n",
       "        <td style=\"padding-left: 1em; padding-right: 1em; text-align: center; vertical-align: top\">37.6047267079</td>\n",
       "        <td style=\"padding-left: 1em; padding-right: 1em; text-align: center; vertical-align: top\">3</td>\n",
       "    </tr>\n",
       "    <tr>\n",
       "        <td style=\"padding-left: 1em; padding-right: 1em; text-align: center; vertical-align: top\">0</td>\n",
       "        <td style=\"padding-left: 1em; padding-right: 1em; text-align: center; vertical-align: top\">44603</td>\n",
       "        <td style=\"padding-left: 1em; padding-right: 1em; text-align: center; vertical-align: top\">37.7065585153</td>\n",
       "        <td style=\"padding-left: 1em; padding-right: 1em; text-align: center; vertical-align: top\">4</td>\n",
       "    </tr>\n",
       "    <tr>\n",
       "        <td style=\"padding-left: 1em; padding-right: 1em; text-align: center; vertical-align: top\">0</td>\n",
       "        <td style=\"padding-left: 1em; padding-right: 1em; text-align: center; vertical-align: top\">6094</td>\n",
       "        <td style=\"padding-left: 1em; padding-right: 1em; text-align: center; vertical-align: top\">38.5113254907</td>\n",
       "        <td style=\"padding-left: 1em; padding-right: 1em; text-align: center; vertical-align: top\">5</td>\n",
       "    </tr>\n",
       "</table>\n",
       "[5 rows x 4 columns]<br/>\n",
       "</div>"
      ],
      "text/plain": [
       "Columns:\n",
       "\tquery_label\tint\n",
       "\treference_label\tint\n",
       "\tdistance\tfloat\n",
       "\trank\tint\n",
       "\n",
       "Rows: 5\n",
       "\n",
       "Data:\n",
       "+-------------+-----------------+---------------+------+\n",
       "| query_label | reference_label |    distance   | rank |\n",
       "+-------------+-----------------+---------------+------+\n",
       "|      0      |      16976      | 37.4642628784 |  1   |\n",
       "|      0      |      13387      | 37.5666832169 |  2   |\n",
       "|      0      |      35867      | 37.6047267079 |  3   |\n",
       "|      0      |      44603      | 37.7065585153 |  4   |\n",
       "|      0      |       6094      | 38.5113254907 |  5   |\n",
       "+-------------+-----------------+---------------+------+\n",
       "[5 rows x 4 columns]"
      ]
     },
     "execution_count": 36,
     "metadata": {},
     "output_type": "execute_result"
    }
   ],
   "source": [
    "dog_model.query(cat)"
   ]
  },
  {
   "cell_type": "code",
   "execution_count": 38,
   "metadata": {},
   "outputs": [
    {
     "data": {
      "text/html": [
       "<pre>Starting blockwise querying.</pre>"
      ],
      "text/plain": [
       "Starting blockwise querying."
      ]
     },
     "metadata": {},
     "output_type": "display_data"
    },
    {
     "data": {
      "text/html": [
       "<pre>max rows per data block: 4348</pre>"
      ],
      "text/plain": [
       "max rows per data block: 4348"
      ]
     },
     "metadata": {},
     "output_type": "display_data"
    },
    {
     "data": {
      "text/html": [
       "<pre>number of reference data blocks: 4</pre>"
      ],
      "text/plain": [
       "number of reference data blocks: 4"
      ]
     },
     "metadata": {},
     "output_type": "display_data"
    },
    {
     "data": {
      "text/html": [
       "<pre>number of query data blocks: 1</pre>"
      ],
      "text/plain": [
       "number of query data blocks: 1"
      ]
     },
     "metadata": {},
     "output_type": "display_data"
    },
    {
     "data": {
      "text/html": [
       "<pre>+--------------+---------+-------------+--------------+</pre>"
      ],
      "text/plain": [
       "+--------------+---------+-------------+--------------+"
      ]
     },
     "metadata": {},
     "output_type": "display_data"
    },
    {
     "data": {
      "text/html": [
       "<pre>| Query points | # Pairs | % Complete. | Elapsed Time |</pre>"
      ],
      "text/plain": [
       "| Query points | # Pairs | % Complete. | Elapsed Time |"
      ]
     },
     "metadata": {},
     "output_type": "display_data"
    },
    {
     "data": {
      "text/html": [
       "<pre>+--------------+---------+-------------+--------------+</pre>"
      ],
      "text/plain": [
       "+--------------+---------+-------------+--------------+"
      ]
     },
     "metadata": {},
     "output_type": "display_data"
    },
    {
     "data": {
      "text/html": [
       "<pre>| 1000         | 127000  | 24.9509     | 340.195ms    |</pre>"
      ],
      "text/plain": [
       "| 1000         | 127000  | 24.9509     | 340.195ms    |"
      ]
     },
     "metadata": {},
     "output_type": "display_data"
    },
    {
     "data": {
      "text/html": [
       "<pre>| Done         | 509000  | 100         | 363.22ms     |</pre>"
      ],
      "text/plain": [
       "| Done         | 509000  | 100         | 363.22ms     |"
      ]
     },
     "metadata": {},
     "output_type": "display_data"
    },
    {
     "data": {
      "text/html": [
       "<pre>+--------------+---------+-------------+--------------+</pre>"
      ],
      "text/plain": [
       "+--------------+---------+-------------+--------------+"
      ]
     },
     "metadata": {},
     "output_type": "display_data"
    }
   ],
   "source": [
    "dog_cat_neighbors = cat_model.query(dog_test, k=1)"
   ]
  },
  {
   "cell_type": "code",
   "execution_count": 39,
   "metadata": {},
   "outputs": [
    {
     "data": {
      "text/html": [
       "<div style=\"max-height:1000px;max-width:1500px;overflow:auto;\"><table frame=\"box\" rules=\"cols\">\n",
       "    <tr>\n",
       "        <th style=\"padding-left: 1em; padding-right: 1em; text-align: center\">query_label</th>\n",
       "        <th style=\"padding-left: 1em; padding-right: 1em; text-align: center\">reference_label</th>\n",
       "        <th style=\"padding-left: 1em; padding-right: 1em; text-align: center\">distance</th>\n",
       "        <th style=\"padding-left: 1em; padding-right: 1em; text-align: center\">rank</th>\n",
       "    </tr>\n",
       "    <tr>\n",
       "        <td style=\"padding-left: 1em; padding-right: 1em; text-align: center; vertical-align: top\">0</td>\n",
       "        <td style=\"padding-left: 1em; padding-right: 1em; text-align: center; vertical-align: top\">33</td>\n",
       "        <td style=\"padding-left: 1em; padding-right: 1em; text-align: center; vertical-align: top\">36.4196077068</td>\n",
       "        <td style=\"padding-left: 1em; padding-right: 1em; text-align: center; vertical-align: top\">1</td>\n",
       "    </tr>\n",
       "    <tr>\n",
       "        <td style=\"padding-left: 1em; padding-right: 1em; text-align: center; vertical-align: top\">1</td>\n",
       "        <td style=\"padding-left: 1em; padding-right: 1em; text-align: center; vertical-align: top\">30606</td>\n",
       "        <td style=\"padding-left: 1em; padding-right: 1em; text-align: center; vertical-align: top\">38.8353268874</td>\n",
       "        <td style=\"padding-left: 1em; padding-right: 1em; text-align: center; vertical-align: top\">1</td>\n",
       "    </tr>\n",
       "    <tr>\n",
       "        <td style=\"padding-left: 1em; padding-right: 1em; text-align: center; vertical-align: top\">2</td>\n",
       "        <td style=\"padding-left: 1em; padding-right: 1em; text-align: center; vertical-align: top\">5545</td>\n",
       "        <td style=\"padding-left: 1em; padding-right: 1em; text-align: center; vertical-align: top\">36.9763410854</td>\n",
       "        <td style=\"padding-left: 1em; padding-right: 1em; text-align: center; vertical-align: top\">1</td>\n",
       "    </tr>\n",
       "    <tr>\n",
       "        <td style=\"padding-left: 1em; padding-right: 1em; text-align: center; vertical-align: top\">3</td>\n",
       "        <td style=\"padding-left: 1em; padding-right: 1em; text-align: center; vertical-align: top\">19631</td>\n",
       "        <td style=\"padding-left: 1em; padding-right: 1em; text-align: center; vertical-align: top\">34.5750072914</td>\n",
       "        <td style=\"padding-left: 1em; padding-right: 1em; text-align: center; vertical-align: top\">1</td>\n",
       "    </tr>\n",
       "    <tr>\n",
       "        <td style=\"padding-left: 1em; padding-right: 1em; text-align: center; vertical-align: top\">4</td>\n",
       "        <td style=\"padding-left: 1em; padding-right: 1em; text-align: center; vertical-align: top\">7493</td>\n",
       "        <td style=\"padding-left: 1em; padding-right: 1em; text-align: center; vertical-align: top\">34.778824791</td>\n",
       "        <td style=\"padding-left: 1em; padding-right: 1em; text-align: center; vertical-align: top\">1</td>\n",
       "    </tr>\n",
       "    <tr>\n",
       "        <td style=\"padding-left: 1em; padding-right: 1em; text-align: center; vertical-align: top\">5</td>\n",
       "        <td style=\"padding-left: 1em; padding-right: 1em; text-align: center; vertical-align: top\">47044</td>\n",
       "        <td style=\"padding-left: 1em; padding-right: 1em; text-align: center; vertical-align: top\">35.1171578292</td>\n",
       "        <td style=\"padding-left: 1em; padding-right: 1em; text-align: center; vertical-align: top\">1</td>\n",
       "    </tr>\n",
       "    <tr>\n",
       "        <td style=\"padding-left: 1em; padding-right: 1em; text-align: center; vertical-align: top\">6</td>\n",
       "        <td style=\"padding-left: 1em; padding-right: 1em; text-align: center; vertical-align: top\">13918</td>\n",
       "        <td style=\"padding-left: 1em; padding-right: 1em; text-align: center; vertical-align: top\">40.6095830913</td>\n",
       "        <td style=\"padding-left: 1em; padding-right: 1em; text-align: center; vertical-align: top\">1</td>\n",
       "    </tr>\n",
       "    <tr>\n",
       "        <td style=\"padding-left: 1em; padding-right: 1em; text-align: center; vertical-align: top\">7</td>\n",
       "        <td style=\"padding-left: 1em; padding-right: 1em; text-align: center; vertical-align: top\">10981</td>\n",
       "        <td style=\"padding-left: 1em; padding-right: 1em; text-align: center; vertical-align: top\">39.9036867306</td>\n",
       "        <td style=\"padding-left: 1em; padding-right: 1em; text-align: center; vertical-align: top\">1</td>\n",
       "    </tr>\n",
       "    <tr>\n",
       "        <td style=\"padding-left: 1em; padding-right: 1em; text-align: center; vertical-align: top\">8</td>\n",
       "        <td style=\"padding-left: 1em; padding-right: 1em; text-align: center; vertical-align: top\">45456</td>\n",
       "        <td style=\"padding-left: 1em; padding-right: 1em; text-align: center; vertical-align: top\">38.0674700168</td>\n",
       "        <td style=\"padding-left: 1em; padding-right: 1em; text-align: center; vertical-align: top\">1</td>\n",
       "    </tr>\n",
       "    <tr>\n",
       "        <td style=\"padding-left: 1em; padding-right: 1em; text-align: center; vertical-align: top\">9</td>\n",
       "        <td style=\"padding-left: 1em; padding-right: 1em; text-align: center; vertical-align: top\">44673</td>\n",
       "        <td style=\"padding-left: 1em; padding-right: 1em; text-align: center; vertical-align: top\">42.7258732951</td>\n",
       "        <td style=\"padding-left: 1em; padding-right: 1em; text-align: center; vertical-align: top\">1</td>\n",
       "    </tr>\n",
       "</table>\n",
       "[10 rows x 4 columns]<br/>\n",
       "</div>"
      ],
      "text/plain": [
       "Columns:\n",
       "\tquery_label\tint\n",
       "\treference_label\tint\n",
       "\tdistance\tfloat\n",
       "\trank\tint\n",
       "\n",
       "Rows: 10\n",
       "\n",
       "Data:\n",
       "+-------------+-----------------+---------------+------+\n",
       "| query_label | reference_label |    distance   | rank |\n",
       "+-------------+-----------------+---------------+------+\n",
       "|      0      |        33       | 36.4196077068 |  1   |\n",
       "|      1      |      30606      | 38.8353268874 |  1   |\n",
       "|      2      |       5545      | 36.9763410854 |  1   |\n",
       "|      3      |      19631      | 34.5750072914 |  1   |\n",
       "|      4      |       7493      |  34.778824791 |  1   |\n",
       "|      5      |      47044      | 35.1171578292 |  1   |\n",
       "|      6      |      13918      | 40.6095830913 |  1   |\n",
       "|      7      |      10981      | 39.9036867306 |  1   |\n",
       "|      8      |      45456      | 38.0674700168 |  1   |\n",
       "|      9      |      44673      | 42.7258732951 |  1   |\n",
       "+-------------+-----------------+---------------+------+\n",
       "[10 rows x 4 columns]"
      ]
     },
     "execution_count": 39,
     "metadata": {},
     "output_type": "execute_result"
    }
   ],
   "source": [
    "dog_cat_neighbors.head()"
   ]
  },
  {
   "cell_type": "code",
   "execution_count": null,
   "metadata": {},
   "outputs": [],
   "source": []
  }
 ],
 "metadata": {
  "kernelspec": {
   "display_name": "Python 2",
   "language": "python",
   "name": "python2"
  },
  "language_info": {
   "codemirror_mode": {
    "name": "ipython",
    "version": 2
   },
   "file_extension": ".py",
   "mimetype": "text/x-python",
   "name": "python",
   "nbconvert_exporter": "python",
   "pygments_lexer": "ipython2",
   "version": "2.7.15"
  }
 },
 "nbformat": 4,
 "nbformat_minor": 2
}
